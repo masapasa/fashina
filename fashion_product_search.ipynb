{
  "cells": [
    {
      "cell_type": "code",
      "execution_count": 1,
      "metadata": {
        "colab": {
          "base_uri": "https://localhost:8080/"
        },
        "id": "r-dNxUGqEVzS",
        "outputId": "8ab65e78-fb52-447a-8898-0d84fe747ae2"
      },
      "outputs": [],
      "source": [
        "import os\n",
        "import glob\n",
        "\n",
        "import pandas as pd\n",
        "\n",
        "from PIL import Image\n",
        "from jina import Document, DocumentArray\n",
        "\n",
        "from matplotlib import pyplot as plt\n",
        "from matplotlib.pyplot import imshow\n",
        "\n",
        "from annlite import AnnLite\n",
        "\n",
        "os.environ['JINA_LOG_LEVEL'] = 'DEBUG'"
      ]
    },
    {
      "cell_type": "code",
      "execution_count": 3,
      "metadata": {
        "colab": {
          "base_uri": "https://localhost:8080/"
        },
        "id": "hpaJlIQ-u93z",
        "outputId": "dd1ff1a2-6ebd-40a1-a81b-f1f739ad9d61"
      },
      "outputs": [
        {
          "name": "stderr",
          "output_type": "stream",
          "text": [
            "\u001b[1;33mFutureWarning: The error_bad_lines argument has been deprecated and will be removed in a future version. Use on_bad_lines in the future.\n",
            "\n",
            "\u001b[0m \u001b[1;30m(raised from /tmp/ipykernel_9811/1776761893.py:3)\u001b[0m\n",
            "\u001b[1;33mFutureWarning: The warn_bad_lines argument has been deprecated and will be removed in a future version. Use on_bad_lines in the future.\n",
            "\n",
            "\u001b[0m \u001b[1;30m(raised from /tmp/ipykernel_9811/1776761893.py:3)\u001b[0m\n",
            "b'Skipping line 6044: expected 10 fields, saw 11\\nSkipping line 6569: expected 10 fields, saw 11\\nSkipping line 7399: expected 10 fields, saw 11\\nSkipping line 7939: expected 10 fields, saw 11\\nSkipping line 9026: expected 10 fields, saw 11\\nSkipping line 10264: expected 10 fields, saw 11\\nSkipping line 10427: expected 10 fields, saw 11\\nSkipping line 10905: expected 10 fields, saw 11\\nSkipping line 11373: expected 10 fields, saw 11\\nSkipping line 11945: expected 10 fields, saw 11\\nSkipping line 14112: expected 10 fields, saw 11\\nSkipping line 14532: expected 10 fields, saw 11\\nSkipping line 15076: expected 10 fields, saw 12\\nSkipping line 29906: expected 10 fields, saw 11\\nSkipping line 31625: expected 10 fields, saw 11\\nSkipping line 33020: expected 10 fields, saw 11\\nSkipping line 35748: expected 10 fields, saw 11\\nSkipping line 35962: expected 10 fields, saw 11\\nSkipping line 37770: expected 10 fields, saw 11\\nSkipping line 38105: expected 10 fields, saw 11\\nSkipping line 38275: expected 10 fields, saw 11\\nSkipping line 38404: expected 10 fields, saw 12\\n'\n"
          ]
        }
      ],
      "source": [
        "MAX_NUM_DOCS = 200\n",
        "\n",
        "df = pd.read_csv('/home/aswin/data/archive/styles.csv', warn_bad_lines=True, error_bad_lines=False)\n",
        "df = df.dropna()\n",
        "df['year'] = df['year'].astype(int)"
      ]
    },
    {
      "cell_type": "code",
      "execution_count": 4,
      "metadata": {
        "id": "ATITPHWAvHzV"
      },
      "outputs": [],
      "source": [
        "import os\n",
        "\n",
        "def get_product_docs(max_num: int = MAX_NUM_DOCS):\n",
        "    da = DocumentArray()\n",
        "    for index, row in df.iterrows():\n",
        "        doc_id = row.pop('id')\n",
        "        doc_uri = f'/home/aswin/Data/archive/images/{doc_id}.jpg'\n",
        "        if not os.path.exists(doc_uri):\n",
        "            continue\n",
        "\n",
        "        doc = Document(id=str(doc_id), uri=doc_uri, tags=dict(row))\n",
        "        da.append(doc)\n",
        "        if len(da) == max_num:\n",
        "            break\n",
        "    \n",
        "    return da"
      ]
    },
    {
      "cell_type": "code",
      "execution_count": 5,
      "metadata": {
        "colab": {
          "base_uri": "https://localhost:8080/",
          "height": 337
        },
        "id": "Ilbu6gwMvUEO",
        "outputId": "252e86dc-be9d-4078-d3a7-5b9d6872abf8"
      },
      "outputs": [],
      "source": [
        "docs = get_product_docs(500)"
      ]
    },
    {
      "cell_type": "code",
      "execution_count": 6,
      "metadata": {
        "colab": {
          "base_uri": "https://localhost:8080/",
          "height": 281
        },
        "id": "YKG4TgKDvn-l",
        "outputId": "da73230d-67b2-44c6-8377-28db2d292e36"
      },
      "outputs": [
        {
          "data": {
            "text/html": [
              "<pre style=\"white-space:pre;overflow-x:auto;line-height:normal;font-family:Menlo,'DejaVu Sans Mono',consolas,'Courier New',monospace\">\n",
              "</pre>\n"
            ],
            "text/plain": [
              "\n"
            ]
          },
          "metadata": {},
          "output_type": "display_data"
        },
        {
          "data": {
            "text/html": [
              "<pre style=\"white-space:pre;overflow-x:auto;line-height:normal;font-family:Menlo,'DejaVu Sans Mono',consolas,'Courier New',monospace\">╭─────── Documents Summary ────────╮\n",
              "│                                  │\n",
              "│   Length                 <span style=\"color: #008080; text-decoration-color: #008080; font-weight: bold\">0</span>       │\n",
              "│   Homogenous Documents   <span style=\"color: #ff0000; text-decoration-color: #ff0000; font-style: italic\">False</span>   │\n",
              "│   Multimodal dataclass   <span style=\"color: #00ff00; text-decoration-color: #00ff00; font-style: italic\">True</span>    │\n",
              "│                                  │\n",
              "╰──────────────────────────────────╯\n",
              "</pre>\n"
            ],
            "text/plain": [
              "╭─────── Documents Summary ────────╮\n",
              "│                                  │\n",
              "│   Length                 \u001b[1;36m0\u001b[0m       │\n",
              "│   Homogenous Documents   \u001b[3;91mFalse\u001b[0m   │\n",
              "│   Multimodal dataclass   \u001b[3;92mTrue\u001b[0m    │\n",
              "│                                  │\n",
              "╰──────────────────────────────────╯\n"
            ]
          },
          "metadata": {},
          "output_type": "display_data"
        }
      ],
      "source": [
        "def preproc(d: Document):\n",
        "    return (d.load_uri_to_image_tensor()  # load\n",
        "             .set_image_tensor_normalization()  # normalize color \n",
        "             .set_image_tensor_channel_axis(-1, 0))  # switch color axis\n",
        "\n",
        "docs.apply(preproc)"
      ]
    },
    {
      "cell_type": "code",
      "execution_count": 7,
      "metadata": {},
      "outputs": [],
      "source": [
        "for doc in docs:\n",
        "  doc.set_image_tensor_normalization()"
      ]
    },
    {
      "cell_type": "code",
      "execution_count": 18,
      "metadata": {},
      "outputs": [],
      "source": [
        " from clip_client import Client\n",
        "\n",
        " c = Client('grpc://0.0.0.0:51000')"
      ]
    },
    {
      "cell_type": "code",
      "execution_count": null,
      "metadata": {},
      "outputs": [],
      "source": [
        "r = c.encode(['First do it', 'then do it right', 'then do it better'])\n",
        "\n",
        "print(r.shape)"
      ]
    },
    {
      "cell_type": "code",
      "execution_count": 17,
      "metadata": {},
      "outputs": [
        {
          "data": {
            "text/html": [
              "<pre style=\"white-space:pre;overflow-x:auto;line-height:normal;font-family:Menlo,'DejaVu Sans Mono',consolas,'Courier New',monospace\"><span style=\"color: #008000; text-decoration-color: #008000\">DEBUG </span> <span style=\"color: #7f7f7f; text-decoration-color: #7f7f7f\">GRPCClient@</span><span style=\"color: #7fbfbf; text-decoration-color: #7fbfbf; font-weight: bold\">9811</span> connected to <span style=\"color: #00ff00; text-decoration-color: #00ff00; font-weight: bold\">185.199.104.22</span>:<span style=\"color: #008080; text-decoration-color: #008080; font-weight: bold\">51000</span>                                        <span style=\"color: #7f7f7f; text-decoration-color: #7f7f7f\">[08/16/22 19:17:35]</span>\n",
              "</pre>\n"
            ],
            "text/plain": [
              "\u001b[32mDEBUG \u001b[0m \u001b[2mGRPCClient@\u001b[0m\u001b[1;2;36m9811\u001b[0m connected to \u001b[1;92m185.199.104.22\u001b[0m:\u001b[1;36m51000\u001b[0m                                        \u001b[2m[08/16/22 19:17:35]\u001b[0m\n"
            ]
          },
          "metadata": {},
          "output_type": "display_data"
        },
        {
          "data": {
            "text/html": [
              "<pre style=\"white-space:pre;overflow-x:auto;line-height:normal;font-family:Menlo,'DejaVu Sans Mono',consolas,'Courier New',monospace\">\n",
              "</pre>\n"
            ],
            "text/plain": [
              "\n"
            ]
          },
          "metadata": {},
          "output_type": "display_data"
        },
        {
          "data": {
            "text/html": [
              "<pre style=\"white-space:pre;overflow-x:auto;line-height:normal;font-family:Menlo,'DejaVu Sans Mono',consolas,'Courier New',monospace\"><span style=\"color: #800000; text-decoration-color: #800000; font-weight: bold\">ERROR </span> <span style=\"color: #7f7f7f; text-decoration-color: #7f7f7f\">GRPCClient@</span><span style=\"color: #7fbfbf; text-decoration-color: #7fbfbf; font-weight: bold\">9811</span> gRPC error: StatusCode.UNAVAILABLE failed to connect to all addresses    <span style=\"color: #7f7f7f; text-decoration-color: #7f7f7f\">                   </span>\n",
              "       The ongoing request is terminated as the server is not available or closed already.      <span style=\"color: #7f7f7f; text-decoration-color: #7f7f7f\">                   </span>\n",
              "</pre>\n"
            ],
            "text/plain": [
              "\u001b[1;31mERROR \u001b[0m \u001b[2mGRPCClient@\u001b[0m\u001b[1;2;36m9811\u001b[0m gRPC error: StatusCode.UNAVAILABLE failed to connect to all addresses    \u001b[2m                   \u001b[0m\n",
              "       The ongoing request is terminated as the server is not available or closed already.      \u001b[2m                   \u001b[0m\n"
            ]
          },
          "metadata": {},
          "output_type": "display_data"
        },
        {
          "name": "stderr",
          "output_type": "stream",
          "text": [
            "Exception in thread Thread-35:\n",
            "Traceback (most recent call last):\n",
            "  File \"/home/aswin/anaconda3/envs/jina/lib/python3.9/threading.py\", line 973, in _bootstrap_inner\n",
            "    self.run()\n",
            "  File \"/home/aswin/anaconda3/envs/jina/lib/python3.9/site-packages/jina/helper.py\", line 1292, in run\n",
            "    self.result = asyncio.run(func(*args, **kwargs))\n",
            "  File \"/home/aswin/anaconda3/envs/jina/lib/python3.9/asyncio/runners.py\", line 44, in run\n",
            "    return loop.run_until_complete(main)\n",
            "  File \"/home/aswin/anaconda3/envs/jina/lib/python3.9/asyncio/base_events.py\", line 647, in run_until_complete\n",
            "    return future.result()\n",
            "  File \"/home/aswin/anaconda3/envs/jina/lib/python3.9/site-packages/jina/clients/mixin.py\", line 176, in _get_results\n",
            "    async for resp in c._get_results(*args, **kwargs):\n",
            "  File \"/home/aswin/anaconda3/envs/jina/lib/python3.9/site-packages/jina/clients/base/grpc.py\", line 115, in _get_results\n",
            "    raise ConnectionError(my_details) from None\n",
            "ConnectionError: failed to connect to all addresses\n"
          ]
        },
        {
          "data": {
            "text/html": [
              "<pre style=\"white-space:pre;overflow-x:auto;line-height:normal;font-family:Menlo,'DejaVu Sans Mono',consolas,'Courier New',monospace\">\n",
              "</pre>\n"
            ],
            "text/plain": [
              "\n"
            ]
          },
          "metadata": {},
          "output_type": "display_data"
        },
        {
          "ename": "BadClient",
          "evalue": "something wrong when running the eventloop, result can not be retrieved",
          "output_type": "error",
          "traceback": [
            "\u001b[0;31m---------------------------------------------------------------------------\u001b[0m",
            "\u001b[0;31mAttributeError\u001b[0m                            Traceback (most recent call last)",
            "File \u001b[0;32m~/anaconda3/envs/jina/lib/python3.9/site-packages/jina/helper.py:1307\u001b[0m, in \u001b[0;36mrun_async\u001b[0;34m(func, *args, **kwargs)\u001b[0m\n\u001b[1;32m   1306\u001b[0m \u001b[39mtry\u001b[39;00m:\n\u001b[0;32m-> 1307\u001b[0m     \u001b[39mreturn\u001b[39;00m thread\u001b[39m.\u001b[39;49mresult\n\u001b[1;32m   1308\u001b[0m \u001b[39mexcept\u001b[39;00m \u001b[39mAttributeError\u001b[39;00m:\n",
            "\u001b[0;31mAttributeError\u001b[0m: '_RunThread' object has no attribute 'result'",
            "\nDuring handling of the above exception, another exception occurred:\n",
            "\u001b[0;31mBadClient\u001b[0m                                 Traceback (most recent call last)",
            "\u001b[1;32m/home/aswin/Documents/fashina/fashion_product_search.ipynb Cell 7\u001b[0m in \u001b[0;36m<cell line: 5>\u001b[0;34m()\u001b[0m\n\u001b[1;32m      <a href='vscode-notebook-cell:/home/aswin/Documents/fashina/fashion_product_search.ipynb#X25sZmlsZQ%3D%3D?line=0'>1</a>\u001b[0m \u001b[39mfrom\u001b[39;00m \u001b[39mclip_client\u001b[39;00m \u001b[39mimport\u001b[39;00m Client\n\u001b[1;32m      <a href='vscode-notebook-cell:/home/aswin/Documents/fashina/fashion_product_search.ipynb#X25sZmlsZQ%3D%3D?line=2'>3</a>\u001b[0m c \u001b[39m=\u001b[39m Client(\u001b[39m'\u001b[39m\u001b[39mgrpc://185.199.104.22:51000\u001b[39m\u001b[39m'\u001b[39m)\n\u001b[0;32m----> <a href='vscode-notebook-cell:/home/aswin/Documents/fashina/fashion_product_search.ipynb#X25sZmlsZQ%3D%3D?line=4'>5</a>\u001b[0m docs \u001b[39m=\u001b[39m c\u001b[39m.\u001b[39;49mencode(docs)\n",
            "File \u001b[0;32m~/anaconda3/envs/jina/lib/python3.9/site-packages/clip_client/client.py:118\u001b[0m, in \u001b[0;36mClient.encode\u001b[0;34m(self, content, **kwargs)\u001b[0m\n\u001b[1;32m    116\u001b[0m results \u001b[39m=\u001b[39m DocumentArray()\n\u001b[1;32m    117\u001b[0m \u001b[39mwith\u001b[39;00m \u001b[39mself\u001b[39m\u001b[39m.\u001b[39m_pbar:\n\u001b[0;32m--> 118\u001b[0m     \u001b[39mself\u001b[39;49m\u001b[39m.\u001b[39;49m_client\u001b[39m.\u001b[39;49mpost(\n\u001b[1;32m    119\u001b[0m         \u001b[39m*\u001b[39;49m\u001b[39m*\u001b[39;49m\u001b[39mself\u001b[39;49m\u001b[39m.\u001b[39;49m_get_post_payload(content, kwargs),\n\u001b[1;32m    120\u001b[0m         on_done\u001b[39m=\u001b[39;49mpartial(\u001b[39mself\u001b[39;49m\u001b[39m.\u001b[39;49m_gather_result, results\u001b[39m=\u001b[39;49mresults),\n\u001b[1;32m    121\u001b[0m     )\n\u001b[1;32m    122\u001b[0m \u001b[39mreturn\u001b[39;00m \u001b[39mself\u001b[39m\u001b[39m.\u001b[39m_unboxed_result(results)\n",
            "File \u001b[0;32m~/anaconda3/envs/jina/lib/python3.9/site-packages/jina/clients/mixin.py:185\u001b[0m, in \u001b[0;36mPostMixin.post\u001b[0;34m(self, on, inputs, on_done, on_error, on_always, parameters, target_executor, request_size, show_progress, continue_on_error, return_responses, **kwargs)\u001b[0m\n\u001b[1;32m    182\u001b[0m     \u001b[39mif\u001b[39;00m return_results:\n\u001b[1;32m    183\u001b[0m         \u001b[39mreturn\u001b[39;00m result\n\u001b[0;32m--> 185\u001b[0m \u001b[39mreturn\u001b[39;00m run_async(\n\u001b[1;32m    186\u001b[0m     _get_results,\n\u001b[1;32m    187\u001b[0m     inputs\u001b[39m=\u001b[39;49minputs,\n\u001b[1;32m    188\u001b[0m     on_done\u001b[39m=\u001b[39;49mon_done,\n\u001b[1;32m    189\u001b[0m     on_error\u001b[39m=\u001b[39;49mon_error,\n\u001b[1;32m    190\u001b[0m     on_always\u001b[39m=\u001b[39;49mon_always,\n\u001b[1;32m    191\u001b[0m     exec_endpoint\u001b[39m=\u001b[39;49mon,\n\u001b[1;32m    192\u001b[0m     target_executor\u001b[39m=\u001b[39;49mtarget_executor,\n\u001b[1;32m    193\u001b[0m     parameters\u001b[39m=\u001b[39;49mparameters,\n\u001b[1;32m    194\u001b[0m     request_size\u001b[39m=\u001b[39;49mrequest_size,\n\u001b[1;32m    195\u001b[0m     \u001b[39m*\u001b[39;49m\u001b[39m*\u001b[39;49mkwargs,\n\u001b[1;32m    196\u001b[0m )\n",
            "File \u001b[0;32m~/anaconda3/envs/jina/lib/python3.9/site-packages/jina/helper.py:1311\u001b[0m, in \u001b[0;36mrun_async\u001b[0;34m(func, *args, **kwargs)\u001b[0m\n\u001b[1;32m   1308\u001b[0m     \u001b[39mexcept\u001b[39;00m \u001b[39mAttributeError\u001b[39;00m:\n\u001b[1;32m   1309\u001b[0m         \u001b[39mfrom\u001b[39;00m \u001b[39mjina\u001b[39;00m\u001b[39m.\u001b[39;00m\u001b[39mexcepts\u001b[39;00m \u001b[39mimport\u001b[39;00m BadClient\n\u001b[0;32m-> 1311\u001b[0m         \u001b[39mraise\u001b[39;00m BadClient(\n\u001b[1;32m   1312\u001b[0m             \u001b[39m'\u001b[39m\u001b[39msomething wrong when running the eventloop, result can not be retrieved\u001b[39m\u001b[39m'\u001b[39m\n\u001b[1;32m   1313\u001b[0m         )\n\u001b[1;32m   1314\u001b[0m \u001b[39melse\u001b[39;00m:\n\u001b[1;32m   1316\u001b[0m     \u001b[39mraise\u001b[39;00m \u001b[39mRuntimeError\u001b[39;00m(\n\u001b[1;32m   1317\u001b[0m         \u001b[39m'\u001b[39m\u001b[39myou have an eventloop running but not using Jupyter/ipython, \u001b[39m\u001b[39m'\u001b[39m\n\u001b[1;32m   1318\u001b[0m         \u001b[39m'\u001b[39m\u001b[39mthis may mean you are using Jina with other integration? if so, then you \u001b[39m\u001b[39m'\u001b[39m\n\u001b[1;32m   1319\u001b[0m         \u001b[39m'\u001b[39m\u001b[39mmay want to use Client/Flow(asyncio=True). If not, then \u001b[39m\u001b[39m'\u001b[39m\n\u001b[1;32m   1320\u001b[0m         \u001b[39m'\u001b[39m\u001b[39mplease report this issue here: https://github.com/jina-ai/jina\u001b[39m\u001b[39m'\u001b[39m\n\u001b[1;32m   1321\u001b[0m     )\n",
            "\u001b[0;31mBadClient\u001b[0m: something wrong when running the eventloop, result can not be retrieved"
          ]
        }
      ],
      "source": [
        "from clip_client import Client\n",
        "\n",
        "c = Client('grpc://185.199.104.22:51000')\n",
        "\n",
        "docs = c.encode(docs)"
      ]
    },
    {
      "cell_type": "code",
      "execution_count": 6,
      "metadata": {
        "colab": {
          "base_uri": "https://localhost:8080/",
          "height": 297
        },
        "id": "H-vsMHXDx8ep",
        "outputId": "76c9487e-4a17-433e-a94f-5e35015fdffa"
      },
      "outputs": [
        {
          "name": "stderr",
          "output_type": "stream",
          "text": [
            "\u001b[1;33mUserWarning: The parameter 'pretrained' is deprecated since 0.13 and will be removed in 0.15, please use 'weights' instead.\u001b[0m \u001b[1;30m(raised from /home/aswin/anaconda3/envs/jina/lib/python3.9/site-packages/torchvision/models/_utils.py:208)\u001b[0m\n",
            "\u001b[1;33mUserWarning: Arguments other than a weight enum or `None` for 'weights' are deprecated since 0.13 and will be removed in 0.15. The current behavior is equivalent to passing `weights=ResNet50_Weights.IMAGENET1K_V1`. You can also use `weights=ResNet50_Weights.DEFAULT` to get the most up-to-date weights.\u001b[0m \u001b[1;30m(raised from /home/aswin/anaconda3/envs/jina/lib/python3.9/site-packages/torchvision/models/_utils.py:223)\u001b[0m\n"
          ]
        },
        {
          "data": {
            "text/html": [
              "<pre style=\"white-space:pre;overflow-x:auto;line-height:normal;font-family:Menlo,'DejaVu Sans Mono',consolas,'Courier New',monospace\">╭───────────────────────────────── Documents Summary ──────────────────────────────────╮\n",
              "│                                                                                      │\n",
              "│   Length                 <span style=\"color: #008080; text-decoration-color: #008080; font-weight: bold\">500</span>                                                         │\n",
              "│   Homogenous Documents   <span style=\"color: #00ff00; text-decoration-color: #00ff00; font-style: italic\">True</span>                                                        │\n",
              "│   Common Attributes      <span style=\"font-weight: bold\">(</span><span style=\"color: #008000; text-decoration-color: #008000\">'id'</span>, <span style=\"color: #008000; text-decoration-color: #008000\">'tensor'</span>, <span style=\"color: #008000; text-decoration-color: #008000\">'mime_type'</span>, <span style=\"color: #008000; text-decoration-color: #008000\">'uri'</span>, <span style=\"color: #008000; text-decoration-color: #008000\">'tags'</span>, <span style=\"color: #008000; text-decoration-color: #008000\">'embedding'</span><span style=\"font-weight: bold\">)</span>   │\n",
              "│   Multimodal dataclass   <span style=\"color: #ff0000; text-decoration-color: #ff0000; font-style: italic\">False</span>                                                       │\n",
              "│                                                                                      │\n",
              "╰──────────────────────────────────────────────────────────────────────────────────────╯\n",
              "╭────────────────────── Attributes Summary ───────────────────────╮\n",
              "│                                                                 │\n",
              "│  <span style=\"font-weight: bold\"> Attribute </span> <span style=\"font-weight: bold\"> Data type    </span> <span style=\"font-weight: bold\"> #Unique values </span> <span style=\"font-weight: bold\"> Has empty value </span>  │\n",
              "│  ─────────────────────────────────────────────────────────────  │\n",
              "│   embedding   <span style=\"font-weight: bold\">(</span><span style=\"color: #008000; text-decoration-color: #008000\">'ndarray'</span>,<span style=\"font-weight: bold\">)</span>   <span style=\"color: #008080; text-decoration-color: #008080; font-weight: bold\">500</span>              <span style=\"color: #ff0000; text-decoration-color: #ff0000; font-style: italic\">False</span>             │\n",
              "│   id          <span style=\"font-weight: bold\">(</span><span style=\"color: #008000; text-decoration-color: #008000\">'str'</span>,<span style=\"font-weight: bold\">)</span>       <span style=\"color: #008080; text-decoration-color: #008080; font-weight: bold\">500</span>              <span style=\"color: #ff0000; text-decoration-color: #ff0000; font-style: italic\">False</span>             │\n",
              "│   mime_type   <span style=\"font-weight: bold\">(</span><span style=\"color: #008000; text-decoration-color: #008000\">'str'</span>,<span style=\"font-weight: bold\">)</span>       <span style=\"color: #008080; text-decoration-color: #008080; font-weight: bold\">1</span>                <span style=\"color: #ff0000; text-decoration-color: #ff0000; font-style: italic\">False</span>             │\n",
              "│   tags        <span style=\"font-weight: bold\">(</span><span style=\"color: #008000; text-decoration-color: #008000\">'dict'</span>,<span style=\"font-weight: bold\">)</span>      <span style=\"color: #008080; text-decoration-color: #008080; font-weight: bold\">500</span>              <span style=\"color: #ff0000; text-decoration-color: #ff0000; font-style: italic\">False</span>             │\n",
              "│   tensor      <span style=\"font-weight: bold\">(</span><span style=\"color: #008000; text-decoration-color: #008000\">'ndarray'</span>,<span style=\"font-weight: bold\">)</span>   <span style=\"color: #008080; text-decoration-color: #008080; font-weight: bold\">500</span>              <span style=\"color: #ff0000; text-decoration-color: #ff0000; font-style: italic\">False</span>             │\n",
              "│   uri         <span style=\"font-weight: bold\">(</span><span style=\"color: #008000; text-decoration-color: #008000\">'str'</span>,<span style=\"font-weight: bold\">)</span>       <span style=\"color: #008080; text-decoration-color: #008080; font-weight: bold\">500</span>              <span style=\"color: #ff0000; text-decoration-color: #ff0000; font-style: italic\">False</span>             │\n",
              "│                                                                 │\n",
              "╰─────────────────────────────────────────────────────────────────╯\n",
              "</pre>\n"
            ],
            "text/plain": [
              "╭───────────────────────────────── Documents Summary ──────────────────────────────────╮\n",
              "│                                                                                      │\n",
              "│   Length                 \u001b[1;36m500\u001b[0m                                                         │\n",
              "│   Homogenous Documents   \u001b[3;92mTrue\u001b[0m                                                        │\n",
              "│   Common Attributes      \u001b[1m(\u001b[0m\u001b[32m'id'\u001b[0m, \u001b[32m'tensor'\u001b[0m, \u001b[32m'mime_type'\u001b[0m, \u001b[32m'uri'\u001b[0m, \u001b[32m'tags'\u001b[0m, \u001b[32m'embedding'\u001b[0m\u001b[1m)\u001b[0m   │\n",
              "│   Multimodal dataclass   \u001b[3;91mFalse\u001b[0m                                                       │\n",
              "│                                                                                      │\n",
              "╰──────────────────────────────────────────────────────────────────────────────────────╯\n",
              "╭────────────────────── Attributes Summary ───────────────────────╮\n",
              "│                                                                 │\n",
              "│  \u001b[1m \u001b[0m\u001b[1mAttribute\u001b[0m\u001b[1m \u001b[0m \u001b[1m \u001b[0m\u001b[1mData type   \u001b[0m\u001b[1m \u001b[0m \u001b[1m \u001b[0m\u001b[1m#Unique values\u001b[0m\u001b[1m \u001b[0m \u001b[1m \u001b[0m\u001b[1mHas empty value\u001b[0m\u001b[1m \u001b[0m  │\n",
              "│  ─────────────────────────────────────────────────────────────  │\n",
              "│   embedding   \u001b[1m(\u001b[0m\u001b[32m'ndarray'\u001b[0m,\u001b[1m)\u001b[0m   \u001b[1;36m500\u001b[0m              \u001b[3;91mFalse\u001b[0m             │\n",
              "│   id          \u001b[1m(\u001b[0m\u001b[32m'str'\u001b[0m,\u001b[1m)\u001b[0m       \u001b[1;36m500\u001b[0m              \u001b[3;91mFalse\u001b[0m             │\n",
              "│   mime_type   \u001b[1m(\u001b[0m\u001b[32m'str'\u001b[0m,\u001b[1m)\u001b[0m       \u001b[1;36m1\u001b[0m                \u001b[3;91mFalse\u001b[0m             │\n",
              "│   tags        \u001b[1m(\u001b[0m\u001b[32m'dict'\u001b[0m,\u001b[1m)\u001b[0m      \u001b[1;36m500\u001b[0m              \u001b[3;91mFalse\u001b[0m             │\n",
              "│   tensor      \u001b[1m(\u001b[0m\u001b[32m'ndarray'\u001b[0m,\u001b[1m)\u001b[0m   \u001b[1;36m500\u001b[0m              \u001b[3;91mFalse\u001b[0m             │\n",
              "│   uri         \u001b[1m(\u001b[0m\u001b[32m'str'\u001b[0m,\u001b[1m)\u001b[0m       \u001b[1;36m500\u001b[0m              \u001b[3;91mFalse\u001b[0m             │\n",
              "│                                                                 │\n",
              "╰─────────────────────────────────────────────────────────────────╯\n"
            ]
          },
          "metadata": {},
          "output_type": "display_data"
        }
      ],
      "source": [
        "import torchvision\n",
        "model = torchvision.models.resnet50(pretrained=True)  # load ResNet50\n",
        "docs.embed(model, batch_size=8, device='cpu', to_numpy=True)"
      ]
    },
    {
      "cell_type": "code",
      "execution_count": 7,
      "metadata": {},
      "outputs": [
        {
          "data": {
            "text/html": [
              "<pre style=\"white-space:pre;overflow-x:auto;line-height:normal;font-family:Menlo,'DejaVu Sans Mono',consolas,'Courier New',monospace\">📄 <span style=\"font-weight: bold\">Document</span>: <span style=\"color: #008080; text-decoration-color: #008080\">39386</span>\n",
              "╭───────────┬──────────────────────────────────────────────────────────────────╮\n",
              "│<span style=\"font-weight: bold\"> Attribute </span>│<span style=\"font-weight: bold\"> Value                                                            </span>│\n",
              "├───────────┼──────────────────────────────────────────────────────────────────┤\n",
              "│ tensor    │ <span style=\"font-weight: bold\">&lt;</span><span style=\"color: #ff00ff; text-decoration-color: #ff00ff; font-weight: bold\">class</span><span style=\"color: #000000; text-decoration-color: #000000\"> </span><span style=\"color: #008000; text-decoration-color: #008000\">'numpy.ndarray'</span><span style=\"font-weight: bold\">&gt;</span> in shape <span style=\"font-weight: bold\">(</span><span style=\"color: #008080; text-decoration-color: #008080; font-weight: bold\">3</span>, <span style=\"color: #008080; text-decoration-color: #008080; font-weight: bold\">80</span>, <span style=\"color: #008080; text-decoration-color: #008080; font-weight: bold\">60</span><span style=\"font-weight: bold\">)</span>, dtype: float32     │\n",
              "│ mime_type │ image/jpeg                                                       │\n",
              "│ uri       │ <span style=\"color: #800080; text-decoration-color: #800080\">/home/aswin/Data/archive/images/</span><span style=\"color: #ff00ff; text-decoration-color: #ff00ff\">39386.jpg</span>                        │\n",
              "│ tags      │ <span style=\"font-weight: bold\">{</span><span style=\"color: #008000; text-decoration-color: #008000\">'gender'</span>: <span style=\"color: #008000; text-decoration-color: #008000\">'Men'</span>, <span style=\"color: #008000; text-decoration-color: #008000\">'masterCategory'</span>: <span style=\"color: #008000; text-decoration-color: #008000\">'Apparel'</span>, <span style=\"color: #008000; text-decoration-color: #008000\">'subCategory'</span>:    │\n",
              "│           │ <span style=\"color: #008000; text-decoration-color: #008000\">'Bottomwear'</span>, <span style=\"color: #008000; text-decoration-color: #008000\">'articleType'</span>: <span style=\"color: #008000; text-decoration-color: #008000\">'Jeans'</span>, <span style=\"color: #008000; text-decoration-color: #008000\">'baseColour'</span>: <span style=\"color: #008000; text-decoration-color: #008000\">'Blue'</span>,      │\n",
              "│           │ <span style=\"color: #008000; text-decoration-color: #008000\">'season'</span>: <span style=\"color: #008000; text-decoration-color: #008000\">'Summer'</span>, <span style=\"color: #008000; text-decoration-color: #008000\">'year'</span>: <span style=\"color: #008080; text-decoration-color: #008080; font-weight: bold\">2012</span>, <span style=\"color: #008000; text-decoration-color: #008000\">'usage'</span>: <span style=\"color: #008000; text-decoration-color: #008000\">'Casual'</span>,             │\n",
              "│           │ <span style=\"color: #008000; text-decoration-color: #008000\">'productDisplayName'</span>: <span style=\"color: #008000; text-decoration-color: #008000\">'Peter England Men Party Blue Jeans'</span><span style=\"font-weight: bold\">}</span>      │\n",
              "│ embedding │ <span style=\"font-weight: bold\">&lt;</span><span style=\"color: #ff00ff; text-decoration-color: #ff00ff; font-weight: bold\">class</span><span style=\"color: #000000; text-decoration-color: #000000\"> </span><span style=\"color: #008000; text-decoration-color: #008000\">'numpy.ndarray'</span><span style=\"font-weight: bold\">&gt;</span> in shape <span style=\"font-weight: bold\">(</span><span style=\"color: #008080; text-decoration-color: #008080; font-weight: bold\">1000</span>,<span style=\"font-weight: bold\">)</span>, dtype: float32         │\n",
              "╰───────────┴──────────────────────────────────────────────────────────────────╯\n",
              "</pre>\n"
            ],
            "text/plain": [
              "📄 \u001b[1mDocument\u001b[0m: \u001b[36m39386\u001b[0m\n",
              "╭───────────┬──────────────────────────────────────────────────────────────────╮\n",
              "│\u001b[1m \u001b[0m\u001b[1mAttribute\u001b[0m\u001b[1m \u001b[0m│\u001b[1m \u001b[0m\u001b[1mValue                                                           \u001b[0m\u001b[1m \u001b[0m│\n",
              "├───────────┼──────────────────────────────────────────────────────────────────┤\n",
              "│ tensor    │ \u001b[1m<\u001b[0m\u001b[1;95mclass\u001b[0m\u001b[39m \u001b[0m\u001b[32m'numpy.ndarray'\u001b[0m\u001b[1m>\u001b[0m in shape \u001b[1m(\u001b[0m\u001b[1;36m3\u001b[0m, \u001b[1;36m80\u001b[0m, \u001b[1;36m60\u001b[0m\u001b[1m)\u001b[0m, dtype: float32     │\n",
              "│ mime_type │ image/jpeg                                                       │\n",
              "│ uri       │ \u001b[35m/home/aswin/Data/archive/images/\u001b[0m\u001b[95m39386.jpg\u001b[0m                        │\n",
              "│ tags      │ \u001b[1m{\u001b[0m\u001b[32m'gender'\u001b[0m: \u001b[32m'Men'\u001b[0m, \u001b[32m'masterCategory'\u001b[0m: \u001b[32m'Apparel'\u001b[0m, \u001b[32m'subCategory'\u001b[0m:    │\n",
              "│           │ \u001b[32m'Bottomwear'\u001b[0m, \u001b[32m'articleType'\u001b[0m: \u001b[32m'Jeans'\u001b[0m, \u001b[32m'baseColour'\u001b[0m: \u001b[32m'Blue'\u001b[0m,      │\n",
              "│           │ \u001b[32m'season'\u001b[0m: \u001b[32m'Summer'\u001b[0m, \u001b[32m'year'\u001b[0m: \u001b[1;36m2012\u001b[0m, \u001b[32m'usage'\u001b[0m: \u001b[32m'Casual'\u001b[0m,             │\n",
              "│           │ \u001b[32m'productDisplayName'\u001b[0m: \u001b[32m'Peter England Men Party Blue Jeans'\u001b[0m\u001b[1m}\u001b[0m      │\n",
              "│ embedding │ \u001b[1m<\u001b[0m\u001b[1;95mclass\u001b[0m\u001b[39m \u001b[0m\u001b[32m'numpy.ndarray'\u001b[0m\u001b[1m>\u001b[0m in shape \u001b[1m(\u001b[0m\u001b[1;36m1000\u001b[0m,\u001b[1m)\u001b[0m, dtype: float32         │\n",
              "╰───────────┴──────────────────────────────────────────────────────────────────╯\n"
            ]
          },
          "metadata": {},
          "output_type": "display_data"
        }
      ],
      "source": [
        "docs[0]"
      ]
    },
    {
      "cell_type": "code",
      "execution_count": 11,
      "metadata": {
        "id": "N3mxWt_kyVOQ"
      },
      "outputs": [],
      "source": [
        "# clear the workspace folder\n",
        "!rm -rf workspace/*\n",
        "\n",
        "index = AnnLite(dim=1000, \n",
        "               metric='cosine', \n",
        "               columns=[\n",
        "                        ('year', int), \n",
        "                        ('baseColour', str), \n",
        "                        ('masterCategory', str)\n",
        "                ], \n",
        "               data_path='./workspace')\n",
        "\n",
        "index.index(docs)"
      ]
    },
    {
      "cell_type": "code",
      "execution_count": 8,
      "metadata": {
        "id": "kKHnOpzc17c7"
      },
      "outputs": [],
      "source": [
        "before_year = \"2017\" #@param [2017, 2018, 2019]\n",
        "category = \"Apparel\" #@param [\"Apparel\", \"Footwear\"]\n",
        "color = \"Brown\" #@param [\"White\", \"Black\", \"Brown\"]"
      ]
    },
    {
      "cell_type": "code",
      "execution_count": null,
      "metadata": {
        "colab": {
          "base_uri": "https://localhost:8080/",
          "height": 1000
        },
        "id": "pWlDhtu10GlS",
        "outputId": "a29ad777-322e-4b3c-db7f-8361e8342bc4"
      },
      "outputs": [],
      "source": [
        "query = docs[0:1]\n",
        "index.search(query, \n",
        "             filter={\n",
        "                 'year': {'$lte': before_year}, \n",
        "                 'masterCategory': {'$eq': category},\n",
        "                 'baseColour': {'$eq': color}\n",
        "                }, \n",
        "             limit=5, \n",
        "             include_metadata=True)\n",
        "\n",
        "\n",
        "img = Image.open(query[0].uri)\n",
        "imshow(img)\n",
        "plt.title(f'Query: {query[0].tags[\"productDisplayName\"]}')\n",
        "plt.show()\n",
        "for doc in query:\n",
        "    for k, match in enumerate(doc.matches):\n",
        "        print(f'[{k}] ({match.scores[\"cosine\"].value}) id: {match.id} tags: {dict(match.tags)}')\n",
        "        img = Image.open(match.uri)\n",
        "        imshow(img)\n",
        "        plt.title(f'{match.tags[\"productDisplayName\"]}')\n",
        "        plt.show()"
      ]
    },
    {
      "cell_type": "code",
      "execution_count": 9,
      "metadata": {
        "colab": {
          "base_uri": "https://localhost:8080/",
          "height": 162
        },
        "id": "HKyVAQ3eH2ZH",
        "outputId": "d433a995-28cc-483b-ce7a-1e57d2d7aa27"
      },
      "outputs": [],
      "source": [
        "from jina import Flow\n",
        "\n",
        "f = Flow().add(\n",
        "    uses='jinahub://PQLiteIndexer/latest',\n",
        "    uses_with={\n",
        "        'dim': 1000,\n",
        "        'metric': 'cosine',\n",
        "        'columns': [\n",
        "            ('year', 'int'), \n",
        "            ('baseColour', 'str'), \n",
        "            ('masterCategory', 'str')\n",
        "        ],\n",
        "        'include_metadata': True\n",
        "    },\n",
        "    uses_metas={'workspace': './workspace'}, \n",
        "    install_requirements=True\n",
        ")"
      ]
    },
    {
      "cell_type": "code",
      "execution_count": 10,
      "metadata": {
        "colab": {
          "base_uri": "https://localhost:8080/",
          "height": 1000
        },
        "id": "stLXVMxPImS9",
        "outputId": "40e08128-e6a1-48c0-f61c-2bc14b1768a8"
      },
      "outputs": [
        {
          "data": {
            "application/vnd.jupyter.widget-view+json": {
              "model_id": "0268a5a3941d4959b0bc183cf10bb1ee",
              "version_major": 2,
              "version_minor": 0
            },
            "text/plain": [
              "Output()"
            ]
          },
          "metadata": {},
          "output_type": "display_data"
        },
        {
          "data": {
            "text/html": [
              "<pre style=\"white-space:pre;overflow-x:auto;line-height:normal;font-family:Menlo,'DejaVu Sans Mono',consolas,'Courier New',monospace\"><span style=\"color: #808000; text-decoration-color: #808000; font-weight: bold\">DeprecationWarning: Kernel._parent_header is deprecated in ipykernel 6. Use .get_parent()</span> <span style=\"color: #000000; text-decoration-color: #000000; font-weight: bold\">(raised from </span>\n",
              "<span style=\"color: #000000; text-decoration-color: #000000; font-weight: bold\">/home/aswin/anaconda3/envs/jina/lib/python3.9/site-packages/ipywidgets/widgets/widget_output.py:111)</span>\n",
              "</pre>\n"
            ],
            "text/plain": [
              "\u001b[1;33mDeprecationWarning: Kernel._parent_header is deprecated in ipykernel 6. Use .get_parent()\u001b[0m \u001b[1;30m(raised from \u001b[0m\n",
              "\u001b[1;30m/home/aswin/anaconda3/envs/jina/lib/python3.9/site-packages/ipywidgets/widgets/widget_output.py:111)\u001b[0m\n"
            ]
          },
          "metadata": {},
          "output_type": "display_data"
        },
        {
          "data": {
            "text/html": [
              "<pre style=\"white-space:pre;overflow-x:auto;line-height:normal;font-family:Menlo,'DejaVu Sans Mono',consolas,'Courier New',monospace\"><span style=\"color: #808000; text-decoration-color: #808000; font-weight: bold\">DeprecationWarning: Kernel._parent_header is deprecated in ipykernel 6. Use .get_parent()</span> <span style=\"color: #000000; text-decoration-color: #000000; font-weight: bold\">(raised from </span>\n",
              "<span style=\"color: #000000; text-decoration-color: #000000; font-weight: bold\">/home/aswin/anaconda3/envs/jina/lib/python3.9/site-packages/ipywidgets/widgets/widget_output.py:112)</span>\n",
              "</pre>\n"
            ],
            "text/plain": [
              "\u001b[1;33mDeprecationWarning: Kernel._parent_header is deprecated in ipykernel 6. Use .get_parent()\u001b[0m \u001b[1;30m(raised from \u001b[0m\n",
              "\u001b[1;30m/home/aswin/anaconda3/envs/jina/lib/python3.9/site-packages/ipywidgets/widgets/widget_output.py:112)\u001b[0m\n"
            ]
          },
          "metadata": {},
          "output_type": "display_data"
        },
        {
          "data": {
            "text/html": [
              "<pre style=\"white-space:pre;overflow-x:auto;line-height:normal;font-family:Menlo,'DejaVu Sans Mono',consolas,'Courier New',monospace\"><span style=\"color: #808000; text-decoration-color: #808000; font-weight: bold\">DeprecationWarning: Kernel._parent_header is deprecated in ipykernel 6. Use .get_parent()</span> <span style=\"color: #000000; text-decoration-color: #000000; font-weight: bold\">(raised from </span>\n",
              "<span style=\"color: #000000; text-decoration-color: #000000; font-weight: bold\">/home/aswin/anaconda3/envs/jina/lib/python3.9/site-packages/ipywidgets/widgets/widget_output.py:111)</span>\n",
              "</pre>\n"
            ],
            "text/plain": [
              "\u001b[1;33mDeprecationWarning: Kernel._parent_header is deprecated in ipykernel 6. Use .get_parent()\u001b[0m \u001b[1;30m(raised from \u001b[0m\n",
              "\u001b[1;30m/home/aswin/anaconda3/envs/jina/lib/python3.9/site-packages/ipywidgets/widgets/widget_output.py:111)\u001b[0m\n"
            ]
          },
          "metadata": {},
          "output_type": "display_data"
        },
        {
          "data": {
            "text/html": [
              "<pre style=\"white-space:pre;overflow-x:auto;line-height:normal;font-family:Menlo,'DejaVu Sans Mono',consolas,'Courier New',monospace\"><span style=\"color: #808000; text-decoration-color: #808000; font-weight: bold\">DeprecationWarning: Kernel._parent_header is deprecated in ipykernel 6. Use .get_parent()</span> <span style=\"color: #000000; text-decoration-color: #000000; font-weight: bold\">(raised from </span>\n",
              "<span style=\"color: #000000; text-decoration-color: #000000; font-weight: bold\">/home/aswin/anaconda3/envs/jina/lib/python3.9/site-packages/ipywidgets/widgets/widget_output.py:112)</span>\n",
              "</pre>\n"
            ],
            "text/plain": [
              "\u001b[1;33mDeprecationWarning: Kernel._parent_header is deprecated in ipykernel 6. Use .get_parent()\u001b[0m \u001b[1;30m(raised from \u001b[0m\n",
              "\u001b[1;30m/home/aswin/anaconda3/envs/jina/lib/python3.9/site-packages/ipywidgets/widgets/widget_output.py:112)\u001b[0m\n"
            ]
          },
          "metadata": {},
          "output_type": "display_data"
        },
        {
          "data": {
            "text/html": [
              "<pre style=\"white-space:pre;overflow-x:auto;line-height:normal;font-family:Menlo,'DejaVu Sans Mono',consolas,'Courier New',monospace\"><span style=\"color: #808000; text-decoration-color: #808000; font-weight: bold\">DeprecationWarning: Kernel._parent_header is deprecated in ipykernel 6. Use .get_parent()</span> <span style=\"color: #000000; text-decoration-color: #000000; font-weight: bold\">(raised from </span>\n",
              "<span style=\"color: #000000; text-decoration-color: #000000; font-weight: bold\">/home/aswin/anaconda3/envs/jina/lib/python3.9/site-packages/ipywidgets/widgets/widget_output.py:111)</span>\n",
              "</pre>\n"
            ],
            "text/plain": [
              "\u001b[1;33mDeprecationWarning: Kernel._parent_header is deprecated in ipykernel 6. Use .get_parent()\u001b[0m \u001b[1;30m(raised from \u001b[0m\n",
              "\u001b[1;30m/home/aswin/anaconda3/envs/jina/lib/python3.9/site-packages/ipywidgets/widgets/widget_output.py:111)\u001b[0m\n"
            ]
          },
          "metadata": {},
          "output_type": "display_data"
        },
        {
          "data": {
            "text/html": [
              "<pre style=\"white-space:pre;overflow-x:auto;line-height:normal;font-family:Menlo,'DejaVu Sans Mono',consolas,'Courier New',monospace\"><span style=\"color: #808000; text-decoration-color: #808000; font-weight: bold\">DeprecationWarning: Kernel._parent_header is deprecated in ipykernel 6. Use .get_parent()</span> <span style=\"color: #000000; text-decoration-color: #000000; font-weight: bold\">(raised from </span>\n",
              "<span style=\"color: #000000; text-decoration-color: #000000; font-weight: bold\">/home/aswin/anaconda3/envs/jina/lib/python3.9/site-packages/ipywidgets/widgets/widget_output.py:112)</span>\n",
              "</pre>\n"
            ],
            "text/plain": [
              "\u001b[1;33mDeprecationWarning: Kernel._parent_header is deprecated in ipykernel 6. Use .get_parent()\u001b[0m \u001b[1;30m(raised from \u001b[0m\n",
              "\u001b[1;30m/home/aswin/anaconda3/envs/jina/lib/python3.9/site-packages/ipywidgets/widgets/widget_output.py:112)\u001b[0m\n"
            ]
          },
          "metadata": {},
          "output_type": "display_data"
        },
        {
          "data": {
            "text/html": [
              "<pre style=\"white-space:pre;overflow-x:auto;line-height:normal;font-family:Menlo,'DejaVu Sans Mono',consolas,'Courier New',monospace\"><span style=\"color: #808000; text-decoration-color: #808000; font-weight: bold\">DeprecationWarning: Kernel._parent_header is deprecated in ipykernel 6. Use .get_parent()</span> <span style=\"color: #000000; text-decoration-color: #000000; font-weight: bold\">(raised from </span>\n",
              "<span style=\"color: #000000; text-decoration-color: #000000; font-weight: bold\">/home/aswin/anaconda3/envs/jina/lib/python3.9/site-packages/ipywidgets/widgets/widget_output.py:111)</span>\n",
              "</pre>\n"
            ],
            "text/plain": [
              "\u001b[1;33mDeprecationWarning: Kernel._parent_header is deprecated in ipykernel 6. Use .get_parent()\u001b[0m \u001b[1;30m(raised from \u001b[0m\n",
              "\u001b[1;30m/home/aswin/anaconda3/envs/jina/lib/python3.9/site-packages/ipywidgets/widgets/widget_output.py:111)\u001b[0m\n"
            ]
          },
          "metadata": {},
          "output_type": "display_data"
        },
        {
          "data": {
            "text/html": [
              "<pre style=\"white-space:pre;overflow-x:auto;line-height:normal;font-family:Menlo,'DejaVu Sans Mono',consolas,'Courier New',monospace\"><span style=\"color: #808000; text-decoration-color: #808000; font-weight: bold\">DeprecationWarning: Kernel._parent_header is deprecated in ipykernel 6. Use .get_parent()</span> <span style=\"color: #000000; text-decoration-color: #000000; font-weight: bold\">(raised from </span>\n",
              "<span style=\"color: #000000; text-decoration-color: #000000; font-weight: bold\">/home/aswin/anaconda3/envs/jina/lib/python3.9/site-packages/ipywidgets/widgets/widget_output.py:112)</span>\n",
              "</pre>\n"
            ],
            "text/plain": [
              "\u001b[1;33mDeprecationWarning: Kernel._parent_header is deprecated in ipykernel 6. Use .get_parent()\u001b[0m \u001b[1;30m(raised from \u001b[0m\n",
              "\u001b[1;30m/home/aswin/anaconda3/envs/jina/lib/python3.9/site-packages/ipywidgets/widgets/widget_output.py:112)\u001b[0m\n"
            ]
          },
          "metadata": {},
          "output_type": "display_data"
        },
        {
          "data": {
            "text/html": [
              "<pre style=\"white-space:pre;overflow-x:auto;line-height:normal;font-family:Menlo,'DejaVu Sans Mono',consolas,'Courier New',monospace\"><span style=\"color: #808000; text-decoration-color: #808000; font-weight: bold\">DeprecationWarning: Kernel._parent_header is deprecated in ipykernel 6. Use .get_parent()</span> <span style=\"color: #000000; text-decoration-color: #000000; font-weight: bold\">(raised from </span>\n",
              "<span style=\"color: #000000; text-decoration-color: #000000; font-weight: bold\">/home/aswin/anaconda3/envs/jina/lib/python3.9/site-packages/ipywidgets/widgets/widget_output.py:111)</span>\n",
              "</pre>\n"
            ],
            "text/plain": [
              "\u001b[1;33mDeprecationWarning: Kernel._parent_header is deprecated in ipykernel 6. Use .get_parent()\u001b[0m \u001b[1;30m(raised from \u001b[0m\n",
              "\u001b[1;30m/home/aswin/anaconda3/envs/jina/lib/python3.9/site-packages/ipywidgets/widgets/widget_output.py:111)\u001b[0m\n"
            ]
          },
          "metadata": {},
          "output_type": "display_data"
        },
        {
          "data": {
            "text/html": [
              "<pre style=\"white-space:pre;overflow-x:auto;line-height:normal;font-family:Menlo,'DejaVu Sans Mono',consolas,'Courier New',monospace\"><span style=\"color: #808000; text-decoration-color: #808000; font-weight: bold\">DeprecationWarning: Kernel._parent_header is deprecated in ipykernel 6. Use .get_parent()</span> <span style=\"color: #000000; text-decoration-color: #000000; font-weight: bold\">(raised from </span>\n",
              "<span style=\"color: #000000; text-decoration-color: #000000; font-weight: bold\">/home/aswin/anaconda3/envs/jina/lib/python3.9/site-packages/ipywidgets/widgets/widget_output.py:112)</span>\n",
              "</pre>\n"
            ],
            "text/plain": [
              "\u001b[1;33mDeprecationWarning: Kernel._parent_header is deprecated in ipykernel 6. Use .get_parent()\u001b[0m \u001b[1;30m(raised from \u001b[0m\n",
              "\u001b[1;30m/home/aswin/anaconda3/envs/jina/lib/python3.9/site-packages/ipywidgets/widgets/widget_output.py:112)\u001b[0m\n"
            ]
          },
          "metadata": {},
          "output_type": "display_data"
        },
        {
          "data": {
            "text/html": [
              "<pre style=\"white-space:pre;overflow-x:auto;line-height:normal;font-family:Menlo,'DejaVu Sans Mono',consolas,'Courier New',monospace\"><span style=\"color: #808000; text-decoration-color: #808000; font-weight: bold\">DeprecationWarning: Kernel._parent_header is deprecated in ipykernel 6. Use .get_parent()</span> <span style=\"color: #000000; text-decoration-color: #000000; font-weight: bold\">(raised from </span>\n",
              "<span style=\"color: #000000; text-decoration-color: #000000; font-weight: bold\">/home/aswin/anaconda3/envs/jina/lib/python3.9/site-packages/ipywidgets/widgets/widget_output.py:111)</span>\n",
              "</pre>\n"
            ],
            "text/plain": [
              "\u001b[1;33mDeprecationWarning: Kernel._parent_header is deprecated in ipykernel 6. Use .get_parent()\u001b[0m \u001b[1;30m(raised from \u001b[0m\n",
              "\u001b[1;30m/home/aswin/anaconda3/envs/jina/lib/python3.9/site-packages/ipywidgets/widgets/widget_output.py:111)\u001b[0m\n"
            ]
          },
          "metadata": {},
          "output_type": "display_data"
        },
        {
          "data": {
            "text/html": [
              "<pre style=\"white-space:pre;overflow-x:auto;line-height:normal;font-family:Menlo,'DejaVu Sans Mono',consolas,'Courier New',monospace\"><span style=\"color: #808000; text-decoration-color: #808000; font-weight: bold\">DeprecationWarning: Kernel._parent_header is deprecated in ipykernel 6. Use .get_parent()</span> <span style=\"color: #000000; text-decoration-color: #000000; font-weight: bold\">(raised from </span>\n",
              "<span style=\"color: #000000; text-decoration-color: #000000; font-weight: bold\">/home/aswin/anaconda3/envs/jina/lib/python3.9/site-packages/ipywidgets/widgets/widget_output.py:112)</span>\n",
              "</pre>\n"
            ],
            "text/plain": [
              "\u001b[1;33mDeprecationWarning: Kernel._parent_header is deprecated in ipykernel 6. Use .get_parent()\u001b[0m \u001b[1;30m(raised from \u001b[0m\n",
              "\u001b[1;30m/home/aswin/anaconda3/envs/jina/lib/python3.9/site-packages/ipywidgets/widgets/widget_output.py:112)\u001b[0m\n"
            ]
          },
          "metadata": {},
          "output_type": "display_data"
        },
        {
          "data": {
            "text/html": [
              "<pre style=\"white-space:pre;overflow-x:auto;line-height:normal;font-family:Menlo,'DejaVu Sans Mono',consolas,'Courier New',monospace\"><span style=\"color: #808000; text-decoration-color: #808000; font-weight: bold\">DeprecationWarning: Kernel._parent_header is deprecated in ipykernel 6. Use .get_parent()</span> <span style=\"color: #000000; text-decoration-color: #000000; font-weight: bold\">(raised from </span>\n",
              "<span style=\"color: #000000; text-decoration-color: #000000; font-weight: bold\">/home/aswin/anaconda3/envs/jina/lib/python3.9/site-packages/ipywidgets/widgets/widget_output.py:111)</span>\n",
              "</pre>\n"
            ],
            "text/plain": [
              "\u001b[1;33mDeprecationWarning: Kernel._parent_header is deprecated in ipykernel 6. Use .get_parent()\u001b[0m \u001b[1;30m(raised from \u001b[0m\n",
              "\u001b[1;30m/home/aswin/anaconda3/envs/jina/lib/python3.9/site-packages/ipywidgets/widgets/widget_output.py:111)\u001b[0m\n"
            ]
          },
          "metadata": {},
          "output_type": "display_data"
        },
        {
          "data": {
            "text/html": [
              "<pre style=\"white-space:pre;overflow-x:auto;line-height:normal;font-family:Menlo,'DejaVu Sans Mono',consolas,'Courier New',monospace\"><span style=\"color: #808000; text-decoration-color: #808000; font-weight: bold\">DeprecationWarning: Kernel._parent_header is deprecated in ipykernel 6. Use .get_parent()</span> <span style=\"color: #000000; text-decoration-color: #000000; font-weight: bold\">(raised from </span>\n",
              "<span style=\"color: #000000; text-decoration-color: #000000; font-weight: bold\">/home/aswin/anaconda3/envs/jina/lib/python3.9/site-packages/ipywidgets/widgets/widget_output.py:112)</span>\n",
              "</pre>\n"
            ],
            "text/plain": [
              "\u001b[1;33mDeprecationWarning: Kernel._parent_header is deprecated in ipykernel 6. Use .get_parent()\u001b[0m \u001b[1;30m(raised from \u001b[0m\n",
              "\u001b[1;30m/home/aswin/anaconda3/envs/jina/lib/python3.9/site-packages/ipywidgets/widgets/widget_output.py:112)\u001b[0m\n"
            ]
          },
          "metadata": {},
          "output_type": "display_data"
        },
        {
          "data": {
            "text/html": [
              "<pre style=\"white-space:pre;overflow-x:auto;line-height:normal;font-family:Menlo,'DejaVu Sans Mono',consolas,'Courier New',monospace\"><span style=\"color: #808000; text-decoration-color: #808000; font-weight: bold\">DeprecationWarning: Kernel._parent_header is deprecated in ipykernel 6. Use .get_parent()</span> <span style=\"color: #000000; text-decoration-color: #000000; font-weight: bold\">(raised from </span>\n",
              "<span style=\"color: #000000; text-decoration-color: #000000; font-weight: bold\">/home/aswin/anaconda3/envs/jina/lib/python3.9/site-packages/ipywidgets/widgets/widget_output.py:111)</span>\n",
              "</pre>\n"
            ],
            "text/plain": [
              "\u001b[1;33mDeprecationWarning: Kernel._parent_header is deprecated in ipykernel 6. Use .get_parent()\u001b[0m \u001b[1;30m(raised from \u001b[0m\n",
              "\u001b[1;30m/home/aswin/anaconda3/envs/jina/lib/python3.9/site-packages/ipywidgets/widgets/widget_output.py:111)\u001b[0m\n"
            ]
          },
          "metadata": {},
          "output_type": "display_data"
        },
        {
          "data": {
            "text/html": [
              "<pre style=\"white-space:pre;overflow-x:auto;line-height:normal;font-family:Menlo,'DejaVu Sans Mono',consolas,'Courier New',monospace\"><span style=\"color: #808000; text-decoration-color: #808000; font-weight: bold\">DeprecationWarning: Kernel._parent_header is deprecated in ipykernel 6. Use .get_parent()</span> <span style=\"color: #000000; text-decoration-color: #000000; font-weight: bold\">(raised from </span>\n",
              "<span style=\"color: #000000; text-decoration-color: #000000; font-weight: bold\">/home/aswin/anaconda3/envs/jina/lib/python3.9/site-packages/ipywidgets/widgets/widget_output.py:112)</span>\n",
              "</pre>\n"
            ],
            "text/plain": [
              "\u001b[1;33mDeprecationWarning: Kernel._parent_header is deprecated in ipykernel 6. Use .get_parent()\u001b[0m \u001b[1;30m(raised from \u001b[0m\n",
              "\u001b[1;30m/home/aswin/anaconda3/envs/jina/lib/python3.9/site-packages/ipywidgets/widgets/widget_output.py:112)\u001b[0m\n"
            ]
          },
          "metadata": {},
          "output_type": "display_data"
        },
        {
          "data": {
            "text/html": [
              "<pre style=\"white-space:pre;overflow-x:auto;line-height:normal;font-family:Menlo,'DejaVu Sans Mono',consolas,'Courier New',monospace\"><span style=\"color: #808000; text-decoration-color: #808000; font-weight: bold\">DeprecationWarning: Kernel._parent_header is deprecated in ipykernel 6. Use .get_parent()</span> <span style=\"color: #000000; text-decoration-color: #000000; font-weight: bold\">(raised from </span>\n",
              "<span style=\"color: #000000; text-decoration-color: #000000; font-weight: bold\">/home/aswin/anaconda3/envs/jina/lib/python3.9/site-packages/ipywidgets/widgets/widget_output.py:111)</span>\n",
              "</pre>\n"
            ],
            "text/plain": [
              "\u001b[1;33mDeprecationWarning: Kernel._parent_header is deprecated in ipykernel 6. Use .get_parent()\u001b[0m \u001b[1;30m(raised from \u001b[0m\n",
              "\u001b[1;30m/home/aswin/anaconda3/envs/jina/lib/python3.9/site-packages/ipywidgets/widgets/widget_output.py:111)\u001b[0m\n"
            ]
          },
          "metadata": {},
          "output_type": "display_data"
        },
        {
          "data": {
            "text/html": [
              "<pre style=\"white-space:pre;overflow-x:auto;line-height:normal;font-family:Menlo,'DejaVu Sans Mono',consolas,'Courier New',monospace\"><span style=\"color: #808000; text-decoration-color: #808000; font-weight: bold\">DeprecationWarning: Kernel._parent_header is deprecated in ipykernel 6. Use .get_parent()</span> <span style=\"color: #000000; text-decoration-color: #000000; font-weight: bold\">(raised from </span>\n",
              "<span style=\"color: #000000; text-decoration-color: #000000; font-weight: bold\">/home/aswin/anaconda3/envs/jina/lib/python3.9/site-packages/ipywidgets/widgets/widget_output.py:112)</span>\n",
              "</pre>\n"
            ],
            "text/plain": [
              "\u001b[1;33mDeprecationWarning: Kernel._parent_header is deprecated in ipykernel 6. Use .get_parent()\u001b[0m \u001b[1;30m(raised from \u001b[0m\n",
              "\u001b[1;30m/home/aswin/anaconda3/envs/jina/lib/python3.9/site-packages/ipywidgets/widgets/widget_output.py:112)\u001b[0m\n"
            ]
          },
          "metadata": {},
          "output_type": "display_data"
        },
        {
          "data": {
            "text/html": [
              "<pre style=\"white-space:pre;overflow-x:auto;line-height:normal;font-family:Menlo,'DejaVu Sans Mono',consolas,'Courier New',monospace\"><span style=\"color: #808000; text-decoration-color: #808000; font-weight: bold\">DeprecationWarning: Kernel._parent_header is deprecated in ipykernel 6. Use .get_parent()</span> <span style=\"color: #000000; text-decoration-color: #000000; font-weight: bold\">(raised from </span>\n",
              "<span style=\"color: #000000; text-decoration-color: #000000; font-weight: bold\">/home/aswin/anaconda3/envs/jina/lib/python3.9/site-packages/ipywidgets/widgets/widget_output.py:111)</span>\n",
              "</pre>\n"
            ],
            "text/plain": [
              "\u001b[1;33mDeprecationWarning: Kernel._parent_header is deprecated in ipykernel 6. Use .get_parent()\u001b[0m \u001b[1;30m(raised from \u001b[0m\n",
              "\u001b[1;30m/home/aswin/anaconda3/envs/jina/lib/python3.9/site-packages/ipywidgets/widgets/widget_output.py:111)\u001b[0m\n"
            ]
          },
          "metadata": {},
          "output_type": "display_data"
        },
        {
          "data": {
            "text/html": [
              "<pre style=\"white-space:pre;overflow-x:auto;line-height:normal;font-family:Menlo,'DejaVu Sans Mono',consolas,'Courier New',monospace\"><span style=\"color: #808000; text-decoration-color: #808000; font-weight: bold\">DeprecationWarning: Kernel._parent_header is deprecated in ipykernel 6. Use .get_parent()</span> <span style=\"color: #000000; text-decoration-color: #000000; font-weight: bold\">(raised from </span>\n",
              "<span style=\"color: #000000; text-decoration-color: #000000; font-weight: bold\">/home/aswin/anaconda3/envs/jina/lib/python3.9/site-packages/ipywidgets/widgets/widget_output.py:112)</span>\n",
              "</pre>\n"
            ],
            "text/plain": [
              "\u001b[1;33mDeprecationWarning: Kernel._parent_header is deprecated in ipykernel 6. Use .get_parent()\u001b[0m \u001b[1;30m(raised from \u001b[0m\n",
              "\u001b[1;30m/home/aswin/anaconda3/envs/jina/lib/python3.9/site-packages/ipywidgets/widgets/widget_output.py:112)\u001b[0m\n"
            ]
          },
          "metadata": {},
          "output_type": "display_data"
        },
        {
          "data": {
            "text/html": [
              "<pre style=\"white-space:pre;overflow-x:auto;line-height:normal;font-family:Menlo,'DejaVu Sans Mono',consolas,'Courier New',monospace\"><span style=\"color: #808000; text-decoration-color: #808000; font-weight: bold\">DeprecationWarning: Kernel._parent_header is deprecated in ipykernel 6. Use .get_parent()</span> <span style=\"color: #000000; text-decoration-color: #000000; font-weight: bold\">(raised from </span>\n",
              "<span style=\"color: #000000; text-decoration-color: #000000; font-weight: bold\">/home/aswin/anaconda3/envs/jina/lib/python3.9/site-packages/ipywidgets/widgets/widget_output.py:111)</span>\n",
              "</pre>\n"
            ],
            "text/plain": [
              "\u001b[1;33mDeprecationWarning: Kernel._parent_header is deprecated in ipykernel 6. Use .get_parent()\u001b[0m \u001b[1;30m(raised from \u001b[0m\n",
              "\u001b[1;30m/home/aswin/anaconda3/envs/jina/lib/python3.9/site-packages/ipywidgets/widgets/widget_output.py:111)\u001b[0m\n"
            ]
          },
          "metadata": {},
          "output_type": "display_data"
        },
        {
          "data": {
            "text/html": [
              "<pre style=\"white-space:pre;overflow-x:auto;line-height:normal;font-family:Menlo,'DejaVu Sans Mono',consolas,'Courier New',monospace\"><span style=\"color: #808000; text-decoration-color: #808000; font-weight: bold\">DeprecationWarning: Kernel._parent_header is deprecated in ipykernel 6. Use .get_parent()</span> <span style=\"color: #000000; text-decoration-color: #000000; font-weight: bold\">(raised from </span>\n",
              "<span style=\"color: #000000; text-decoration-color: #000000; font-weight: bold\">/home/aswin/anaconda3/envs/jina/lib/python3.9/site-packages/ipywidgets/widgets/widget_output.py:112)</span>\n",
              "</pre>\n"
            ],
            "text/plain": [
              "\u001b[1;33mDeprecationWarning: Kernel._parent_header is deprecated in ipykernel 6. Use .get_parent()\u001b[0m \u001b[1;30m(raised from \u001b[0m\n",
              "\u001b[1;30m/home/aswin/anaconda3/envs/jina/lib/python3.9/site-packages/ipywidgets/widgets/widget_output.py:112)\u001b[0m\n"
            ]
          },
          "metadata": {},
          "output_type": "display_data"
        },
        {
          "data": {
            "text/html": [
              "<pre style=\"white-space:pre;overflow-x:auto;line-height:normal;font-family:Menlo,'DejaVu Sans Mono',consolas,'Courier New',monospace\"><span style=\"color: #808000; text-decoration-color: #808000; font-weight: bold\">DeprecationWarning: Kernel._parent_header is deprecated in ipykernel 6. Use .get_parent()</span> <span style=\"color: #000000; text-decoration-color: #000000; font-weight: bold\">(raised from </span>\n",
              "<span style=\"color: #000000; text-decoration-color: #000000; font-weight: bold\">/home/aswin/anaconda3/envs/jina/lib/python3.9/site-packages/ipywidgets/widgets/widget_output.py:111)</span>\n",
              "</pre>\n"
            ],
            "text/plain": [
              "\u001b[1;33mDeprecationWarning: Kernel._parent_header is deprecated in ipykernel 6. Use .get_parent()\u001b[0m \u001b[1;30m(raised from \u001b[0m\n",
              "\u001b[1;30m/home/aswin/anaconda3/envs/jina/lib/python3.9/site-packages/ipywidgets/widgets/widget_output.py:111)\u001b[0m\n"
            ]
          },
          "metadata": {},
          "output_type": "display_data"
        },
        {
          "data": {
            "text/html": [
              "<pre style=\"white-space:pre;overflow-x:auto;line-height:normal;font-family:Menlo,'DejaVu Sans Mono',consolas,'Courier New',monospace\"><span style=\"color: #808000; text-decoration-color: #808000; font-weight: bold\">DeprecationWarning: Kernel._parent_header is deprecated in ipykernel 6. Use .get_parent()</span> <span style=\"color: #000000; text-decoration-color: #000000; font-weight: bold\">(raised from </span>\n",
              "<span style=\"color: #000000; text-decoration-color: #000000; font-weight: bold\">/home/aswin/anaconda3/envs/jina/lib/python3.9/site-packages/ipywidgets/widgets/widget_output.py:112)</span>\n",
              "</pre>\n"
            ],
            "text/plain": [
              "\u001b[1;33mDeprecationWarning: Kernel._parent_header is deprecated in ipykernel 6. Use .get_parent()\u001b[0m \u001b[1;30m(raised from \u001b[0m\n",
              "\u001b[1;30m/home/aswin/anaconda3/envs/jina/lib/python3.9/site-packages/ipywidgets/widgets/widget_output.py:112)\u001b[0m\n"
            ]
          },
          "metadata": {},
          "output_type": "display_data"
        },
        {
          "data": {
            "text/html": [
              "<pre style=\"white-space:pre;overflow-x:auto;line-height:normal;font-family:Menlo,'DejaVu Sans Mono',consolas,'Courier New',monospace\"><span style=\"color: #808000; text-decoration-color: #808000; font-weight: bold\">DeprecationWarning: Kernel._parent_header is deprecated in ipykernel 6. Use .get_parent()</span> <span style=\"color: #000000; text-decoration-color: #000000; font-weight: bold\">(raised from </span>\n",
              "<span style=\"color: #000000; text-decoration-color: #000000; font-weight: bold\">/home/aswin/anaconda3/envs/jina/lib/python3.9/site-packages/ipywidgets/widgets/widget_output.py:111)</span>\n",
              "</pre>\n"
            ],
            "text/plain": [
              "\u001b[1;33mDeprecationWarning: Kernel._parent_header is deprecated in ipykernel 6. Use .get_parent()\u001b[0m \u001b[1;30m(raised from \u001b[0m\n",
              "\u001b[1;30m/home/aswin/anaconda3/envs/jina/lib/python3.9/site-packages/ipywidgets/widgets/widget_output.py:111)\u001b[0m\n"
            ]
          },
          "metadata": {},
          "output_type": "display_data"
        },
        {
          "data": {
            "text/html": [
              "<pre style=\"white-space:pre;overflow-x:auto;line-height:normal;font-family:Menlo,'DejaVu Sans Mono',consolas,'Courier New',monospace\"><span style=\"color: #808000; text-decoration-color: #808000; font-weight: bold\">DeprecationWarning: Kernel._parent_header is deprecated in ipykernel 6. Use .get_parent()</span> <span style=\"color: #000000; text-decoration-color: #000000; font-weight: bold\">(raised from </span>\n",
              "<span style=\"color: #000000; text-decoration-color: #000000; font-weight: bold\">/home/aswin/anaconda3/envs/jina/lib/python3.9/site-packages/ipywidgets/widgets/widget_output.py:112)</span>\n",
              "</pre>\n"
            ],
            "text/plain": [
              "\u001b[1;33mDeprecationWarning: Kernel._parent_header is deprecated in ipykernel 6. Use .get_parent()\u001b[0m \u001b[1;30m(raised from \u001b[0m\n",
              "\u001b[1;30m/home/aswin/anaconda3/envs/jina/lib/python3.9/site-packages/ipywidgets/widgets/widget_output.py:112)\u001b[0m\n"
            ]
          },
          "metadata": {},
          "output_type": "display_data"
        },
        {
          "data": {
            "text/html": [
              "<pre style=\"white-space:pre;overflow-x:auto;line-height:normal;font-family:Menlo,'DejaVu Sans Mono',consolas,'Courier New',monospace\"><span style=\"color: #808000; text-decoration-color: #808000; font-weight: bold\">DeprecationWarning: Kernel._parent_header is deprecated in ipykernel 6. Use .get_parent()</span> <span style=\"color: #000000; text-decoration-color: #000000; font-weight: bold\">(raised from </span>\n",
              "<span style=\"color: #000000; text-decoration-color: #000000; font-weight: bold\">/home/aswin/anaconda3/envs/jina/lib/python3.9/site-packages/ipywidgets/widgets/widget_output.py:111)</span>\n",
              "</pre>\n"
            ],
            "text/plain": [
              "\u001b[1;33mDeprecationWarning: Kernel._parent_header is deprecated in ipykernel 6. Use .get_parent()\u001b[0m \u001b[1;30m(raised from \u001b[0m\n",
              "\u001b[1;30m/home/aswin/anaconda3/envs/jina/lib/python3.9/site-packages/ipywidgets/widgets/widget_output.py:111)\u001b[0m\n"
            ]
          },
          "metadata": {},
          "output_type": "display_data"
        },
        {
          "data": {
            "text/html": [
              "<pre style=\"white-space:pre;overflow-x:auto;line-height:normal;font-family:Menlo,'DejaVu Sans Mono',consolas,'Courier New',monospace\"><span style=\"color: #808000; text-decoration-color: #808000; font-weight: bold\">DeprecationWarning: Kernel._parent_header is deprecated in ipykernel 6. Use .get_parent()</span> <span style=\"color: #000000; text-decoration-color: #000000; font-weight: bold\">(raised from </span>\n",
              "<span style=\"color: #000000; text-decoration-color: #000000; font-weight: bold\">/home/aswin/anaconda3/envs/jina/lib/python3.9/site-packages/ipywidgets/widgets/widget_output.py:112)</span>\n",
              "</pre>\n"
            ],
            "text/plain": [
              "\u001b[1;33mDeprecationWarning: Kernel._parent_header is deprecated in ipykernel 6. Use .get_parent()\u001b[0m \u001b[1;30m(raised from \u001b[0m\n",
              "\u001b[1;30m/home/aswin/anaconda3/envs/jina/lib/python3.9/site-packages/ipywidgets/widgets/widget_output.py:112)\u001b[0m\n"
            ]
          },
          "metadata": {},
          "output_type": "display_data"
        },
        {
          "data": {
            "text/html": [
              "<pre style=\"white-space:pre;overflow-x:auto;line-height:normal;font-family:Menlo,'DejaVu Sans Mono',consolas,'Courier New',monospace\"><span style=\"color: #808000; text-decoration-color: #808000; font-weight: bold\">DeprecationWarning: Kernel._parent_header is deprecated in ipykernel 6. Use .get_parent()</span> <span style=\"color: #000000; text-decoration-color: #000000; font-weight: bold\">(raised from </span>\n",
              "<span style=\"color: #000000; text-decoration-color: #000000; font-weight: bold\">/home/aswin/anaconda3/envs/jina/lib/python3.9/site-packages/ipywidgets/widgets/widget_output.py:111)</span>\n",
              "</pre>\n"
            ],
            "text/plain": [
              "\u001b[1;33mDeprecationWarning: Kernel._parent_header is deprecated in ipykernel 6. Use .get_parent()\u001b[0m \u001b[1;30m(raised from \u001b[0m\n",
              "\u001b[1;30m/home/aswin/anaconda3/envs/jina/lib/python3.9/site-packages/ipywidgets/widgets/widget_output.py:111)\u001b[0m\n"
            ]
          },
          "metadata": {},
          "output_type": "display_data"
        },
        {
          "data": {
            "text/html": [
              "<pre style=\"white-space:pre;overflow-x:auto;line-height:normal;font-family:Menlo,'DejaVu Sans Mono',consolas,'Courier New',monospace\"><span style=\"color: #808000; text-decoration-color: #808000; font-weight: bold\">DeprecationWarning: Kernel._parent_header is deprecated in ipykernel 6. Use .get_parent()</span> <span style=\"color: #000000; text-decoration-color: #000000; font-weight: bold\">(raised from </span>\n",
              "<span style=\"color: #000000; text-decoration-color: #000000; font-weight: bold\">/home/aswin/anaconda3/envs/jina/lib/python3.9/site-packages/ipywidgets/widgets/widget_output.py:112)</span>\n",
              "</pre>\n"
            ],
            "text/plain": [
              "\u001b[1;33mDeprecationWarning: Kernel._parent_header is deprecated in ipykernel 6. Use .get_parent()\u001b[0m \u001b[1;30m(raised from \u001b[0m\n",
              "\u001b[1;30m/home/aswin/anaconda3/envs/jina/lib/python3.9/site-packages/ipywidgets/widgets/widget_output.py:112)\u001b[0m\n"
            ]
          },
          "metadata": {},
          "output_type": "display_data"
        },
        {
          "data": {
            "text/html": [
              "<pre style=\"white-space:pre;overflow-x:auto;line-height:normal;font-family:Menlo,'DejaVu Sans Mono',consolas,'Courier New',monospace\"><span style=\"color: #808000; text-decoration-color: #808000; font-weight: bold\">DeprecationWarning: Kernel._parent_header is deprecated in ipykernel 6. Use .get_parent()</span> <span style=\"color: #000000; text-decoration-color: #000000; font-weight: bold\">(raised from </span>\n",
              "<span style=\"color: #000000; text-decoration-color: #000000; font-weight: bold\">/home/aswin/anaconda3/envs/jina/lib/python3.9/site-packages/ipywidgets/widgets/widget_output.py:111)</span>\n",
              "</pre>\n"
            ],
            "text/plain": [
              "\u001b[1;33mDeprecationWarning: Kernel._parent_header is deprecated in ipykernel 6. Use .get_parent()\u001b[0m \u001b[1;30m(raised from \u001b[0m\n",
              "\u001b[1;30m/home/aswin/anaconda3/envs/jina/lib/python3.9/site-packages/ipywidgets/widgets/widget_output.py:111)\u001b[0m\n"
            ]
          },
          "metadata": {},
          "output_type": "display_data"
        },
        {
          "data": {
            "text/html": [
              "<pre style=\"white-space:pre;overflow-x:auto;line-height:normal;font-family:Menlo,'DejaVu Sans Mono',consolas,'Courier New',monospace\"><span style=\"color: #808000; text-decoration-color: #808000; font-weight: bold\">DeprecationWarning: Kernel._parent_header is deprecated in ipykernel 6. Use .get_parent()</span> <span style=\"color: #000000; text-decoration-color: #000000; font-weight: bold\">(raised from </span>\n",
              "<span style=\"color: #000000; text-decoration-color: #000000; font-weight: bold\">/home/aswin/anaconda3/envs/jina/lib/python3.9/site-packages/ipywidgets/widgets/widget_output.py:112)</span>\n",
              "</pre>\n"
            ],
            "text/plain": [
              "\u001b[1;33mDeprecationWarning: Kernel._parent_header is deprecated in ipykernel 6. Use .get_parent()\u001b[0m \u001b[1;30m(raised from \u001b[0m\n",
              "\u001b[1;30m/home/aswin/anaconda3/envs/jina/lib/python3.9/site-packages/ipywidgets/widgets/widget_output.py:112)\u001b[0m\n"
            ]
          },
          "metadata": {},
          "output_type": "display_data"
        },
        {
          "data": {
            "text/html": [
              "<pre style=\"white-space:pre;overflow-x:auto;line-height:normal;font-family:Menlo,'DejaVu Sans Mono',consolas,'Courier New',monospace\"><span style=\"color: #808000; text-decoration-color: #808000; font-weight: bold\">DeprecationWarning: Kernel._parent_header is deprecated in ipykernel 6. Use .get_parent()</span> <span style=\"color: #000000; text-decoration-color: #000000; font-weight: bold\">(raised from </span>\n",
              "<span style=\"color: #000000; text-decoration-color: #000000; font-weight: bold\">/home/aswin/anaconda3/envs/jina/lib/python3.9/site-packages/ipywidgets/widgets/widget_output.py:111)</span>\n",
              "</pre>\n"
            ],
            "text/plain": [
              "\u001b[1;33mDeprecationWarning: Kernel._parent_header is deprecated in ipykernel 6. Use .get_parent()\u001b[0m \u001b[1;30m(raised from \u001b[0m\n",
              "\u001b[1;30m/home/aswin/anaconda3/envs/jina/lib/python3.9/site-packages/ipywidgets/widgets/widget_output.py:111)\u001b[0m\n"
            ]
          },
          "metadata": {},
          "output_type": "display_data"
        },
        {
          "data": {
            "text/html": [
              "<pre style=\"white-space:pre;overflow-x:auto;line-height:normal;font-family:Menlo,'DejaVu Sans Mono',consolas,'Courier New',monospace\"><span style=\"color: #808000; text-decoration-color: #808000; font-weight: bold\">DeprecationWarning: Kernel._parent_header is deprecated in ipykernel 6. Use .get_parent()</span> <span style=\"color: #000000; text-decoration-color: #000000; font-weight: bold\">(raised from </span>\n",
              "<span style=\"color: #000000; text-decoration-color: #000000; font-weight: bold\">/home/aswin/anaconda3/envs/jina/lib/python3.9/site-packages/ipywidgets/widgets/widget_output.py:112)</span>\n",
              "</pre>\n"
            ],
            "text/plain": [
              "\u001b[1;33mDeprecationWarning: Kernel._parent_header is deprecated in ipykernel 6. Use .get_parent()\u001b[0m \u001b[1;30m(raised from \u001b[0m\n",
              "\u001b[1;30m/home/aswin/anaconda3/envs/jina/lib/python3.9/site-packages/ipywidgets/widgets/widget_output.py:112)\u001b[0m\n"
            ]
          },
          "metadata": {},
          "output_type": "display_data"
        },
        {
          "data": {
            "text/html": [
              "<pre style=\"white-space:pre;overflow-x:auto;line-height:normal;font-family:Menlo,'DejaVu Sans Mono',consolas,'Courier New',monospace\"><span style=\"color: #808000; text-decoration-color: #808000; font-weight: bold\">DeprecationWarning: Kernel._parent_header is deprecated in ipykernel 6. Use .get_parent()</span> <span style=\"color: #000000; text-decoration-color: #000000; font-weight: bold\">(raised from </span>\n",
              "<span style=\"color: #000000; text-decoration-color: #000000; font-weight: bold\">/home/aswin/anaconda3/envs/jina/lib/python3.9/site-packages/ipywidgets/widgets/widget_output.py:111)</span>\n",
              "</pre>\n"
            ],
            "text/plain": [
              "\u001b[1;33mDeprecationWarning: Kernel._parent_header is deprecated in ipykernel 6. Use .get_parent()\u001b[0m \u001b[1;30m(raised from \u001b[0m\n",
              "\u001b[1;30m/home/aswin/anaconda3/envs/jina/lib/python3.9/site-packages/ipywidgets/widgets/widget_output.py:111)\u001b[0m\n"
            ]
          },
          "metadata": {},
          "output_type": "display_data"
        },
        {
          "data": {
            "text/html": [
              "<pre style=\"white-space:pre;overflow-x:auto;line-height:normal;font-family:Menlo,'DejaVu Sans Mono',consolas,'Courier New',monospace\"><span style=\"color: #808000; text-decoration-color: #808000; font-weight: bold\">DeprecationWarning: Kernel._parent_header is deprecated in ipykernel 6. Use .get_parent()</span> <span style=\"color: #000000; text-decoration-color: #000000; font-weight: bold\">(raised from </span>\n",
              "<span style=\"color: #000000; text-decoration-color: #000000; font-weight: bold\">/home/aswin/anaconda3/envs/jina/lib/python3.9/site-packages/ipywidgets/widgets/widget_output.py:112)</span>\n",
              "</pre>\n"
            ],
            "text/plain": [
              "\u001b[1;33mDeprecationWarning: Kernel._parent_header is deprecated in ipykernel 6. Use .get_parent()\u001b[0m \u001b[1;30m(raised from \u001b[0m\n",
              "\u001b[1;30m/home/aswin/anaconda3/envs/jina/lib/python3.9/site-packages/ipywidgets/widgets/widget_output.py:112)\u001b[0m\n"
            ]
          },
          "metadata": {},
          "output_type": "display_data"
        },
        {
          "data": {
            "text/html": [
              "<pre style=\"white-space:pre;overflow-x:auto;line-height:normal;font-family:Menlo,'DejaVu Sans Mono',consolas,'Courier New',monospace\"><span style=\"color: #808000; text-decoration-color: #808000; font-weight: bold\">DeprecationWarning: Kernel._parent_header is deprecated in ipykernel 6. Use .get_parent()</span> <span style=\"color: #000000; text-decoration-color: #000000; font-weight: bold\">(raised from </span>\n",
              "<span style=\"color: #000000; text-decoration-color: #000000; font-weight: bold\">/home/aswin/anaconda3/envs/jina/lib/python3.9/site-packages/ipywidgets/widgets/widget_output.py:111)</span>\n",
              "</pre>\n"
            ],
            "text/plain": [
              "\u001b[1;33mDeprecationWarning: Kernel._parent_header is deprecated in ipykernel 6. Use .get_parent()\u001b[0m \u001b[1;30m(raised from \u001b[0m\n",
              "\u001b[1;30m/home/aswin/anaconda3/envs/jina/lib/python3.9/site-packages/ipywidgets/widgets/widget_output.py:111)\u001b[0m\n"
            ]
          },
          "metadata": {},
          "output_type": "display_data"
        },
        {
          "data": {
            "text/html": [
              "<pre style=\"white-space:pre;overflow-x:auto;line-height:normal;font-family:Menlo,'DejaVu Sans Mono',consolas,'Courier New',monospace\"><span style=\"color: #808000; text-decoration-color: #808000; font-weight: bold\">DeprecationWarning: Kernel._parent_header is deprecated in ipykernel 6. Use .get_parent()</span> <span style=\"color: #000000; text-decoration-color: #000000; font-weight: bold\">(raised from </span>\n",
              "<span style=\"color: #000000; text-decoration-color: #000000; font-weight: bold\">/home/aswin/anaconda3/envs/jina/lib/python3.9/site-packages/ipywidgets/widgets/widget_output.py:112)</span>\n",
              "</pre>\n"
            ],
            "text/plain": [
              "\u001b[1;33mDeprecationWarning: Kernel._parent_header is deprecated in ipykernel 6. Use .get_parent()\u001b[0m \u001b[1;30m(raised from \u001b[0m\n",
              "\u001b[1;30m/home/aswin/anaconda3/envs/jina/lib/python3.9/site-packages/ipywidgets/widgets/widget_output.py:112)\u001b[0m\n"
            ]
          },
          "metadata": {},
          "output_type": "display_data"
        },
        {
          "data": {
            "text/html": [
              "<pre style=\"white-space:pre;overflow-x:auto;line-height:normal;font-family:Menlo,'DejaVu Sans Mono',consolas,'Courier New',monospace\"><span style=\"color: #808000; text-decoration-color: #808000; font-weight: bold\">DeprecationWarning: Kernel._parent_header is deprecated in ipykernel 6. Use .get_parent()</span> <span style=\"color: #000000; text-decoration-color: #000000; font-weight: bold\">(raised from </span>\n",
              "<span style=\"color: #000000; text-decoration-color: #000000; font-weight: bold\">/home/aswin/anaconda3/envs/jina/lib/python3.9/site-packages/ipywidgets/widgets/widget_output.py:111)</span>\n",
              "</pre>\n"
            ],
            "text/plain": [
              "\u001b[1;33mDeprecationWarning: Kernel._parent_header is deprecated in ipykernel 6. Use .get_parent()\u001b[0m \u001b[1;30m(raised from \u001b[0m\n",
              "\u001b[1;30m/home/aswin/anaconda3/envs/jina/lib/python3.9/site-packages/ipywidgets/widgets/widget_output.py:111)\u001b[0m\n"
            ]
          },
          "metadata": {},
          "output_type": "display_data"
        },
        {
          "data": {
            "text/html": [
              "<pre style=\"white-space:pre;overflow-x:auto;line-height:normal;font-family:Menlo,'DejaVu Sans Mono',consolas,'Courier New',monospace\"><span style=\"color: #808000; text-decoration-color: #808000; font-weight: bold\">DeprecationWarning: Kernel._parent_header is deprecated in ipykernel 6. Use .get_parent()</span> <span style=\"color: #000000; text-decoration-color: #000000; font-weight: bold\">(raised from </span>\n",
              "<span style=\"color: #000000; text-decoration-color: #000000; font-weight: bold\">/home/aswin/anaconda3/envs/jina/lib/python3.9/site-packages/ipywidgets/widgets/widget_output.py:112)</span>\n",
              "</pre>\n"
            ],
            "text/plain": [
              "\u001b[1;33mDeprecationWarning: Kernel._parent_header is deprecated in ipykernel 6. Use .get_parent()\u001b[0m \u001b[1;30m(raised from \u001b[0m\n",
              "\u001b[1;30m/home/aswin/anaconda3/envs/jina/lib/python3.9/site-packages/ipywidgets/widgets/widget_output.py:112)\u001b[0m\n"
            ]
          },
          "metadata": {},
          "output_type": "display_data"
        },
        {
          "data": {
            "text/html": [
              "<pre style=\"white-space:pre;overflow-x:auto;line-height:normal;font-family:Menlo,'DejaVu Sans Mono',consolas,'Courier New',monospace\"><span style=\"color: #808000; text-decoration-color: #808000; font-weight: bold\">DeprecationWarning: Kernel._parent_header is deprecated in ipykernel 6. Use .get_parent()</span> <span style=\"color: #000000; text-decoration-color: #000000; font-weight: bold\">(raised from </span>\n",
              "<span style=\"color: #000000; text-decoration-color: #000000; font-weight: bold\">/home/aswin/anaconda3/envs/jina/lib/python3.9/site-packages/ipywidgets/widgets/widget_output.py:111)</span>\n",
              "</pre>\n"
            ],
            "text/plain": [
              "\u001b[1;33mDeprecationWarning: Kernel._parent_header is deprecated in ipykernel 6. Use .get_parent()\u001b[0m \u001b[1;30m(raised from \u001b[0m\n",
              "\u001b[1;30m/home/aswin/anaconda3/envs/jina/lib/python3.9/site-packages/ipywidgets/widgets/widget_output.py:111)\u001b[0m\n"
            ]
          },
          "metadata": {},
          "output_type": "display_data"
        },
        {
          "data": {
            "text/html": [
              "<pre style=\"white-space:pre;overflow-x:auto;line-height:normal;font-family:Menlo,'DejaVu Sans Mono',consolas,'Courier New',monospace\"><span style=\"color: #808000; text-decoration-color: #808000; font-weight: bold\">DeprecationWarning: Kernel._parent_header is deprecated in ipykernel 6. Use .get_parent()</span> <span style=\"color: #000000; text-decoration-color: #000000; font-weight: bold\">(raised from </span>\n",
              "<span style=\"color: #000000; text-decoration-color: #000000; font-weight: bold\">/home/aswin/anaconda3/envs/jina/lib/python3.9/site-packages/ipywidgets/widgets/widget_output.py:112)</span>\n",
              "</pre>\n"
            ],
            "text/plain": [
              "\u001b[1;33mDeprecationWarning: Kernel._parent_header is deprecated in ipykernel 6. Use .get_parent()\u001b[0m \u001b[1;30m(raised from \u001b[0m\n",
              "\u001b[1;30m/home/aswin/anaconda3/envs/jina/lib/python3.9/site-packages/ipywidgets/widgets/widget_output.py:112)\u001b[0m\n"
            ]
          },
          "metadata": {},
          "output_type": "display_data"
        },
        {
          "data": {
            "text/html": [
              "<pre style=\"white-space:pre;overflow-x:auto;line-height:normal;font-family:Menlo,'DejaVu Sans Mono',consolas,'Courier New',monospace\"><span style=\"color: #808000; text-decoration-color: #808000; font-weight: bold\">DeprecationWarning: Kernel._parent_header is deprecated in ipykernel 6. Use .get_parent()</span> <span style=\"color: #000000; text-decoration-color: #000000; font-weight: bold\">(raised from </span>\n",
              "<span style=\"color: #000000; text-decoration-color: #000000; font-weight: bold\">/home/aswin/anaconda3/envs/jina/lib/python3.9/site-packages/ipywidgets/widgets/widget_output.py:111)</span>\n",
              "</pre>\n"
            ],
            "text/plain": [
              "\u001b[1;33mDeprecationWarning: Kernel._parent_header is deprecated in ipykernel 6. Use .get_parent()\u001b[0m \u001b[1;30m(raised from \u001b[0m\n",
              "\u001b[1;30m/home/aswin/anaconda3/envs/jina/lib/python3.9/site-packages/ipywidgets/widgets/widget_output.py:111)\u001b[0m\n"
            ]
          },
          "metadata": {},
          "output_type": "display_data"
        },
        {
          "data": {
            "text/html": [
              "<pre style=\"white-space:pre;overflow-x:auto;line-height:normal;font-family:Menlo,'DejaVu Sans Mono',consolas,'Courier New',monospace\"><span style=\"color: #808000; text-decoration-color: #808000; font-weight: bold\">DeprecationWarning: Kernel._parent_header is deprecated in ipykernel 6. Use .get_parent()</span> <span style=\"color: #000000; text-decoration-color: #000000; font-weight: bold\">(raised from </span>\n",
              "<span style=\"color: #000000; text-decoration-color: #000000; font-weight: bold\">/home/aswin/anaconda3/envs/jina/lib/python3.9/site-packages/ipywidgets/widgets/widget_output.py:112)</span>\n",
              "</pre>\n"
            ],
            "text/plain": [
              "\u001b[1;33mDeprecationWarning: Kernel._parent_header is deprecated in ipykernel 6. Use .get_parent()\u001b[0m \u001b[1;30m(raised from \u001b[0m\n",
              "\u001b[1;30m/home/aswin/anaconda3/envs/jina/lib/python3.9/site-packages/ipywidgets/widgets/widget_output.py:112)\u001b[0m\n"
            ]
          },
          "metadata": {},
          "output_type": "display_data"
        },
        {
          "data": {
            "text/html": [
              "<pre style=\"white-space:pre;overflow-x:auto;line-height:normal;font-family:Menlo,'DejaVu Sans Mono',consolas,'Courier New',monospace\"><span style=\"color: #808000; text-decoration-color: #808000; font-weight: bold\">DeprecationWarning: Kernel._parent_header is deprecated in ipykernel 6. Use .get_parent()</span> <span style=\"color: #000000; text-decoration-color: #000000; font-weight: bold\">(raised from </span>\n",
              "<span style=\"color: #000000; text-decoration-color: #000000; font-weight: bold\">/home/aswin/anaconda3/envs/jina/lib/python3.9/site-packages/ipywidgets/widgets/widget_output.py:111)</span>\n",
              "</pre>\n"
            ],
            "text/plain": [
              "\u001b[1;33mDeprecationWarning: Kernel._parent_header is deprecated in ipykernel 6. Use .get_parent()\u001b[0m \u001b[1;30m(raised from \u001b[0m\n",
              "\u001b[1;30m/home/aswin/anaconda3/envs/jina/lib/python3.9/site-packages/ipywidgets/widgets/widget_output.py:111)\u001b[0m\n"
            ]
          },
          "metadata": {},
          "output_type": "display_data"
        },
        {
          "data": {
            "text/html": [
              "<pre style=\"white-space:pre;overflow-x:auto;line-height:normal;font-family:Menlo,'DejaVu Sans Mono',consolas,'Courier New',monospace\"><span style=\"color: #808000; text-decoration-color: #808000; font-weight: bold\">DeprecationWarning: Kernel._parent_header is deprecated in ipykernel 6. Use .get_parent()</span> <span style=\"color: #000000; text-decoration-color: #000000; font-weight: bold\">(raised from </span>\n",
              "<span style=\"color: #000000; text-decoration-color: #000000; font-weight: bold\">/home/aswin/anaconda3/envs/jina/lib/python3.9/site-packages/ipywidgets/widgets/widget_output.py:112)</span>\n",
              "</pre>\n"
            ],
            "text/plain": [
              "\u001b[1;33mDeprecationWarning: Kernel._parent_header is deprecated in ipykernel 6. Use .get_parent()\u001b[0m \u001b[1;30m(raised from \u001b[0m\n",
              "\u001b[1;30m/home/aswin/anaconda3/envs/jina/lib/python3.9/site-packages/ipywidgets/widgets/widget_output.py:112)\u001b[0m\n"
            ]
          },
          "metadata": {},
          "output_type": "display_data"
        },
        {
          "data": {
            "text/html": [
              "<pre style=\"white-space:pre;overflow-x:auto;line-height:normal;font-family:Menlo,'DejaVu Sans Mono',consolas,'Courier New',monospace\"><span style=\"color: #808000; text-decoration-color: #808000; font-weight: bold\">DeprecationWarning: Kernel._parent_header is deprecated in ipykernel 6. Use .get_parent()</span> <span style=\"color: #000000; text-decoration-color: #000000; font-weight: bold\">(raised from </span>\n",
              "<span style=\"color: #000000; text-decoration-color: #000000; font-weight: bold\">/home/aswin/anaconda3/envs/jina/lib/python3.9/site-packages/ipywidgets/widgets/widget_output.py:111)</span>\n",
              "</pre>\n"
            ],
            "text/plain": [
              "\u001b[1;33mDeprecationWarning: Kernel._parent_header is deprecated in ipykernel 6. Use .get_parent()\u001b[0m \u001b[1;30m(raised from \u001b[0m\n",
              "\u001b[1;30m/home/aswin/anaconda3/envs/jina/lib/python3.9/site-packages/ipywidgets/widgets/widget_output.py:111)\u001b[0m\n"
            ]
          },
          "metadata": {},
          "output_type": "display_data"
        },
        {
          "data": {
            "text/html": [
              "<pre style=\"white-space:pre;overflow-x:auto;line-height:normal;font-family:Menlo,'DejaVu Sans Mono',consolas,'Courier New',monospace\"><span style=\"color: #808000; text-decoration-color: #808000; font-weight: bold\">DeprecationWarning: Kernel._parent_header is deprecated in ipykernel 6. Use .get_parent()</span> <span style=\"color: #000000; text-decoration-color: #000000; font-weight: bold\">(raised from </span>\n",
              "<span style=\"color: #000000; text-decoration-color: #000000; font-weight: bold\">/home/aswin/anaconda3/envs/jina/lib/python3.9/site-packages/ipywidgets/widgets/widget_output.py:112)</span>\n",
              "</pre>\n"
            ],
            "text/plain": [
              "\u001b[1;33mDeprecationWarning: Kernel._parent_header is deprecated in ipykernel 6. Use .get_parent()\u001b[0m \u001b[1;30m(raised from \u001b[0m\n",
              "\u001b[1;30m/home/aswin/anaconda3/envs/jina/lib/python3.9/site-packages/ipywidgets/widgets/widget_output.py:112)\u001b[0m\n"
            ]
          },
          "metadata": {},
          "output_type": "display_data"
        },
        {
          "data": {
            "text/html": [
              "<pre style=\"white-space:pre;overflow-x:auto;line-height:normal;font-family:Menlo,'DejaVu Sans Mono',consolas,'Courier New',monospace\"><span style=\"color: #808000; text-decoration-color: #808000; font-weight: bold\">DeprecationWarning: Kernel._parent_header is deprecated in ipykernel 6. Use .get_parent()</span> <span style=\"color: #000000; text-decoration-color: #000000; font-weight: bold\">(raised from </span>\n",
              "<span style=\"color: #000000; text-decoration-color: #000000; font-weight: bold\">/home/aswin/anaconda3/envs/jina/lib/python3.9/site-packages/ipywidgets/widgets/widget_output.py:111)</span>\n",
              "</pre>\n"
            ],
            "text/plain": [
              "\u001b[1;33mDeprecationWarning: Kernel._parent_header is deprecated in ipykernel 6. Use .get_parent()\u001b[0m \u001b[1;30m(raised from \u001b[0m\n",
              "\u001b[1;30m/home/aswin/anaconda3/envs/jina/lib/python3.9/site-packages/ipywidgets/widgets/widget_output.py:111)\u001b[0m\n"
            ]
          },
          "metadata": {},
          "output_type": "display_data"
        },
        {
          "data": {
            "text/html": [
              "<pre style=\"white-space:pre;overflow-x:auto;line-height:normal;font-family:Menlo,'DejaVu Sans Mono',consolas,'Courier New',monospace\"><span style=\"color: #808000; text-decoration-color: #808000; font-weight: bold\">DeprecationWarning: Kernel._parent_header is deprecated in ipykernel 6. Use .get_parent()</span> <span style=\"color: #000000; text-decoration-color: #000000; font-weight: bold\">(raised from </span>\n",
              "<span style=\"color: #000000; text-decoration-color: #000000; font-weight: bold\">/home/aswin/anaconda3/envs/jina/lib/python3.9/site-packages/ipywidgets/widgets/widget_output.py:112)</span>\n",
              "</pre>\n"
            ],
            "text/plain": [
              "\u001b[1;33mDeprecationWarning: Kernel._parent_header is deprecated in ipykernel 6. Use .get_parent()\u001b[0m \u001b[1;30m(raised from \u001b[0m\n",
              "\u001b[1;30m/home/aswin/anaconda3/envs/jina/lib/python3.9/site-packages/ipywidgets/widgets/widget_output.py:112)\u001b[0m\n"
            ]
          },
          "metadata": {},
          "output_type": "display_data"
        },
        {
          "data": {
            "text/html": [
              "<pre style=\"white-space:pre;overflow-x:auto;line-height:normal;font-family:Menlo,'DejaVu Sans Mono',consolas,'Courier New',monospace\"><span style=\"color: #808000; text-decoration-color: #808000; font-weight: bold\">DeprecationWarning: Kernel._parent_header is deprecated in ipykernel 6. Use .get_parent()</span> <span style=\"color: #000000; text-decoration-color: #000000; font-weight: bold\">(raised from </span>\n",
              "<span style=\"color: #000000; text-decoration-color: #000000; font-weight: bold\">/home/aswin/anaconda3/envs/jina/lib/python3.9/site-packages/ipywidgets/widgets/widget_output.py:111)</span>\n",
              "</pre>\n"
            ],
            "text/plain": [
              "\u001b[1;33mDeprecationWarning: Kernel._parent_header is deprecated in ipykernel 6. Use .get_parent()\u001b[0m \u001b[1;30m(raised from \u001b[0m\n",
              "\u001b[1;30m/home/aswin/anaconda3/envs/jina/lib/python3.9/site-packages/ipywidgets/widgets/widget_output.py:111)\u001b[0m\n"
            ]
          },
          "metadata": {},
          "output_type": "display_data"
        },
        {
          "data": {
            "text/html": [
              "<pre style=\"white-space:pre;overflow-x:auto;line-height:normal;font-family:Menlo,'DejaVu Sans Mono',consolas,'Courier New',monospace\"><span style=\"color: #808000; text-decoration-color: #808000; font-weight: bold\">DeprecationWarning: Kernel._parent_header is deprecated in ipykernel 6. Use .get_parent()</span> <span style=\"color: #000000; text-decoration-color: #000000; font-weight: bold\">(raised from </span>\n",
              "<span style=\"color: #000000; text-decoration-color: #000000; font-weight: bold\">/home/aswin/anaconda3/envs/jina/lib/python3.9/site-packages/ipywidgets/widgets/widget_output.py:112)</span>\n",
              "</pre>\n"
            ],
            "text/plain": [
              "\u001b[1;33mDeprecationWarning: Kernel._parent_header is deprecated in ipykernel 6. Use .get_parent()\u001b[0m \u001b[1;30m(raised from \u001b[0m\n",
              "\u001b[1;30m/home/aswin/anaconda3/envs/jina/lib/python3.9/site-packages/ipywidgets/widgets/widget_output.py:112)\u001b[0m\n"
            ]
          },
          "metadata": {},
          "output_type": "display_data"
        },
        {
          "data": {
            "text/html": [
              "<pre style=\"white-space:pre;overflow-x:auto;line-height:normal;font-family:Menlo,'DejaVu Sans Mono',consolas,'Courier New',monospace\"><span style=\"color: #808000; text-decoration-color: #808000; font-weight: bold\">DeprecationWarning: Kernel._parent_header is deprecated in ipykernel 6. Use .get_parent()</span> <span style=\"color: #000000; text-decoration-color: #000000; font-weight: bold\">(raised from </span>\n",
              "<span style=\"color: #000000; text-decoration-color: #000000; font-weight: bold\">/home/aswin/anaconda3/envs/jina/lib/python3.9/site-packages/ipywidgets/widgets/widget_output.py:111)</span>\n",
              "</pre>\n"
            ],
            "text/plain": [
              "\u001b[1;33mDeprecationWarning: Kernel._parent_header is deprecated in ipykernel 6. Use .get_parent()\u001b[0m \u001b[1;30m(raised from \u001b[0m\n",
              "\u001b[1;30m/home/aswin/anaconda3/envs/jina/lib/python3.9/site-packages/ipywidgets/widgets/widget_output.py:111)\u001b[0m\n"
            ]
          },
          "metadata": {},
          "output_type": "display_data"
        },
        {
          "data": {
            "text/html": [
              "<pre style=\"white-space:pre;overflow-x:auto;line-height:normal;font-family:Menlo,'DejaVu Sans Mono',consolas,'Courier New',monospace\"><span style=\"color: #808000; text-decoration-color: #808000; font-weight: bold\">DeprecationWarning: Kernel._parent_header is deprecated in ipykernel 6. Use .get_parent()</span> <span style=\"color: #000000; text-decoration-color: #000000; font-weight: bold\">(raised from </span>\n",
              "<span style=\"color: #000000; text-decoration-color: #000000; font-weight: bold\">/home/aswin/anaconda3/envs/jina/lib/python3.9/site-packages/ipywidgets/widgets/widget_output.py:112)</span>\n",
              "</pre>\n"
            ],
            "text/plain": [
              "\u001b[1;33mDeprecationWarning: Kernel._parent_header is deprecated in ipykernel 6. Use .get_parent()\u001b[0m \u001b[1;30m(raised from \u001b[0m\n",
              "\u001b[1;30m/home/aswin/anaconda3/envs/jina/lib/python3.9/site-packages/ipywidgets/widgets/widget_output.py:112)\u001b[0m\n"
            ]
          },
          "metadata": {},
          "output_type": "display_data"
        },
        {
          "data": {
            "text/html": [
              "<pre style=\"white-space:pre;overflow-x:auto;line-height:normal;font-family:Menlo,'DejaVu Sans Mono',consolas,'Courier New',monospace\"><span style=\"color: #808000; text-decoration-color: #808000; font-weight: bold\">DeprecationWarning: Kernel._parent_header is deprecated in ipykernel 6. Use .get_parent()</span> <span style=\"color: #000000; text-decoration-color: #000000; font-weight: bold\">(raised from </span>\n",
              "<span style=\"color: #000000; text-decoration-color: #000000; font-weight: bold\">/home/aswin/anaconda3/envs/jina/lib/python3.9/site-packages/ipywidgets/widgets/widget_output.py:111)</span>\n",
              "</pre>\n"
            ],
            "text/plain": [
              "\u001b[1;33mDeprecationWarning: Kernel._parent_header is deprecated in ipykernel 6. Use .get_parent()\u001b[0m \u001b[1;30m(raised from \u001b[0m\n",
              "\u001b[1;30m/home/aswin/anaconda3/envs/jina/lib/python3.9/site-packages/ipywidgets/widgets/widget_output.py:111)\u001b[0m\n"
            ]
          },
          "metadata": {},
          "output_type": "display_data"
        },
        {
          "data": {
            "text/html": [
              "<pre style=\"white-space:pre;overflow-x:auto;line-height:normal;font-family:Menlo,'DejaVu Sans Mono',consolas,'Courier New',monospace\"><span style=\"color: #808000; text-decoration-color: #808000; font-weight: bold\">DeprecationWarning: Kernel._parent_header is deprecated in ipykernel 6. Use .get_parent()</span> <span style=\"color: #000000; text-decoration-color: #000000; font-weight: bold\">(raised from </span>\n",
              "<span style=\"color: #000000; text-decoration-color: #000000; font-weight: bold\">/home/aswin/anaconda3/envs/jina/lib/python3.9/site-packages/ipywidgets/widgets/widget_output.py:112)</span>\n",
              "</pre>\n"
            ],
            "text/plain": [
              "\u001b[1;33mDeprecationWarning: Kernel._parent_header is deprecated in ipykernel 6. Use .get_parent()\u001b[0m \u001b[1;30m(raised from \u001b[0m\n",
              "\u001b[1;30m/home/aswin/anaconda3/envs/jina/lib/python3.9/site-packages/ipywidgets/widgets/widget_output.py:112)\u001b[0m\n"
            ]
          },
          "metadata": {},
          "output_type": "display_data"
        },
        {
          "data": {
            "text/html": [
              "<pre style=\"white-space:pre;overflow-x:auto;line-height:normal;font-family:Menlo,'DejaVu Sans Mono',consolas,'Courier New',monospace\"></pre>\n"
            ],
            "text/plain": []
          },
          "metadata": {},
          "output_type": "display_data"
        },
        {
          "data": {
            "text/html": [
              "<pre style=\"white-space:pre;overflow-x:auto;line-height:normal;font-family:Menlo,'DejaVu Sans Mono',consolas,'Courier New',monospace\"></pre>\n"
            ],
            "text/plain": []
          },
          "metadata": {},
          "output_type": "display_data"
        },
        {
          "data": {
            "application/vnd.jupyter.widget-view+json": {
              "model_id": "346a543c97264a4c96f2c18efc5edba0",
              "version_major": 2,
              "version_minor": 0
            },
            "text/plain": [
              "Output()"
            ]
          },
          "metadata": {},
          "output_type": "display_data"
        },
        {
          "data": {
            "text/html": [
              "<pre style=\"white-space:pre;overflow-x:auto;line-height:normal;font-family:Menlo,'DejaVu Sans Mono',consolas,'Courier New',monospace\"><span style=\"color: #808000; text-decoration-color: #808000; font-weight: bold\">DeprecationWarning: Kernel._parent_header is deprecated in ipykernel 6. Use .get_parent()</span> <span style=\"color: #000000; text-decoration-color: #000000; font-weight: bold\">(raised from </span>\n",
              "<span style=\"color: #000000; text-decoration-color: #000000; font-weight: bold\">/home/aswin/anaconda3/envs/jina/lib/python3.9/site-packages/ipywidgets/widgets/widget_output.py:111)</span>\n",
              "</pre>\n"
            ],
            "text/plain": [
              "\u001b[1;33mDeprecationWarning: Kernel._parent_header is deprecated in ipykernel 6. Use .get_parent()\u001b[0m \u001b[1;30m(raised from \u001b[0m\n",
              "\u001b[1;30m/home/aswin/anaconda3/envs/jina/lib/python3.9/site-packages/ipywidgets/widgets/widget_output.py:111)\u001b[0m\n"
            ]
          },
          "metadata": {},
          "output_type": "display_data"
        },
        {
          "data": {
            "text/html": [
              "<pre style=\"white-space:pre;overflow-x:auto;line-height:normal;font-family:Menlo,'DejaVu Sans Mono',consolas,'Courier New',monospace\"><span style=\"color: #808000; text-decoration-color: #808000; font-weight: bold\">DeprecationWarning: Kernel._parent_header is deprecated in ipykernel 6. Use .get_parent()</span> <span style=\"color: #000000; text-decoration-color: #000000; font-weight: bold\">(raised from </span>\n",
              "<span style=\"color: #000000; text-decoration-color: #000000; font-weight: bold\">/home/aswin/anaconda3/envs/jina/lib/python3.9/site-packages/ipywidgets/widgets/widget_output.py:112)</span>\n",
              "</pre>\n"
            ],
            "text/plain": [
              "\u001b[1;33mDeprecationWarning: Kernel._parent_header is deprecated in ipykernel 6. Use .get_parent()\u001b[0m \u001b[1;30m(raised from \u001b[0m\n",
              "\u001b[1;30m/home/aswin/anaconda3/envs/jina/lib/python3.9/site-packages/ipywidgets/widgets/widget_output.py:112)\u001b[0m\n"
            ]
          },
          "metadata": {},
          "output_type": "display_data"
        },
        {
          "data": {
            "text/html": [
              "<pre style=\"white-space:pre;overflow-x:auto;line-height:normal;font-family:Menlo,'DejaVu Sans Mono',consolas,'Courier New',monospace\"><span style=\"color: #808000; text-decoration-color: #808000; font-weight: bold\">DeprecationWarning: Kernel._parent_header is deprecated in ipykernel 6. Use .get_parent()</span> <span style=\"color: #000000; text-decoration-color: #000000; font-weight: bold\">(raised from </span>\n",
              "<span style=\"color: #000000; text-decoration-color: #000000; font-weight: bold\">/home/aswin/anaconda3/envs/jina/lib/python3.9/site-packages/ipywidgets/widgets/widget_output.py:111)</span>\n",
              "</pre>\n"
            ],
            "text/plain": [
              "\u001b[1;33mDeprecationWarning: Kernel._parent_header is deprecated in ipykernel 6. Use .get_parent()\u001b[0m \u001b[1;30m(raised from \u001b[0m\n",
              "\u001b[1;30m/home/aswin/anaconda3/envs/jina/lib/python3.9/site-packages/ipywidgets/widgets/widget_output.py:111)\u001b[0m\n"
            ]
          },
          "metadata": {},
          "output_type": "display_data"
        },
        {
          "name": "stderr",
          "output_type": "stream",
          "text": [
            "\u001b[1;33mDeprecationWarning: Setting `workspace` via `metas.workspace` is deprecated. Instead, use `f.add(..., workspace=...)` when defining a a Flow in Python; the `workspace` parameter when defining a Flow using YAML; or `--workspace` when starting an Executor using the CLI.\u001b[0m \u001b[1;30m(raised from /home/aswin/anaconda3/envs/jina/lib/python3.9/site-packages/jina/serve/executors/__init__.py:216)\u001b[0m\n"
          ]
        },
        {
          "data": {
            "text/html": [
              "<pre style=\"white-space:pre;overflow-x:auto;line-height:normal;font-family:Menlo,'DejaVu Sans Mono',consolas,'Courier New',monospace\"><span style=\"color: #808000; text-decoration-color: #808000; font-weight: bold\">DeprecationWarning: Kernel._parent_header is deprecated in ipykernel 6. Use .get_parent()</span> <span style=\"color: #000000; text-decoration-color: #000000; font-weight: bold\">(raised from </span>\n",
              "<span style=\"color: #000000; text-decoration-color: #000000; font-weight: bold\">/home/aswin/anaconda3/envs/jina/lib/python3.9/site-packages/ipywidgets/widgets/widget_output.py:112)</span>\n",
              "</pre>\n"
            ],
            "text/plain": [
              "\u001b[1;33mDeprecationWarning: Kernel._parent_header is deprecated in ipykernel 6. Use .get_parent()\u001b[0m \u001b[1;30m(raised from \u001b[0m\n",
              "\u001b[1;30m/home/aswin/anaconda3/envs/jina/lib/python3.9/site-packages/ipywidgets/widgets/widget_output.py:112)\u001b[0m\n"
            ]
          },
          "metadata": {},
          "output_type": "display_data"
        },
        {
          "data": {
            "text/html": [
              "<pre style=\"white-space:pre;overflow-x:auto;line-height:normal;font-family:Menlo,'DejaVu Sans Mono',consolas,'Courier New',monospace\"><span style=\"color: #008000; text-decoration-color: #008000\">DEBUG </span> <span style=\"color: #7f7f7f; text-decoration-color: #7f7f7f\">gateway/rep-</span><span style=\"color: #7fbfbf; text-decoration-color: #7fbfbf; font-weight: bold\">0</span><span style=\"color: #7f7f7f; text-decoration-color: #7f7f7f\">@</span><span style=\"color: #7fbfbf; text-decoration-color: #7fbfbf; font-weight: bold\">35130</span> ready and listening                                                  <span style=\"color: #7f7f7f; text-decoration-color: #7f7f7f\">[08/16/22 16:25:25]</span>\n",
              "</pre>\n"
            ],
            "text/plain": [
              "\u001b[32mDEBUG \u001b[0m \u001b[2mgateway/rep-\u001b[0m\u001b[1;2;36m0\u001b[0m\u001b[2m@\u001b[0m\u001b[1;2;36m35130\u001b[0m ready and listening                                                  \u001b[2m[08/16/22 16:25:25]\u001b[0m\n"
            ]
          },
          "metadata": {},
          "output_type": "display_data"
        },
        {
          "data": {
            "text/html": [
              "<pre style=\"white-space:pre;overflow-x:auto;line-height:normal;font-family:Menlo,'DejaVu Sans Mono',consolas,'Courier New',monospace\"><span style=\"color: #808000; text-decoration-color: #808000; font-weight: bold\">DeprecationWarning: Kernel._parent_header is deprecated in ipykernel 6. Use .get_parent()</span> <span style=\"color: #000000; text-decoration-color: #000000; font-weight: bold\">(raised from </span>\n",
              "<span style=\"color: #000000; text-decoration-color: #000000; font-weight: bold\">/home/aswin/anaconda3/envs/jina/lib/python3.9/site-packages/ipywidgets/widgets/widget_output.py:111)</span>\n",
              "</pre>\n"
            ],
            "text/plain": [
              "\u001b[1;33mDeprecationWarning: Kernel._parent_header is deprecated in ipykernel 6. Use .get_parent()\u001b[0m \u001b[1;30m(raised from \u001b[0m\n",
              "\u001b[1;30m/home/aswin/anaconda3/envs/jina/lib/python3.9/site-packages/ipywidgets/widgets/widget_output.py:111)\u001b[0m\n"
            ]
          },
          "metadata": {},
          "output_type": "display_data"
        },
        {
          "data": {
            "text/html": [
              "<pre style=\"white-space:pre;overflow-x:auto;line-height:normal;font-family:Menlo,'DejaVu Sans Mono',consolas,'Courier New',monospace\"><span style=\"color: #808000; text-decoration-color: #808000; font-weight: bold\">DeprecationWarning: Kernel._parent_header is deprecated in ipykernel 6. Use .get_parent()</span> <span style=\"color: #000000; text-decoration-color: #000000; font-weight: bold\">(raised from </span>\n",
              "<span style=\"color: #000000; text-decoration-color: #000000; font-weight: bold\">/home/aswin/anaconda3/envs/jina/lib/python3.9/site-packages/ipywidgets/widgets/widget_output.py:112)</span>\n",
              "</pre>\n"
            ],
            "text/plain": [
              "\u001b[1;33mDeprecationWarning: Kernel._parent_header is deprecated in ipykernel 6. Use .get_parent()\u001b[0m \u001b[1;30m(raised from \u001b[0m\n",
              "\u001b[1;30m/home/aswin/anaconda3/envs/jina/lib/python3.9/site-packages/ipywidgets/widgets/widget_output.py:112)\u001b[0m\n"
            ]
          },
          "metadata": {},
          "output_type": "display_data"
        },
        {
          "data": {
            "text/html": [
              "<pre style=\"white-space:pre;overflow-x:auto;line-height:normal;font-family:Menlo,'DejaVu Sans Mono',consolas,'Courier New',monospace\"><span style=\"color: #008000; text-decoration-color: #008000\">DEBUG </span> <span style=\"color: #7f7f7f; text-decoration-color: #7f7f7f\">executor0/rep-</span><span style=\"color: #7fbfbf; text-decoration-color: #7fbfbf; font-weight: bold\">0</span><span style=\"color: #7f7f7f; text-decoration-color: #7f7f7f\">@</span><span style=\"color: #7fbfbf; text-decoration-color: #7fbfbf; font-weight: bold\">35618</span> <span style=\"font-weight: bold\">&lt;</span><span style=\"color: #ff00ff; text-decoration-color: #ff00ff; font-weight: bold\">executor.AnnLiteIndexer</span><span style=\"color: #000000; text-decoration-color: #000000\"> object at </span><span style=\"color: #008080; text-decoration-color: #008080; font-weight: bold\">0x7f3e74ce3d60</span><span style=\"font-weight: bold\">&gt;</span> is successfully <span style=\"color: #7f7f7f; text-decoration-color: #7f7f7f\">[08/16/22 16:25:25]</span>\n",
              "       loaded!                                                                                  <span style=\"color: #7f7f7f; text-decoration-color: #7f7f7f\">                   </span>\n",
              "</pre>\n"
            ],
            "text/plain": [
              "\u001b[32mDEBUG \u001b[0m \u001b[2mexecutor0/rep-\u001b[0m\u001b[1;2;36m0\u001b[0m\u001b[2m@\u001b[0m\u001b[1;2;36m35618\u001b[0m \u001b[1m<\u001b[0m\u001b[1;95mexecutor.AnnLiteIndexer\u001b[0m\u001b[39m object at \u001b[0m\u001b[1;36m0x7f3e74ce3d60\u001b[0m\u001b[1m>\u001b[0m is successfully \u001b[2m[08/16/22 16:25:25]\u001b[0m\n",
              "       loaded!                                                                                  \u001b[2m                   \u001b[0m\n"
            ]
          },
          "metadata": {},
          "output_type": "display_data"
        },
        {
          "data": {
            "text/html": [
              "<pre style=\"white-space:pre;overflow-x:auto;line-height:normal;font-family:Menlo,'DejaVu Sans Mono',consolas,'Courier New',monospace\"><span style=\"color: #808000; text-decoration-color: #808000; font-weight: bold\">DeprecationWarning: Kernel._parent_header is deprecated in ipykernel 6. Use .get_parent()</span> <span style=\"color: #000000; text-decoration-color: #000000; font-weight: bold\">(raised from </span>\n",
              "<span style=\"color: #000000; text-decoration-color: #000000; font-weight: bold\">/home/aswin/anaconda3/envs/jina/lib/python3.9/site-packages/ipywidgets/widgets/widget_output.py:111)</span>\n",
              "</pre>\n"
            ],
            "text/plain": [
              "\u001b[1;33mDeprecationWarning: Kernel._parent_header is deprecated in ipykernel 6. Use .get_parent()\u001b[0m \u001b[1;30m(raised from \u001b[0m\n",
              "\u001b[1;30m/home/aswin/anaconda3/envs/jina/lib/python3.9/site-packages/ipywidgets/widgets/widget_output.py:111)\u001b[0m\n"
            ]
          },
          "metadata": {},
          "output_type": "display_data"
        },
        {
          "data": {
            "text/html": [
              "<pre style=\"white-space:pre;overflow-x:auto;line-height:normal;font-family:Menlo,'DejaVu Sans Mono',consolas,'Courier New',monospace\"><span style=\"color: #808000; text-decoration-color: #808000; font-weight: bold\">DeprecationWarning: Kernel._parent_header is deprecated in ipykernel 6. Use .get_parent()</span> <span style=\"color: #000000; text-decoration-color: #000000; font-weight: bold\">(raised from </span>\n",
              "<span style=\"color: #000000; text-decoration-color: #000000; font-weight: bold\">/home/aswin/anaconda3/envs/jina/lib/python3.9/site-packages/ipywidgets/widgets/widget_output.py:112)</span>\n",
              "</pre>\n"
            ],
            "text/plain": [
              "\u001b[1;33mDeprecationWarning: Kernel._parent_header is deprecated in ipykernel 6. Use .get_parent()\u001b[0m \u001b[1;30m(raised from \u001b[0m\n",
              "\u001b[1;30m/home/aswin/anaconda3/envs/jina/lib/python3.9/site-packages/ipywidgets/widgets/widget_output.py:112)\u001b[0m\n"
            ]
          },
          "metadata": {},
          "output_type": "display_data"
        },
        {
          "data": {
            "text/html": [
              "<pre style=\"white-space:pre;overflow-x:auto;line-height:normal;font-family:Menlo,'DejaVu Sans Mono',consolas,'Courier New',monospace\"><span style=\"color: #808000; text-decoration-color: #808000; font-weight: bold\">DeprecationWarning: Kernel._parent_header is deprecated in ipykernel 6. Use .get_parent()</span> <span style=\"color: #000000; text-decoration-color: #000000; font-weight: bold\">(raised from </span>\n",
              "<span style=\"color: #000000; text-decoration-color: #000000; font-weight: bold\">/home/aswin/anaconda3/envs/jina/lib/python3.9/site-packages/ipywidgets/widgets/widget_output.py:111)</span>\n",
              "</pre>\n"
            ],
            "text/plain": [
              "\u001b[1;33mDeprecationWarning: Kernel._parent_header is deprecated in ipykernel 6. Use .get_parent()\u001b[0m \u001b[1;30m(raised from \u001b[0m\n",
              "\u001b[1;30m/home/aswin/anaconda3/envs/jina/lib/python3.9/site-packages/ipywidgets/widgets/widget_output.py:111)\u001b[0m\n"
            ]
          },
          "metadata": {},
          "output_type": "display_data"
        },
        {
          "data": {
            "text/html": [
              "<pre style=\"white-space:pre;overflow-x:auto;line-height:normal;font-family:Menlo,'DejaVu Sans Mono',consolas,'Courier New',monospace\"><span style=\"color: #808000; text-decoration-color: #808000; font-weight: bold\">DeprecationWarning: Kernel._parent_header is deprecated in ipykernel 6. Use .get_parent()</span> <span style=\"color: #000000; text-decoration-color: #000000; font-weight: bold\">(raised from </span>\n",
              "<span style=\"color: #000000; text-decoration-color: #000000; font-weight: bold\">/home/aswin/anaconda3/envs/jina/lib/python3.9/site-packages/ipywidgets/widgets/widget_output.py:112)</span>\n",
              "</pre>\n"
            ],
            "text/plain": [
              "\u001b[1;33mDeprecationWarning: Kernel._parent_header is deprecated in ipykernel 6. Use .get_parent()\u001b[0m \u001b[1;30m(raised from \u001b[0m\n",
              "\u001b[1;30m/home/aswin/anaconda3/envs/jina/lib/python3.9/site-packages/ipywidgets/widgets/widget_output.py:112)\u001b[0m\n"
            ]
          },
          "metadata": {},
          "output_type": "display_data"
        },
        {
          "data": {
            "text/html": [
              "<pre style=\"white-space:pre;overflow-x:auto;line-height:normal;font-family:Menlo,'DejaVu Sans Mono',consolas,'Courier New',monospace\"><span style=\"color: #808000; text-decoration-color: #808000; font-weight: bold\">DeprecationWarning: Kernel._parent_header is deprecated in ipykernel 6. Use .get_parent()</span> <span style=\"color: #000000; text-decoration-color: #000000; font-weight: bold\">(raised from </span>\n",
              "<span style=\"color: #000000; text-decoration-color: #000000; font-weight: bold\">/home/aswin/anaconda3/envs/jina/lib/python3.9/site-packages/ipywidgets/widgets/widget_output.py:111)</span>\n",
              "</pre>\n"
            ],
            "text/plain": [
              "\u001b[1;33mDeprecationWarning: Kernel._parent_header is deprecated in ipykernel 6. Use .get_parent()\u001b[0m \u001b[1;30m(raised from \u001b[0m\n",
              "\u001b[1;30m/home/aswin/anaconda3/envs/jina/lib/python3.9/site-packages/ipywidgets/widgets/widget_output.py:111)\u001b[0m\n"
            ]
          },
          "metadata": {},
          "output_type": "display_data"
        },
        {
          "data": {
            "text/html": [
              "<pre style=\"white-space:pre;overflow-x:auto;line-height:normal;font-family:Menlo,'DejaVu Sans Mono',consolas,'Courier New',monospace\"><span style=\"color: #808000; text-decoration-color: #808000; font-weight: bold\">DeprecationWarning: Kernel._parent_header is deprecated in ipykernel 6. Use .get_parent()</span> <span style=\"color: #000000; text-decoration-color: #000000; font-weight: bold\">(raised from </span>\n",
              "<span style=\"color: #000000; text-decoration-color: #000000; font-weight: bold\">/home/aswin/anaconda3/envs/jina/lib/python3.9/site-packages/ipywidgets/widgets/widget_output.py:112)</span>\n",
              "</pre>\n"
            ],
            "text/plain": [
              "\u001b[1;33mDeprecationWarning: Kernel._parent_header is deprecated in ipykernel 6. Use .get_parent()\u001b[0m \u001b[1;30m(raised from \u001b[0m\n",
              "\u001b[1;30m/home/aswin/anaconda3/envs/jina/lib/python3.9/site-packages/ipywidgets/widgets/widget_output.py:112)\u001b[0m\n"
            ]
          },
          "metadata": {},
          "output_type": "display_data"
        },
        {
          "data": {
            "text/html": [
              "<pre style=\"white-space:pre;overflow-x:auto;line-height:normal;font-family:Menlo,'DejaVu Sans Mono',consolas,'Courier New',monospace\"><span style=\"color: #808000; text-decoration-color: #808000; font-weight: bold\">DeprecationWarning: Kernel._parent_header is deprecated in ipykernel 6. Use .get_parent()</span> <span style=\"color: #000000; text-decoration-color: #000000; font-weight: bold\">(raised from </span>\n",
              "<span style=\"color: #000000; text-decoration-color: #000000; font-weight: bold\">/home/aswin/anaconda3/envs/jina/lib/python3.9/site-packages/ipywidgets/widgets/widget_output.py:111)</span>\n",
              "</pre>\n"
            ],
            "text/plain": [
              "\u001b[1;33mDeprecationWarning: Kernel._parent_header is deprecated in ipykernel 6. Use .get_parent()\u001b[0m \u001b[1;30m(raised from \u001b[0m\n",
              "\u001b[1;30m/home/aswin/anaconda3/envs/jina/lib/python3.9/site-packages/ipywidgets/widgets/widget_output.py:111)\u001b[0m\n"
            ]
          },
          "metadata": {},
          "output_type": "display_data"
        },
        {
          "data": {
            "text/html": [
              "<pre style=\"white-space:pre;overflow-x:auto;line-height:normal;font-family:Menlo,'DejaVu Sans Mono',consolas,'Courier New',monospace\"><span style=\"color: #808000; text-decoration-color: #808000; font-weight: bold\">DeprecationWarning: Kernel._parent_header is deprecated in ipykernel 6. Use .get_parent()</span> <span style=\"color: #000000; text-decoration-color: #000000; font-weight: bold\">(raised from </span>\n",
              "<span style=\"color: #000000; text-decoration-color: #000000; font-weight: bold\">/home/aswin/anaconda3/envs/jina/lib/python3.9/site-packages/ipywidgets/widgets/widget_output.py:112)</span>\n",
              "</pre>\n"
            ],
            "text/plain": [
              "\u001b[1;33mDeprecationWarning: Kernel._parent_header is deprecated in ipykernel 6. Use .get_parent()\u001b[0m \u001b[1;30m(raised from \u001b[0m\n",
              "\u001b[1;30m/home/aswin/anaconda3/envs/jina/lib/python3.9/site-packages/ipywidgets/widgets/widget_output.py:112)\u001b[0m\n"
            ]
          },
          "metadata": {},
          "output_type": "display_data"
        },
        {
          "data": {
            "text/html": [
              "<pre style=\"white-space:pre;overflow-x:auto;line-height:normal;font-family:Menlo,'DejaVu Sans Mono',consolas,'Courier New',monospace\"><span style=\"color: #808000; text-decoration-color: #808000; font-weight: bold\">DeprecationWarning: Kernel._parent_header is deprecated in ipykernel 6. Use .get_parent()</span> <span style=\"color: #000000; text-decoration-color: #000000; font-weight: bold\">(raised from </span>\n",
              "<span style=\"color: #000000; text-decoration-color: #000000; font-weight: bold\">/home/aswin/anaconda3/envs/jina/lib/python3.9/site-packages/ipywidgets/widgets/widget_output.py:111)</span>\n",
              "</pre>\n"
            ],
            "text/plain": [
              "\u001b[1;33mDeprecationWarning: Kernel._parent_header is deprecated in ipykernel 6. Use .get_parent()\u001b[0m \u001b[1;30m(raised from \u001b[0m\n",
              "\u001b[1;30m/home/aswin/anaconda3/envs/jina/lib/python3.9/site-packages/ipywidgets/widgets/widget_output.py:111)\u001b[0m\n"
            ]
          },
          "metadata": {},
          "output_type": "display_data"
        },
        {
          "data": {
            "text/html": [
              "<pre style=\"white-space:pre;overflow-x:auto;line-height:normal;font-family:Menlo,'DejaVu Sans Mono',consolas,'Courier New',monospace\"><span style=\"color: #808000; text-decoration-color: #808000; font-weight: bold\">DeprecationWarning: Kernel._parent_header is deprecated in ipykernel 6. Use .get_parent()</span> <span style=\"color: #000000; text-decoration-color: #000000; font-weight: bold\">(raised from </span>\n",
              "<span style=\"color: #000000; text-decoration-color: #000000; font-weight: bold\">/home/aswin/anaconda3/envs/jina/lib/python3.9/site-packages/ipywidgets/widgets/widget_output.py:112)</span>\n",
              "</pre>\n"
            ],
            "text/plain": [
              "\u001b[1;33mDeprecationWarning: Kernel._parent_header is deprecated in ipykernel 6. Use .get_parent()\u001b[0m \u001b[1;30m(raised from \u001b[0m\n",
              "\u001b[1;30m/home/aswin/anaconda3/envs/jina/lib/python3.9/site-packages/ipywidgets/widgets/widget_output.py:112)\u001b[0m\n"
            ]
          },
          "metadata": {},
          "output_type": "display_data"
        },
        {
          "data": {
            "text/html": [
              "<pre style=\"white-space:pre;overflow-x:auto;line-height:normal;font-family:Menlo,'DejaVu Sans Mono',consolas,'Courier New',monospace\"><span style=\"color: #808000; text-decoration-color: #808000; font-weight: bold\">DeprecationWarning: Kernel._parent_header is deprecated in ipykernel 6. Use .get_parent()</span> <span style=\"color: #000000; text-decoration-color: #000000; font-weight: bold\">(raised from </span>\n",
              "<span style=\"color: #000000; text-decoration-color: #000000; font-weight: bold\">/home/aswin/anaconda3/envs/jina/lib/python3.9/site-packages/ipywidgets/widgets/widget_output.py:111)</span>\n",
              "</pre>\n"
            ],
            "text/plain": [
              "\u001b[1;33mDeprecationWarning: Kernel._parent_header is deprecated in ipykernel 6. Use .get_parent()\u001b[0m \u001b[1;30m(raised from \u001b[0m\n",
              "\u001b[1;30m/home/aswin/anaconda3/envs/jina/lib/python3.9/site-packages/ipywidgets/widgets/widget_output.py:111)\u001b[0m\n"
            ]
          },
          "metadata": {},
          "output_type": "display_data"
        },
        {
          "data": {
            "text/html": [
              "<pre style=\"white-space:pre;overflow-x:auto;line-height:normal;font-family:Menlo,'DejaVu Sans Mono',consolas,'Courier New',monospace\"><span style=\"color: #808000; text-decoration-color: #808000; font-weight: bold\">DeprecationWarning: Kernel._parent_header is deprecated in ipykernel 6. Use .get_parent()</span> <span style=\"color: #000000; text-decoration-color: #000000; font-weight: bold\">(raised from </span>\n",
              "<span style=\"color: #000000; text-decoration-color: #000000; font-weight: bold\">/home/aswin/anaconda3/envs/jina/lib/python3.9/site-packages/ipywidgets/widgets/widget_output.py:112)</span>\n",
              "</pre>\n"
            ],
            "text/plain": [
              "\u001b[1;33mDeprecationWarning: Kernel._parent_header is deprecated in ipykernel 6. Use .get_parent()\u001b[0m \u001b[1;30m(raised from \u001b[0m\n",
              "\u001b[1;30m/home/aswin/anaconda3/envs/jina/lib/python3.9/site-packages/ipywidgets/widgets/widget_output.py:112)\u001b[0m\n"
            ]
          },
          "metadata": {},
          "output_type": "display_data"
        },
        {
          "data": {
            "text/html": [
              "<pre style=\"white-space:pre;overflow-x:auto;line-height:normal;font-family:Menlo,'DejaVu Sans Mono',consolas,'Courier New',monospace\"><span style=\"color: #808000; text-decoration-color: #808000; font-weight: bold\">DeprecationWarning: Kernel._parent_header is deprecated in ipykernel 6. Use .get_parent()</span> <span style=\"color: #000000; text-decoration-color: #000000; font-weight: bold\">(raised from </span>\n",
              "<span style=\"color: #000000; text-decoration-color: #000000; font-weight: bold\">/home/aswin/anaconda3/envs/jina/lib/python3.9/site-packages/ipywidgets/widgets/widget_output.py:111)</span>\n",
              "</pre>\n"
            ],
            "text/plain": [
              "\u001b[1;33mDeprecationWarning: Kernel._parent_header is deprecated in ipykernel 6. Use .get_parent()\u001b[0m \u001b[1;30m(raised from \u001b[0m\n",
              "\u001b[1;30m/home/aswin/anaconda3/envs/jina/lib/python3.9/site-packages/ipywidgets/widgets/widget_output.py:111)\u001b[0m\n"
            ]
          },
          "metadata": {},
          "output_type": "display_data"
        },
        {
          "data": {
            "text/html": [
              "<pre style=\"white-space:pre;overflow-x:auto;line-height:normal;font-family:Menlo,'DejaVu Sans Mono',consolas,'Courier New',monospace\"><span style=\"color: #808000; text-decoration-color: #808000; font-weight: bold\">DeprecationWarning: Kernel._parent_header is deprecated in ipykernel 6. Use .get_parent()</span> <span style=\"color: #000000; text-decoration-color: #000000; font-weight: bold\">(raised from </span>\n",
              "<span style=\"color: #000000; text-decoration-color: #000000; font-weight: bold\">/home/aswin/anaconda3/envs/jina/lib/python3.9/site-packages/ipywidgets/widgets/widget_output.py:112)</span>\n",
              "</pre>\n"
            ],
            "text/plain": [
              "\u001b[1;33mDeprecationWarning: Kernel._parent_header is deprecated in ipykernel 6. Use .get_parent()\u001b[0m \u001b[1;30m(raised from \u001b[0m\n",
              "\u001b[1;30m/home/aswin/anaconda3/envs/jina/lib/python3.9/site-packages/ipywidgets/widgets/widget_output.py:112)\u001b[0m\n"
            ]
          },
          "metadata": {},
          "output_type": "display_data"
        },
        {
          "data": {
            "text/html": [
              "<pre style=\"white-space:pre;overflow-x:auto;line-height:normal;font-family:Menlo,'DejaVu Sans Mono',consolas,'Courier New',monospace\"><span style=\"color: #808000; text-decoration-color: #808000; font-weight: bold\">DeprecationWarning: Kernel._parent_header is deprecated in ipykernel 6. Use .get_parent()</span> <span style=\"color: #000000; text-decoration-color: #000000; font-weight: bold\">(raised from </span>\n",
              "<span style=\"color: #000000; text-decoration-color: #000000; font-weight: bold\">/home/aswin/anaconda3/envs/jina/lib/python3.9/site-packages/ipywidgets/widgets/widget_output.py:111)</span>\n",
              "</pre>\n"
            ],
            "text/plain": [
              "\u001b[1;33mDeprecationWarning: Kernel._parent_header is deprecated in ipykernel 6. Use .get_parent()\u001b[0m \u001b[1;30m(raised from \u001b[0m\n",
              "\u001b[1;30m/home/aswin/anaconda3/envs/jina/lib/python3.9/site-packages/ipywidgets/widgets/widget_output.py:111)\u001b[0m\n"
            ]
          },
          "metadata": {},
          "output_type": "display_data"
        },
        {
          "data": {
            "text/html": [
              "<pre style=\"white-space:pre;overflow-x:auto;line-height:normal;font-family:Menlo,'DejaVu Sans Mono',consolas,'Courier New',monospace\"><span style=\"color: #808000; text-decoration-color: #808000; font-weight: bold\">DeprecationWarning: Kernel._parent_header is deprecated in ipykernel 6. Use .get_parent()</span> <span style=\"color: #000000; text-decoration-color: #000000; font-weight: bold\">(raised from </span>\n",
              "<span style=\"color: #000000; text-decoration-color: #000000; font-weight: bold\">/home/aswin/anaconda3/envs/jina/lib/python3.9/site-packages/ipywidgets/widgets/widget_output.py:112)</span>\n",
              "</pre>\n"
            ],
            "text/plain": [
              "\u001b[1;33mDeprecationWarning: Kernel._parent_header is deprecated in ipykernel 6. Use .get_parent()\u001b[0m \u001b[1;30m(raised from \u001b[0m\n",
              "\u001b[1;30m/home/aswin/anaconda3/envs/jina/lib/python3.9/site-packages/ipywidgets/widgets/widget_output.py:112)\u001b[0m\n"
            ]
          },
          "metadata": {},
          "output_type": "display_data"
        },
        {
          "data": {
            "text/html": [
              "<pre style=\"white-space:pre;overflow-x:auto;line-height:normal;font-family:Menlo,'DejaVu Sans Mono',consolas,'Courier New',monospace\"><span style=\"color: #00ff00; text-decoration-color: #00ff00\">─────────────────────────────────────────── </span>🎉 Flow is ready to serve!<span style=\"color: #00ff00; text-decoration-color: #00ff00\"> ────────────────────────────────────────────</span>\n",
              "╭────────────── 🔗 <span style=\"font-weight: bold\">Endpoint</span> ───────────────╮\n",
              "│  ⛓      Protocol                   GRPC  │\n",
              "│  🏠        Local          <a href=\"grpc://0.0.0.0:55396\" target=\"_blank\"><span style=\"color: #00ff00; text-decoration-color: #00ff00; font-weight: bold\">0.0.0.0</span></a><a href=\"grpc://0.0.0.0:55396\" target=\"_blank\">:</a><a href=\"grpc://0.0.0.0:55396\" target=\"_blank\"><span style=\"color: #008080; text-decoration-color: #008080; font-weight: bold\">55396</span></a>  │\n",
              "│  🔒      Private    <a href=\"grpc://192.168.0.102:55396\" target=\"_blank\"><span style=\"color: #00ff00; text-decoration-color: #00ff00; font-weight: bold\">192.168.0.102</span></a><a href=\"grpc://192.168.0.102:55396\" target=\"_blank\">:</a><a href=\"grpc://192.168.0.102:55396\" target=\"_blank\"><span style=\"color: #008080; text-decoration-color: #008080; font-weight: bold\">55396</span></a>  │\n",
              "│  🌍       Public      <a href=\"grpc://93.241.46.4:55396\" target=\"_blank\"><span style=\"color: #00ff00; text-decoration-color: #00ff00; font-weight: bold\">93.241.46.4</span></a><a href=\"grpc://93.241.46.4:55396\" target=\"_blank\">:</a><a href=\"grpc://93.241.46.4:55396\" target=\"_blank\"><span style=\"color: #008080; text-decoration-color: #008080; font-weight: bold\">55396</span></a>  │\n",
              "╰──────────────────────────────────────────╯\n",
              "</pre>\n"
            ],
            "text/plain": [
              "\u001b[92m─────────────────────────────────────────── \u001b[0m🎉 Flow is ready to serve!\u001b[92m ────────────────────────────────────────────\u001b[0m\n",
              "╭────────────── 🔗 \u001b[1mEndpoint\u001b[0m ───────────────╮\n",
              "│  ⛓      Protocol                   GRPC  │\n",
              "│  🏠        Local          \u001b]8;id=158667;grpc://0.0.0.0:55396\u001b\\\u001b[1;92m0.0.0.0\u001b[0m\u001b]8;;\u001b\\\u001b]8;id=850167;grpc://0.0.0.0:55396\u001b\\:\u001b]8;;\u001b\\\u001b]8;id=213061;grpc://0.0.0.0:55396\u001b\\\u001b[1;36m55396\u001b[0m\u001b]8;;\u001b\\  │\n",
              "│  🔒      Private    \u001b]8;id=329428;grpc://192.168.0.102:55396\u001b\\\u001b[1;92m192.168.0.102\u001b[0m\u001b]8;;\u001b\\\u001b]8;id=405252;grpc://192.168.0.102:55396\u001b\\:\u001b]8;;\u001b\\\u001b]8;id=618868;grpc://192.168.0.102:55396\u001b\\\u001b[1;36m55396\u001b[0m\u001b]8;;\u001b\\  │\n",
              "│  🌍       Public      \u001b]8;id=117182;grpc://93.241.46.4:55396\u001b\\\u001b[1;92m93.241.46.4\u001b[0m\u001b]8;;\u001b\\\u001b]8;id=810504;grpc://93.241.46.4:55396\u001b\\:\u001b]8;;\u001b\\\u001b]8;id=427521;grpc://93.241.46.4:55396\u001b\\\u001b[1;36m55396\u001b[0m\u001b]8;;\u001b\\  │\n",
              "╰──────────────────────────────────────────╯\n"
            ]
          },
          "metadata": {},
          "output_type": "display_data"
        },
        {
          "data": {
            "text/html": [
              "<pre style=\"white-space:pre;overflow-x:auto;line-height:normal;font-family:Menlo,'DejaVu Sans Mono',consolas,'Courier New',monospace\"></pre>\n"
            ],
            "text/plain": []
          },
          "metadata": {},
          "output_type": "display_data"
        },
        {
          "data": {
            "text/html": [
              "<pre style=\"white-space:pre;overflow-x:auto;line-height:normal;font-family:Menlo,'DejaVu Sans Mono',consolas,'Courier New',monospace\">\n",
              "</pre>\n"
            ],
            "text/plain": [
              "\n"
            ]
          },
          "metadata": {},
          "output_type": "display_data"
        },
        {
          "data": {
            "text/html": [
              "<pre style=\"white-space:pre;overflow-x:auto;line-height:normal;font-family:Menlo,'DejaVu Sans Mono',consolas,'Courier New',monospace\"><span style=\"color: #008000; text-decoration-color: #008000\">DEBUG </span> <span style=\"color: #7f7f7f; text-decoration-color: #7f7f7f\">Flow@</span><span style=\"color: #7fbfbf; text-decoration-color: #7fbfbf; font-weight: bold\">35130</span> <span style=\"color: #008080; text-decoration-color: #008080; font-weight: bold\">2</span> Deployments <span style=\"font-weight: bold\">(</span>i.e. <span style=\"color: #008080; text-decoration-color: #008080; font-weight: bold\">2</span> Pods<span style=\"font-weight: bold\">)</span> are running in this Flow                          <span style=\"color: #7f7f7f; text-decoration-color: #7f7f7f\">[08/16/22 16:25:26]</span>\n",
              "</pre>\n"
            ],
            "text/plain": [
              "\u001b[32mDEBUG \u001b[0m \u001b[2mFlow@\u001b[0m\u001b[1;2;36m35130\u001b[0m \u001b[1;36m2\u001b[0m Deployments \u001b[1m(\u001b[0mi.e. \u001b[1;36m2\u001b[0m Pods\u001b[1m)\u001b[0m are running in this Flow                          \u001b[2m[08/16/22 16:25:26]\u001b[0m\n"
            ]
          },
          "metadata": {},
          "output_type": "display_data"
        },
        {
          "data": {
            "text/html": [
              "<pre style=\"white-space:pre;overflow-x:auto;line-height:normal;font-family:Menlo,'DejaVu Sans Mono',consolas,'Courier New',monospace\"><span style=\"color: #008000; text-decoration-color: #008000\">DEBUG </span> <span style=\"color: #7f7f7f; text-decoration-color: #7f7f7f\">GRPCClient@</span><span style=\"color: #7fbfbf; text-decoration-color: #7fbfbf; font-weight: bold\">35130</span> connected to <span style=\"color: #00ff00; text-decoration-color: #00ff00; font-weight: bold\">0.0.0.0</span>:<span style=\"color: #008080; text-decoration-color: #008080; font-weight: bold\">55396</span>                                              <span style=\"color: #7f7f7f; text-decoration-color: #7f7f7f\">[08/16/22 16:25:27]</span>\n",
              "</pre>\n"
            ],
            "text/plain": [
              "\u001b[32mDEBUG \u001b[0m \u001b[2mGRPCClient@\u001b[0m\u001b[1;2;36m35130\u001b[0m connected to \u001b[1;92m0.0.0.0\u001b[0m:\u001b[1;36m55396\u001b[0m                                              \u001b[2m[08/16/22 16:25:27]\u001b[0m\n"
            ]
          },
          "metadata": {},
          "output_type": "display_data"
        },
        {
          "data": {
            "application/vnd.jupyter.widget-view+json": {
              "model_id": "a13e6671d25e4a6ea0556fa6821c1e4d",
              "version_major": 2,
              "version_minor": 0
            },
            "text/plain": [
              "Output()"
            ]
          },
          "metadata": {},
          "output_type": "display_data"
        },
        {
          "data": {
            "text/html": [
              "<pre style=\"white-space:pre;overflow-x:auto;line-height:normal;font-family:Menlo,'DejaVu Sans Mono',consolas,'Courier New',monospace\"><span style=\"color: #808000; text-decoration-color: #808000; font-weight: bold\">DeprecationWarning: Kernel._parent_header is deprecated in ipykernel 6. Use .get_parent()</span> <span style=\"color: #000000; text-decoration-color: #000000; font-weight: bold\">(raised from </span>\n",
              "<span style=\"color: #000000; text-decoration-color: #000000; font-weight: bold\">/home/aswin/anaconda3/envs/jina/lib/python3.9/site-packages/ipywidgets/widgets/widget_output.py:111)</span>\n",
              "</pre>\n"
            ],
            "text/plain": [
              "\u001b[1;33mDeprecationWarning: Kernel._parent_header is deprecated in ipykernel 6. Use .get_parent()\u001b[0m \u001b[1;30m(raised from \u001b[0m\n",
              "\u001b[1;30m/home/aswin/anaconda3/envs/jina/lib/python3.9/site-packages/ipywidgets/widgets/widget_output.py:111)\u001b[0m\n"
            ]
          },
          "metadata": {},
          "output_type": "display_data"
        },
        {
          "data": {
            "text/html": [
              "<pre style=\"white-space:pre;overflow-x:auto;line-height:normal;font-family:Menlo,'DejaVu Sans Mono',consolas,'Courier New',monospace\"><span style=\"color: #808000; text-decoration-color: #808000; font-weight: bold\">DeprecationWarning: Kernel._parent_header is deprecated in ipykernel 6. Use .get_parent()</span> <span style=\"color: #000000; text-decoration-color: #000000; font-weight: bold\">(raised from </span>\n",
              "<span style=\"color: #000000; text-decoration-color: #000000; font-weight: bold\">/home/aswin/anaconda3/envs/jina/lib/python3.9/site-packages/ipywidgets/widgets/widget_output.py:112)</span>\n",
              "</pre>\n"
            ],
            "text/plain": [
              "\u001b[1;33mDeprecationWarning: Kernel._parent_header is deprecated in ipykernel 6. Use .get_parent()\u001b[0m \u001b[1;30m(raised from \u001b[0m\n",
              "\u001b[1;30m/home/aswin/anaconda3/envs/jina/lib/python3.9/site-packages/ipywidgets/widgets/widget_output.py:112)\u001b[0m\n"
            ]
          },
          "metadata": {},
          "output_type": "display_data"
        },
        {
          "data": {
            "text/html": [
              "<pre style=\"white-space:pre;overflow-x:auto;line-height:normal;font-family:Menlo,'DejaVu Sans Mono',consolas,'Courier New',monospace\"><span style=\"color: #808000; text-decoration-color: #808000; font-weight: bold\">DeprecationWarning: Kernel._parent_header is deprecated in ipykernel 6. Use .get_parent()</span> <span style=\"color: #000000; text-decoration-color: #000000; font-weight: bold\">(raised from </span>\n",
              "<span style=\"color: #000000; text-decoration-color: #000000; font-weight: bold\">/home/aswin/anaconda3/envs/jina/lib/python3.9/site-packages/ipywidgets/widgets/widget_output.py:111)</span>\n",
              "</pre>\n"
            ],
            "text/plain": [
              "\u001b[1;33mDeprecationWarning: Kernel._parent_header is deprecated in ipykernel 6. Use .get_parent()\u001b[0m \u001b[1;30m(raised from \u001b[0m\n",
              "\u001b[1;30m/home/aswin/anaconda3/envs/jina/lib/python3.9/site-packages/ipywidgets/widgets/widget_output.py:111)\u001b[0m\n"
            ]
          },
          "metadata": {},
          "output_type": "display_data"
        },
        {
          "data": {
            "text/html": [
              "<pre style=\"white-space:pre;overflow-x:auto;line-height:normal;font-family:Menlo,'DejaVu Sans Mono',consolas,'Courier New',monospace\"><span style=\"color: #808000; text-decoration-color: #808000; font-weight: bold\">DeprecationWarning: Kernel._parent_header is deprecated in ipykernel 6. Use .get_parent()</span> <span style=\"color: #000000; text-decoration-color: #000000; font-weight: bold\">(raised from </span>\n",
              "<span style=\"color: #000000; text-decoration-color: #000000; font-weight: bold\">/home/aswin/anaconda3/envs/jina/lib/python3.9/site-packages/ipywidgets/widgets/widget_output.py:112)</span>\n",
              "</pre>\n"
            ],
            "text/plain": [
              "\u001b[1;33mDeprecationWarning: Kernel._parent_header is deprecated in ipykernel 6. Use .get_parent()\u001b[0m \u001b[1;30m(raised from \u001b[0m\n",
              "\u001b[1;30m/home/aswin/anaconda3/envs/jina/lib/python3.9/site-packages/ipywidgets/widgets/widget_output.py:112)\u001b[0m\n"
            ]
          },
          "metadata": {},
          "output_type": "display_data"
        },
        {
          "data": {
            "text/html": [
              "<pre style=\"white-space:pre;overflow-x:auto;line-height:normal;font-family:Menlo,'DejaVu Sans Mono',consolas,'Courier New',monospace\"><span style=\"color: #808000; text-decoration-color: #808000; font-weight: bold\">DeprecationWarning: Kernel._parent_header is deprecated in ipykernel 6. Use .get_parent()</span> <span style=\"color: #000000; text-decoration-color: #000000; font-weight: bold\">(raised from </span>\n",
              "<span style=\"color: #000000; text-decoration-color: #000000; font-weight: bold\">/home/aswin/anaconda3/envs/jina/lib/python3.9/site-packages/ipywidgets/widgets/widget_output.py:111)</span>\n",
              "</pre>\n"
            ],
            "text/plain": [
              "\u001b[1;33mDeprecationWarning: Kernel._parent_header is deprecated in ipykernel 6. Use .get_parent()\u001b[0m \u001b[1;30m(raised from \u001b[0m\n",
              "\u001b[1;30m/home/aswin/anaconda3/envs/jina/lib/python3.9/site-packages/ipywidgets/widgets/widget_output.py:111)\u001b[0m\n"
            ]
          },
          "metadata": {},
          "output_type": "display_data"
        },
        {
          "data": {
            "text/html": [
              "<pre style=\"white-space:pre;overflow-x:auto;line-height:normal;font-family:Menlo,'DejaVu Sans Mono',consolas,'Courier New',monospace\"><span style=\"color: #808000; text-decoration-color: #808000; font-weight: bold\">DeprecationWarning: Kernel._parent_header is deprecated in ipykernel 6. Use .get_parent()</span> <span style=\"color: #000000; text-decoration-color: #000000; font-weight: bold\">(raised from </span>\n",
              "<span style=\"color: #000000; text-decoration-color: #000000; font-weight: bold\">/home/aswin/anaconda3/envs/jina/lib/python3.9/site-packages/ipywidgets/widgets/widget_output.py:112)</span>\n",
              "</pre>\n"
            ],
            "text/plain": [
              "\u001b[1;33mDeprecationWarning: Kernel._parent_header is deprecated in ipykernel 6. Use .get_parent()\u001b[0m \u001b[1;30m(raised from \u001b[0m\n",
              "\u001b[1;30m/home/aswin/anaconda3/envs/jina/lib/python3.9/site-packages/ipywidgets/widgets/widget_output.py:112)\u001b[0m\n"
            ]
          },
          "metadata": {},
          "output_type": "display_data"
        },
        {
          "data": {
            "text/html": [
              "<pre style=\"white-space:pre;overflow-x:auto;line-height:normal;font-family:Menlo,'DejaVu Sans Mono',consolas,'Courier New',monospace\"><span style=\"color: #008000; text-decoration-color: #008000\">DEBUG </span> <span style=\"color: #7f7f7f; text-decoration-color: #7f7f7f\">executor0/rep-</span><span style=\"color: #7fbfbf; text-decoration-color: #7fbfbf; font-weight: bold\">0</span><span style=\"color: #7f7f7f; text-decoration-color: #7f7f7f\">@</span><span style=\"color: #7fbfbf; text-decoration-color: #7fbfbf; font-weight: bold\">35618</span> recv DataRequest at <span style=\"color: #800080; text-decoration-color: #800080\">/</span><span style=\"color: #ff00ff; text-decoration-color: #ff00ff\">index</span> with id:                                <span style=\"color: #7f7f7f; text-decoration-color: #7f7f7f\">[08/16/22 16:25:27]</span>\n",
              "       842da2cbe315470fa2ffb59b22f59111                                                         <span style=\"color: #7f7f7f; text-decoration-color: #7f7f7f\">                   </span>\n",
              "</pre>\n"
            ],
            "text/plain": [
              "\u001b[32mDEBUG \u001b[0m \u001b[2mexecutor0/rep-\u001b[0m\u001b[1;2;36m0\u001b[0m\u001b[2m@\u001b[0m\u001b[1;2;36m35618\u001b[0m recv DataRequest at \u001b[35m/\u001b[0m\u001b[95mindex\u001b[0m with id:                                \u001b[2m[08/16/22 16:25:27]\u001b[0m\n",
              "       842da2cbe315470fa2ffb59b22f59111                                                         \u001b[2m                   \u001b[0m\n"
            ]
          },
          "metadata": {},
          "output_type": "display_data"
        },
        {
          "data": {
            "text/html": [
              "<pre style=\"white-space:pre;overflow-x:auto;line-height:normal;font-family:Menlo,'DejaVu Sans Mono',consolas,'Courier New',monospace\"><span style=\"color: #808000; text-decoration-color: #808000; font-weight: bold\">DeprecationWarning: Kernel._parent_header is deprecated in ipykernel 6. Use .get_parent()</span> <span style=\"color: #000000; text-decoration-color: #000000; font-weight: bold\">(raised from </span>\n",
              "<span style=\"color: #000000; text-decoration-color: #000000; font-weight: bold\">/home/aswin/anaconda3/envs/jina/lib/python3.9/site-packages/ipywidgets/widgets/widget_output.py:111)</span>\n",
              "</pre>\n"
            ],
            "text/plain": [
              "\u001b[1;33mDeprecationWarning: Kernel._parent_header is deprecated in ipykernel 6. Use .get_parent()\u001b[0m \u001b[1;30m(raised from \u001b[0m\n",
              "\u001b[1;30m/home/aswin/anaconda3/envs/jina/lib/python3.9/site-packages/ipywidgets/widgets/widget_output.py:111)\u001b[0m\n"
            ]
          },
          "metadata": {},
          "output_type": "display_data"
        },
        {
          "data": {
            "text/html": [
              "<pre style=\"white-space:pre;overflow-x:auto;line-height:normal;font-family:Menlo,'DejaVu Sans Mono',consolas,'Courier New',monospace\"><span style=\"color: #808000; text-decoration-color: #808000; font-weight: bold\">DeprecationWarning: Kernel._parent_header is deprecated in ipykernel 6. Use .get_parent()</span> <span style=\"color: #000000; text-decoration-color: #000000; font-weight: bold\">(raised from </span>\n",
              "<span style=\"color: #000000; text-decoration-color: #000000; font-weight: bold\">/home/aswin/anaconda3/envs/jina/lib/python3.9/site-packages/ipywidgets/widgets/widget_output.py:112)</span>\n",
              "</pre>\n"
            ],
            "text/plain": [
              "\u001b[1;33mDeprecationWarning: Kernel._parent_header is deprecated in ipykernel 6. Use .get_parent()\u001b[0m \u001b[1;30m(raised from \u001b[0m\n",
              "\u001b[1;30m/home/aswin/anaconda3/envs/jina/lib/python3.9/site-packages/ipywidgets/widgets/widget_output.py:112)\u001b[0m\n"
            ]
          },
          "metadata": {},
          "output_type": "display_data"
        },
        {
          "data": {
            "text/html": [
              "<pre style=\"white-space:pre;overflow-x:auto;line-height:normal;font-family:Menlo,'DejaVu Sans Mono',consolas,'Courier New',monospace\"><span style=\"color: #808000; text-decoration-color: #808000; font-weight: bold\">DeprecationWarning: Kernel._parent_header is deprecated in ipykernel 6. Use .get_parent()</span> <span style=\"color: #000000; text-decoration-color: #000000; font-weight: bold\">(raised from </span>\n",
              "<span style=\"color: #000000; text-decoration-color: #000000; font-weight: bold\">/home/aswin/anaconda3/envs/jina/lib/python3.9/site-packages/ipywidgets/widgets/widget_output.py:111)</span>\n",
              "</pre>\n"
            ],
            "text/plain": [
              "\u001b[1;33mDeprecationWarning: Kernel._parent_header is deprecated in ipykernel 6. Use .get_parent()\u001b[0m \u001b[1;30m(raised from \u001b[0m\n",
              "\u001b[1;30m/home/aswin/anaconda3/envs/jina/lib/python3.9/site-packages/ipywidgets/widgets/widget_output.py:111)\u001b[0m\n"
            ]
          },
          "metadata": {},
          "output_type": "display_data"
        },
        {
          "data": {
            "text/html": [
              "<pre style=\"white-space:pre;overflow-x:auto;line-height:normal;font-family:Menlo,'DejaVu Sans Mono',consolas,'Courier New',monospace\"><span style=\"color: #808000; text-decoration-color: #808000; font-weight: bold\">DeprecationWarning: Kernel._parent_header is deprecated in ipykernel 6. Use .get_parent()</span> <span style=\"color: #000000; text-decoration-color: #000000; font-weight: bold\">(raised from </span>\n",
              "<span style=\"color: #000000; text-decoration-color: #000000; font-weight: bold\">/home/aswin/anaconda3/envs/jina/lib/python3.9/site-packages/ipywidgets/widgets/widget_output.py:112)</span>\n",
              "</pre>\n"
            ],
            "text/plain": [
              "\u001b[1;33mDeprecationWarning: Kernel._parent_header is deprecated in ipykernel 6. Use .get_parent()\u001b[0m \u001b[1;30m(raised from \u001b[0m\n",
              "\u001b[1;30m/home/aswin/anaconda3/envs/jina/lib/python3.9/site-packages/ipywidgets/widgets/widget_output.py:112)\u001b[0m\n"
            ]
          },
          "metadata": {},
          "output_type": "display_data"
        },
        {
          "data": {
            "text/html": [
              "<pre style=\"white-space:pre;overflow-x:auto;line-height:normal;font-family:Menlo,'DejaVu Sans Mono',consolas,'Courier New',monospace\"><span style=\"color: #808000; text-decoration-color: #808000; font-weight: bold\">DeprecationWarning: Kernel._parent_header is deprecated in ipykernel 6. Use .get_parent()</span> <span style=\"color: #000000; text-decoration-color: #000000; font-weight: bold\">(raised from </span>\n",
              "<span style=\"color: #000000; text-decoration-color: #000000; font-weight: bold\">/home/aswin/anaconda3/envs/jina/lib/python3.9/site-packages/ipywidgets/widgets/widget_output.py:111)</span>\n",
              "</pre>\n"
            ],
            "text/plain": [
              "\u001b[1;33mDeprecationWarning: Kernel._parent_header is deprecated in ipykernel 6. Use .get_parent()\u001b[0m \u001b[1;30m(raised from \u001b[0m\n",
              "\u001b[1;30m/home/aswin/anaconda3/envs/jina/lib/python3.9/site-packages/ipywidgets/widgets/widget_output.py:111)\u001b[0m\n"
            ]
          },
          "metadata": {},
          "output_type": "display_data"
        },
        {
          "data": {
            "text/html": [
              "<pre style=\"white-space:pre;overflow-x:auto;line-height:normal;font-family:Menlo,'DejaVu Sans Mono',consolas,'Courier New',monospace\"><span style=\"color: #008000; text-decoration-color: #008000\">DEBUG </span> <span style=\"color: #7f7f7f; text-decoration-color: #7f7f7f\">executor0/rep-</span><span style=\"color: #7fbfbf; text-decoration-color: #7fbfbf; font-weight: bold\">0</span><span style=\"color: #7f7f7f; text-decoration-color: #7f7f7f\">@</span><span style=\"color: #7fbfbf; text-decoration-color: #7fbfbf; font-weight: bold\">35618</span> got an endpoint discovery request                                  <span style=\"color: #7f7f7f; text-decoration-color: #7f7f7f\">                   </span>\n",
              "</pre>\n"
            ],
            "text/plain": [
              "\u001b[32mDEBUG \u001b[0m \u001b[2mexecutor0/rep-\u001b[0m\u001b[1;2;36m0\u001b[0m\u001b[2m@\u001b[0m\u001b[1;2;36m35618\u001b[0m got an endpoint discovery request                                  \u001b[2m                   \u001b[0m\n"
            ]
          },
          "metadata": {},
          "output_type": "display_data"
        },
        {
          "data": {
            "text/html": [
              "<pre style=\"white-space:pre;overflow-x:auto;line-height:normal;font-family:Menlo,'DejaVu Sans Mono',consolas,'Courier New',monospace\"><span style=\"color: #808000; text-decoration-color: #808000; font-weight: bold\">DeprecationWarning: Kernel._parent_header is deprecated in ipykernel 6. Use .get_parent()</span> <span style=\"color: #000000; text-decoration-color: #000000; font-weight: bold\">(raised from </span>\n",
              "<span style=\"color: #000000; text-decoration-color: #000000; font-weight: bold\">/home/aswin/anaconda3/envs/jina/lib/python3.9/site-packages/ipywidgets/widgets/widget_output.py:112)</span>\n",
              "</pre>\n"
            ],
            "text/plain": [
              "\u001b[1;33mDeprecationWarning: Kernel._parent_header is deprecated in ipykernel 6. Use .get_parent()\u001b[0m \u001b[1;30m(raised from \u001b[0m\n",
              "\u001b[1;30m/home/aswin/anaconda3/envs/jina/lib/python3.9/site-packages/ipywidgets/widgets/widget_output.py:112)\u001b[0m\n"
            ]
          },
          "metadata": {},
          "output_type": "display_data"
        },
        {
          "data": {
            "text/html": [
              "<pre style=\"white-space:pre;overflow-x:auto;line-height:normal;font-family:Menlo,'DejaVu Sans Mono',consolas,'Courier New',monospace\"><span style=\"color: #008000; text-decoration-color: #008000\">DEBUG </span> <span style=\"color: #7f7f7f; text-decoration-color: #7f7f7f\">executor0/rep-</span><span style=\"color: #7fbfbf; text-decoration-color: #7fbfbf; font-weight: bold\">0</span><span style=\"color: #7f7f7f; text-decoration-color: #7f7f7f\">@</span><span style=\"color: #7fbfbf; text-decoration-color: #7fbfbf; font-weight: bold\">35618</span> recv DataRequest at <span style=\"color: #800080; text-decoration-color: #800080\">/</span><span style=\"color: #ff00ff; text-decoration-color: #ff00ff\">index</span> with id:                                <span style=\"color: #7f7f7f; text-decoration-color: #7f7f7f\">[08/16/22 16:25:28]</span>\n",
              "       78e19ee0f6cb46fd888fa44f90467320                                                         <span style=\"color: #7f7f7f; text-decoration-color: #7f7f7f\">                   </span>\n",
              "</pre>\n"
            ],
            "text/plain": [
              "\u001b[32mDEBUG \u001b[0m \u001b[2mexecutor0/rep-\u001b[0m\u001b[1;2;36m0\u001b[0m\u001b[2m@\u001b[0m\u001b[1;2;36m35618\u001b[0m recv DataRequest at \u001b[35m/\u001b[0m\u001b[95mindex\u001b[0m with id:                                \u001b[2m[08/16/22 16:25:28]\u001b[0m\n",
              "       78e19ee0f6cb46fd888fa44f90467320                                                         \u001b[2m                   \u001b[0m\n"
            ]
          },
          "metadata": {},
          "output_type": "display_data"
        },
        {
          "data": {
            "text/html": [
              "<pre style=\"white-space:pre;overflow-x:auto;line-height:normal;font-family:Menlo,'DejaVu Sans Mono',consolas,'Courier New',monospace\"><span style=\"color: #808000; text-decoration-color: #808000; font-weight: bold\">DeprecationWarning: Kernel._parent_header is deprecated in ipykernel 6. Use .get_parent()</span> <span style=\"color: #000000; text-decoration-color: #000000; font-weight: bold\">(raised from </span>\n",
              "<span style=\"color: #000000; text-decoration-color: #000000; font-weight: bold\">/home/aswin/anaconda3/envs/jina/lib/python3.9/site-packages/ipywidgets/widgets/widget_output.py:111)</span>\n",
              "</pre>\n"
            ],
            "text/plain": [
              "\u001b[1;33mDeprecationWarning: Kernel._parent_header is deprecated in ipykernel 6. Use .get_parent()\u001b[0m \u001b[1;30m(raised from \u001b[0m\n",
              "\u001b[1;30m/home/aswin/anaconda3/envs/jina/lib/python3.9/site-packages/ipywidgets/widgets/widget_output.py:111)\u001b[0m\n"
            ]
          },
          "metadata": {},
          "output_type": "display_data"
        },
        {
          "data": {
            "text/html": [
              "<pre style=\"white-space:pre;overflow-x:auto;line-height:normal;font-family:Menlo,'DejaVu Sans Mono',consolas,'Courier New',monospace\"><span style=\"color: #808000; text-decoration-color: #808000; font-weight: bold\">DeprecationWarning: Kernel._parent_header is deprecated in ipykernel 6. Use .get_parent()</span> <span style=\"color: #000000; text-decoration-color: #000000; font-weight: bold\">(raised from </span>\n",
              "<span style=\"color: #000000; text-decoration-color: #000000; font-weight: bold\">/home/aswin/anaconda3/envs/jina/lib/python3.9/site-packages/ipywidgets/widgets/widget_output.py:112)</span>\n",
              "</pre>\n"
            ],
            "text/plain": [
              "\u001b[1;33mDeprecationWarning: Kernel._parent_header is deprecated in ipykernel 6. Use .get_parent()\u001b[0m \u001b[1;30m(raised from \u001b[0m\n",
              "\u001b[1;30m/home/aswin/anaconda3/envs/jina/lib/python3.9/site-packages/ipywidgets/widgets/widget_output.py:112)\u001b[0m\n"
            ]
          },
          "metadata": {},
          "output_type": "display_data"
        },
        {
          "data": {
            "text/html": [
              "<pre style=\"white-space:pre;overflow-x:auto;line-height:normal;font-family:Menlo,'DejaVu Sans Mono',consolas,'Courier New',monospace\"><span style=\"color: #008000; text-decoration-color: #008000\">DEBUG </span> <span style=\"color: #7f7f7f; text-decoration-color: #7f7f7f\">executor0/rep-</span><span style=\"color: #7fbfbf; text-decoration-color: #7fbfbf; font-weight: bold\">0</span><span style=\"color: #7f7f7f; text-decoration-color: #7f7f7f\">@</span><span style=\"color: #7fbfbf; text-decoration-color: #7fbfbf; font-weight: bold\">35618</span> recv DataRequest at <span style=\"color: #800080; text-decoration-color: #800080\">/</span><span style=\"color: #ff00ff; text-decoration-color: #ff00ff\">index</span> with id:                                <span style=\"color: #7f7f7f; text-decoration-color: #7f7f7f\">                   </span>\n",
              "       13947a0b2e8f4892b560373e0ede39d5                                                         <span style=\"color: #7f7f7f; text-decoration-color: #7f7f7f\">                   </span>\n",
              "</pre>\n"
            ],
            "text/plain": [
              "\u001b[32mDEBUG \u001b[0m \u001b[2mexecutor0/rep-\u001b[0m\u001b[1;2;36m0\u001b[0m\u001b[2m@\u001b[0m\u001b[1;2;36m35618\u001b[0m recv DataRequest at \u001b[35m/\u001b[0m\u001b[95mindex\u001b[0m with id:                                \u001b[2m                   \u001b[0m\n",
              "       13947a0b2e8f4892b560373e0ede39d5                                                         \u001b[2m                   \u001b[0m\n"
            ]
          },
          "metadata": {},
          "output_type": "display_data"
        },
        {
          "data": {
            "text/html": [
              "<pre style=\"white-space:pre;overflow-x:auto;line-height:normal;font-family:Menlo,'DejaVu Sans Mono',consolas,'Courier New',monospace\"><span style=\"color: #808000; text-decoration-color: #808000; font-weight: bold\">DeprecationWarning: Kernel._parent_header is deprecated in ipykernel 6. Use .get_parent()</span> <span style=\"color: #000000; text-decoration-color: #000000; font-weight: bold\">(raised from </span>\n",
              "<span style=\"color: #000000; text-decoration-color: #000000; font-weight: bold\">/home/aswin/anaconda3/envs/jina/lib/python3.9/site-packages/ipywidgets/widgets/widget_output.py:111)</span>\n",
              "</pre>\n"
            ],
            "text/plain": [
              "\u001b[1;33mDeprecationWarning: Kernel._parent_header is deprecated in ipykernel 6. Use .get_parent()\u001b[0m \u001b[1;30m(raised from \u001b[0m\n",
              "\u001b[1;30m/home/aswin/anaconda3/envs/jina/lib/python3.9/site-packages/ipywidgets/widgets/widget_output.py:111)\u001b[0m\n"
            ]
          },
          "metadata": {},
          "output_type": "display_data"
        },
        {
          "data": {
            "text/html": [
              "<pre style=\"white-space:pre;overflow-x:auto;line-height:normal;font-family:Menlo,'DejaVu Sans Mono',consolas,'Courier New',monospace\"><span style=\"color: #808000; text-decoration-color: #808000; font-weight: bold\">DeprecationWarning: Kernel._parent_header is deprecated in ipykernel 6. Use .get_parent()</span> <span style=\"color: #000000; text-decoration-color: #000000; font-weight: bold\">(raised from </span>\n",
              "<span style=\"color: #000000; text-decoration-color: #000000; font-weight: bold\">/home/aswin/anaconda3/envs/jina/lib/python3.9/site-packages/ipywidgets/widgets/widget_output.py:112)</span>\n",
              "</pre>\n"
            ],
            "text/plain": [
              "\u001b[1;33mDeprecationWarning: Kernel._parent_header is deprecated in ipykernel 6. Use .get_parent()\u001b[0m \u001b[1;30m(raised from \u001b[0m\n",
              "\u001b[1;30m/home/aswin/anaconda3/envs/jina/lib/python3.9/site-packages/ipywidgets/widgets/widget_output.py:112)\u001b[0m\n"
            ]
          },
          "metadata": {},
          "output_type": "display_data"
        },
        {
          "data": {
            "text/html": [
              "<pre style=\"white-space:pre;overflow-x:auto;line-height:normal;font-family:Menlo,'DejaVu Sans Mono',consolas,'Courier New',monospace\"><span style=\"color: #808000; text-decoration-color: #808000; font-weight: bold\">DeprecationWarning: Kernel._parent_header is deprecated in ipykernel 6. Use .get_parent()</span> <span style=\"color: #000000; text-decoration-color: #000000; font-weight: bold\">(raised from </span>\n",
              "<span style=\"color: #000000; text-decoration-color: #000000; font-weight: bold\">/home/aswin/anaconda3/envs/jina/lib/python3.9/site-packages/ipywidgets/widgets/widget_output.py:111)</span>\n",
              "</pre>\n"
            ],
            "text/plain": [
              "\u001b[1;33mDeprecationWarning: Kernel._parent_header is deprecated in ipykernel 6. Use .get_parent()\u001b[0m \u001b[1;30m(raised from \u001b[0m\n",
              "\u001b[1;30m/home/aswin/anaconda3/envs/jina/lib/python3.9/site-packages/ipywidgets/widgets/widget_output.py:111)\u001b[0m\n"
            ]
          },
          "metadata": {},
          "output_type": "display_data"
        },
        {
          "data": {
            "text/html": [
              "<pre style=\"white-space:pre;overflow-x:auto;line-height:normal;font-family:Menlo,'DejaVu Sans Mono',consolas,'Courier New',monospace\"><span style=\"color: #808000; text-decoration-color: #808000; font-weight: bold\">DeprecationWarning: Kernel._parent_header is deprecated in ipykernel 6. Use .get_parent()</span> <span style=\"color: #000000; text-decoration-color: #000000; font-weight: bold\">(raised from </span>\n",
              "<span style=\"color: #000000; text-decoration-color: #000000; font-weight: bold\">/home/aswin/anaconda3/envs/jina/lib/python3.9/site-packages/ipywidgets/widgets/widget_output.py:112)</span>\n",
              "</pre>\n"
            ],
            "text/plain": [
              "\u001b[1;33mDeprecationWarning: Kernel._parent_header is deprecated in ipykernel 6. Use .get_parent()\u001b[0m \u001b[1;30m(raised from \u001b[0m\n",
              "\u001b[1;30m/home/aswin/anaconda3/envs/jina/lib/python3.9/site-packages/ipywidgets/widgets/widget_output.py:112)\u001b[0m\n"
            ]
          },
          "metadata": {},
          "output_type": "display_data"
        },
        {
          "data": {
            "text/html": [
              "<pre style=\"white-space:pre;overflow-x:auto;line-height:normal;font-family:Menlo,'DejaVu Sans Mono',consolas,'Courier New',monospace\"><span style=\"color: #008000; text-decoration-color: #008000\">DEBUG </span> <span style=\"color: #7f7f7f; text-decoration-color: #7f7f7f\">executor0/rep-</span><span style=\"color: #7fbfbf; text-decoration-color: #7fbfbf; font-weight: bold\">0</span><span style=\"color: #7f7f7f; text-decoration-color: #7f7f7f\">@</span><span style=\"color: #7fbfbf; text-decoration-color: #7fbfbf; font-weight: bold\">35618</span> recv DataRequest at <span style=\"color: #800080; text-decoration-color: #800080\">/</span><span style=\"color: #ff00ff; text-decoration-color: #ff00ff\">index</span> with id:                                <span style=\"color: #7f7f7f; text-decoration-color: #7f7f7f\">                   </span>\n",
              "       9304db76e9b449fc91b4df975555638c                                                         <span style=\"color: #7f7f7f; text-decoration-color: #7f7f7f\">                   </span>\n",
              "</pre>\n"
            ],
            "text/plain": [
              "\u001b[32mDEBUG \u001b[0m \u001b[2mexecutor0/rep-\u001b[0m\u001b[1;2;36m0\u001b[0m\u001b[2m@\u001b[0m\u001b[1;2;36m35618\u001b[0m recv DataRequest at \u001b[35m/\u001b[0m\u001b[95mindex\u001b[0m with id:                                \u001b[2m                   \u001b[0m\n",
              "       9304db76e9b449fc91b4df975555638c                                                         \u001b[2m                   \u001b[0m\n"
            ]
          },
          "metadata": {},
          "output_type": "display_data"
        },
        {
          "data": {
            "text/html": [
              "<pre style=\"white-space:pre;overflow-x:auto;line-height:normal;font-family:Menlo,'DejaVu Sans Mono',consolas,'Courier New',monospace\"><span style=\"color: #808000; text-decoration-color: #808000; font-weight: bold\">DeprecationWarning: Kernel._parent_header is deprecated in ipykernel 6. Use .get_parent()</span> <span style=\"color: #000000; text-decoration-color: #000000; font-weight: bold\">(raised from </span>\n",
              "<span style=\"color: #000000; text-decoration-color: #000000; font-weight: bold\">/home/aswin/anaconda3/envs/jina/lib/python3.9/site-packages/ipywidgets/widgets/widget_output.py:111)</span>\n",
              "</pre>\n"
            ],
            "text/plain": [
              "\u001b[1;33mDeprecationWarning: Kernel._parent_header is deprecated in ipykernel 6. Use .get_parent()\u001b[0m \u001b[1;30m(raised from \u001b[0m\n",
              "\u001b[1;30m/home/aswin/anaconda3/envs/jina/lib/python3.9/site-packages/ipywidgets/widgets/widget_output.py:111)\u001b[0m\n"
            ]
          },
          "metadata": {},
          "output_type": "display_data"
        },
        {
          "data": {
            "text/html": [
              "<pre style=\"white-space:pre;overflow-x:auto;line-height:normal;font-family:Menlo,'DejaVu Sans Mono',consolas,'Courier New',monospace\"><span style=\"color: #808000; text-decoration-color: #808000; font-weight: bold\">DeprecationWarning: Kernel._parent_header is deprecated in ipykernel 6. Use .get_parent()</span> <span style=\"color: #000000; text-decoration-color: #000000; font-weight: bold\">(raised from </span>\n",
              "<span style=\"color: #000000; text-decoration-color: #000000; font-weight: bold\">/home/aswin/anaconda3/envs/jina/lib/python3.9/site-packages/ipywidgets/widgets/widget_output.py:112)</span>\n",
              "</pre>\n"
            ],
            "text/plain": [
              "\u001b[1;33mDeprecationWarning: Kernel._parent_header is deprecated in ipykernel 6. Use .get_parent()\u001b[0m \u001b[1;30m(raised from \u001b[0m\n",
              "\u001b[1;30m/home/aswin/anaconda3/envs/jina/lib/python3.9/site-packages/ipywidgets/widgets/widget_output.py:112)\u001b[0m\n"
            ]
          },
          "metadata": {},
          "output_type": "display_data"
        },
        {
          "data": {
            "text/html": [
              "<pre style=\"white-space:pre;overflow-x:auto;line-height:normal;font-family:Menlo,'DejaVu Sans Mono',consolas,'Courier New',monospace\"><span style=\"color: #808000; text-decoration-color: #808000; font-weight: bold\">DeprecationWarning: Kernel._parent_header is deprecated in ipykernel 6. Use .get_parent()</span> <span style=\"color: #000000; text-decoration-color: #000000; font-weight: bold\">(raised from </span>\n",
              "<span style=\"color: #000000; text-decoration-color: #000000; font-weight: bold\">/home/aswin/anaconda3/envs/jina/lib/python3.9/site-packages/ipywidgets/widgets/widget_output.py:111)</span>\n",
              "</pre>\n"
            ],
            "text/plain": [
              "\u001b[1;33mDeprecationWarning: Kernel._parent_header is deprecated in ipykernel 6. Use .get_parent()\u001b[0m \u001b[1;30m(raised from \u001b[0m\n",
              "\u001b[1;30m/home/aswin/anaconda3/envs/jina/lib/python3.9/site-packages/ipywidgets/widgets/widget_output.py:111)\u001b[0m\n"
            ]
          },
          "metadata": {},
          "output_type": "display_data"
        },
        {
          "data": {
            "text/html": [
              "<pre style=\"white-space:pre;overflow-x:auto;line-height:normal;font-family:Menlo,'DejaVu Sans Mono',consolas,'Courier New',monospace\"><span style=\"color: #808000; text-decoration-color: #808000; font-weight: bold\">DeprecationWarning: Kernel._parent_header is deprecated in ipykernel 6. Use .get_parent()</span> <span style=\"color: #000000; text-decoration-color: #000000; font-weight: bold\">(raised from </span>\n",
              "<span style=\"color: #000000; text-decoration-color: #000000; font-weight: bold\">/home/aswin/anaconda3/envs/jina/lib/python3.9/site-packages/ipywidgets/widgets/widget_output.py:112)</span>\n",
              "</pre>\n"
            ],
            "text/plain": [
              "\u001b[1;33mDeprecationWarning: Kernel._parent_header is deprecated in ipykernel 6. Use .get_parent()\u001b[0m \u001b[1;30m(raised from \u001b[0m\n",
              "\u001b[1;30m/home/aswin/anaconda3/envs/jina/lib/python3.9/site-packages/ipywidgets/widgets/widget_output.py:112)\u001b[0m\n"
            ]
          },
          "metadata": {},
          "output_type": "display_data"
        },
        {
          "data": {
            "text/html": [
              "<pre style=\"white-space:pre;overflow-x:auto;line-height:normal;font-family:Menlo,'DejaVu Sans Mono',consolas,'Courier New',monospace\"><span style=\"color: #008000; text-decoration-color: #008000\">DEBUG </span> <span style=\"color: #7f7f7f; text-decoration-color: #7f7f7f\">executor0/rep-</span><span style=\"color: #7fbfbf; text-decoration-color: #7fbfbf; font-weight: bold\">0</span><span style=\"color: #7f7f7f; text-decoration-color: #7f7f7f\">@</span><span style=\"color: #7fbfbf; text-decoration-color: #7fbfbf; font-weight: bold\">35618</span> recv DataRequest at <span style=\"color: #800080; text-decoration-color: #800080\">/</span><span style=\"color: #ff00ff; text-decoration-color: #ff00ff\">index</span> with id:                                <span style=\"color: #7f7f7f; text-decoration-color: #7f7f7f\">[08/16/22 16:25:29]</span>\n",
              "       01a1533eb41f445caf887a08c23d2e9b                                                         <span style=\"color: #7f7f7f; text-decoration-color: #7f7f7f\">                   </span>\n",
              "</pre>\n"
            ],
            "text/plain": [
              "\u001b[32mDEBUG \u001b[0m \u001b[2mexecutor0/rep-\u001b[0m\u001b[1;2;36m0\u001b[0m\u001b[2m@\u001b[0m\u001b[1;2;36m35618\u001b[0m recv DataRequest at \u001b[35m/\u001b[0m\u001b[95mindex\u001b[0m with id:                                \u001b[2m[08/16/22 16:25:29]\u001b[0m\n",
              "       01a1533eb41f445caf887a08c23d2e9b                                                         \u001b[2m                   \u001b[0m\n"
            ]
          },
          "metadata": {},
          "output_type": "display_data"
        },
        {
          "data": {
            "text/html": [
              "<pre style=\"white-space:pre;overflow-x:auto;line-height:normal;font-family:Menlo,'DejaVu Sans Mono',consolas,'Courier New',monospace\"><span style=\"color: #808000; text-decoration-color: #808000; font-weight: bold\">DeprecationWarning: Kernel._parent_header is deprecated in ipykernel 6. Use .get_parent()</span> <span style=\"color: #000000; text-decoration-color: #000000; font-weight: bold\">(raised from </span>\n",
              "<span style=\"color: #000000; text-decoration-color: #000000; font-weight: bold\">/home/aswin/anaconda3/envs/jina/lib/python3.9/site-packages/ipywidgets/widgets/widget_output.py:111)</span>\n",
              "</pre>\n"
            ],
            "text/plain": [
              "\u001b[1;33mDeprecationWarning: Kernel._parent_header is deprecated in ipykernel 6. Use .get_parent()\u001b[0m \u001b[1;30m(raised from \u001b[0m\n",
              "\u001b[1;30m/home/aswin/anaconda3/envs/jina/lib/python3.9/site-packages/ipywidgets/widgets/widget_output.py:111)\u001b[0m\n"
            ]
          },
          "metadata": {},
          "output_type": "display_data"
        },
        {
          "data": {
            "text/html": [
              "<pre style=\"white-space:pre;overflow-x:auto;line-height:normal;font-family:Menlo,'DejaVu Sans Mono',consolas,'Courier New',monospace\"><span style=\"color: #808000; text-decoration-color: #808000; font-weight: bold\">DeprecationWarning: Kernel._parent_header is deprecated in ipykernel 6. Use .get_parent()</span> <span style=\"color: #000000; text-decoration-color: #000000; font-weight: bold\">(raised from </span>\n",
              "<span style=\"color: #000000; text-decoration-color: #000000; font-weight: bold\">/home/aswin/anaconda3/envs/jina/lib/python3.9/site-packages/ipywidgets/widgets/widget_output.py:112)</span>\n",
              "</pre>\n"
            ],
            "text/plain": [
              "\u001b[1;33mDeprecationWarning: Kernel._parent_header is deprecated in ipykernel 6. Use .get_parent()\u001b[0m \u001b[1;30m(raised from \u001b[0m\n",
              "\u001b[1;30m/home/aswin/anaconda3/envs/jina/lib/python3.9/site-packages/ipywidgets/widgets/widget_output.py:112)\u001b[0m\n"
            ]
          },
          "metadata": {},
          "output_type": "display_data"
        },
        {
          "data": {
            "text/html": [
              "<pre style=\"white-space:pre;overflow-x:auto;line-height:normal;font-family:Menlo,'DejaVu Sans Mono',consolas,'Courier New',monospace\"><span style=\"color: #808000; text-decoration-color: #808000; font-weight: bold\">DeprecationWarning: Kernel._parent_header is deprecated in ipykernel 6. Use .get_parent()</span> <span style=\"color: #000000; text-decoration-color: #000000; font-weight: bold\">(raised from </span>\n",
              "<span style=\"color: #000000; text-decoration-color: #000000; font-weight: bold\">/home/aswin/anaconda3/envs/jina/lib/python3.9/site-packages/ipywidgets/widgets/widget_output.py:111)</span>\n",
              "</pre>\n"
            ],
            "text/plain": [
              "\u001b[1;33mDeprecationWarning: Kernel._parent_header is deprecated in ipykernel 6. Use .get_parent()\u001b[0m \u001b[1;30m(raised from \u001b[0m\n",
              "\u001b[1;30m/home/aswin/anaconda3/envs/jina/lib/python3.9/site-packages/ipywidgets/widgets/widget_output.py:111)\u001b[0m\n"
            ]
          },
          "metadata": {},
          "output_type": "display_data"
        },
        {
          "data": {
            "text/html": [
              "<pre style=\"white-space:pre;overflow-x:auto;line-height:normal;font-family:Menlo,'DejaVu Sans Mono',consolas,'Courier New',monospace\"><span style=\"color: #808000; text-decoration-color: #808000; font-weight: bold\">DeprecationWarning: Kernel._parent_header is deprecated in ipykernel 6. Use .get_parent()</span> <span style=\"color: #000000; text-decoration-color: #000000; font-weight: bold\">(raised from </span>\n",
              "<span style=\"color: #000000; text-decoration-color: #000000; font-weight: bold\">/home/aswin/anaconda3/envs/jina/lib/python3.9/site-packages/ipywidgets/widgets/widget_output.py:112)</span>\n",
              "</pre>\n"
            ],
            "text/plain": [
              "\u001b[1;33mDeprecationWarning: Kernel._parent_header is deprecated in ipykernel 6. Use .get_parent()\u001b[0m \u001b[1;30m(raised from \u001b[0m\n",
              "\u001b[1;30m/home/aswin/anaconda3/envs/jina/lib/python3.9/site-packages/ipywidgets/widgets/widget_output.py:112)\u001b[0m\n"
            ]
          },
          "metadata": {},
          "output_type": "display_data"
        },
        {
          "data": {
            "text/html": [
              "<pre style=\"white-space:pre;overflow-x:auto;line-height:normal;font-family:Menlo,'DejaVu Sans Mono',consolas,'Courier New',monospace\"><span style=\"color: #808000; text-decoration-color: #808000; font-weight: bold\">DeprecationWarning: Kernel._parent_header is deprecated in ipykernel 6. Use .get_parent()</span> <span style=\"color: #000000; text-decoration-color: #000000; font-weight: bold\">(raised from </span>\n",
              "<span style=\"color: #000000; text-decoration-color: #000000; font-weight: bold\">/home/aswin/anaconda3/envs/jina/lib/python3.9/site-packages/ipywidgets/widgets/widget_output.py:111)</span>\n",
              "</pre>\n"
            ],
            "text/plain": [
              "\u001b[1;33mDeprecationWarning: Kernel._parent_header is deprecated in ipykernel 6. Use .get_parent()\u001b[0m \u001b[1;30m(raised from \u001b[0m\n",
              "\u001b[1;30m/home/aswin/anaconda3/envs/jina/lib/python3.9/site-packages/ipywidgets/widgets/widget_output.py:111)\u001b[0m\n"
            ]
          },
          "metadata": {},
          "output_type": "display_data"
        },
        {
          "data": {
            "text/html": [
              "<pre style=\"white-space:pre;overflow-x:auto;line-height:normal;font-family:Menlo,'DejaVu Sans Mono',consolas,'Courier New',monospace\"><span style=\"color: #808000; text-decoration-color: #808000; font-weight: bold\">DeprecationWarning: Kernel._parent_header is deprecated in ipykernel 6. Use .get_parent()</span> <span style=\"color: #000000; text-decoration-color: #000000; font-weight: bold\">(raised from </span>\n",
              "<span style=\"color: #000000; text-decoration-color: #000000; font-weight: bold\">/home/aswin/anaconda3/envs/jina/lib/python3.9/site-packages/ipywidgets/widgets/widget_output.py:112)</span>\n",
              "</pre>\n"
            ],
            "text/plain": [
              "\u001b[1;33mDeprecationWarning: Kernel._parent_header is deprecated in ipykernel 6. Use .get_parent()\u001b[0m \u001b[1;30m(raised from \u001b[0m\n",
              "\u001b[1;30m/home/aswin/anaconda3/envs/jina/lib/python3.9/site-packages/ipywidgets/widgets/widget_output.py:112)\u001b[0m\n"
            ]
          },
          "metadata": {},
          "output_type": "display_data"
        },
        {
          "data": {
            "text/html": [
              "<pre style=\"white-space:pre;overflow-x:auto;line-height:normal;font-family:Menlo,'DejaVu Sans Mono',consolas,'Courier New',monospace\"></pre>\n"
            ],
            "text/plain": []
          },
          "metadata": {},
          "output_type": "display_data"
        },
        {
          "data": {
            "text/html": [
              "<pre style=\"white-space:pre;overflow-x:auto;line-height:normal;font-family:Menlo,'DejaVu Sans Mono',consolas,'Courier New',monospace\">\n",
              "</pre>\n"
            ],
            "text/plain": [
              "\n"
            ]
          },
          "metadata": {},
          "output_type": "display_data"
        },
        {
          "data": {
            "text/html": [
              "<pre style=\"white-space:pre;overflow-x:auto;line-height:normal;font-family:Menlo,'DejaVu Sans Mono',consolas,'Courier New',monospace\"><span style=\"color: #008000; text-decoration-color: #008000\">DEBUG </span> <span style=\"color: #7f7f7f; text-decoration-color: #7f7f7f\">gateway/rep-</span><span style=\"color: #7fbfbf; text-decoration-color: #7fbfbf; font-weight: bold\">0</span><span style=\"color: #7f7f7f; text-decoration-color: #7f7f7f\">@</span><span style=\"color: #7fbfbf; text-decoration-color: #7fbfbf; font-weight: bold\">35130</span> waiting for ready or shutdown signal from runtime                    <span style=\"color: #7f7f7f; text-decoration-color: #7f7f7f\">[08/16/22 16:25:29]</span>\n",
              "</pre>\n"
            ],
            "text/plain": [
              "\u001b[32mDEBUG \u001b[0m \u001b[2mgateway/rep-\u001b[0m\u001b[1;2;36m0\u001b[0m\u001b[2m@\u001b[0m\u001b[1;2;36m35130\u001b[0m waiting for ready or shutdown signal from runtime                    \u001b[2m[08/16/22 16:25:29]\u001b[0m\n"
            ]
          },
          "metadata": {},
          "output_type": "display_data"
        },
        {
          "data": {
            "text/html": [
              "<pre style=\"white-space:pre;overflow-x:auto;line-height:normal;font-family:Menlo,'DejaVu Sans Mono',consolas,'Courier New',monospace\"><span style=\"color: #008000; text-decoration-color: #008000\">DEBUG </span> <span style=\"color: #7f7f7f; text-decoration-color: #7f7f7f\">gateway/rep-</span><span style=\"color: #7fbfbf; text-decoration-color: #7fbfbf; font-weight: bold\">0</span><span style=\"color: #7f7f7f; text-decoration-color: #7f7f7f\">@</span><span style=\"color: #7fbfbf; text-decoration-color: #7fbfbf; font-weight: bold\">35130</span> terminate                                                            <span style=\"color: #7f7f7f; text-decoration-color: #7f7f7f\">                   </span>\n",
              "</pre>\n"
            ],
            "text/plain": [
              "\u001b[32mDEBUG \u001b[0m \u001b[2mgateway/rep-\u001b[0m\u001b[1;2;36m0\u001b[0m\u001b[2m@\u001b[0m\u001b[1;2;36m35130\u001b[0m terminate                                                            \u001b[2m                   \u001b[0m\n"
            ]
          },
          "metadata": {},
          "output_type": "display_data"
        },
        {
          "data": {
            "text/html": [
              "<pre style=\"white-space:pre;overflow-x:auto;line-height:normal;font-family:Menlo,'DejaVu Sans Mono',consolas,'Courier New',monospace\"><span style=\"color: #008000; text-decoration-color: #008000\">DEBUG </span> <span style=\"color: #7f7f7f; text-decoration-color: #7f7f7f\">gateway/rep-</span><span style=\"color: #7fbfbf; text-decoration-color: #7fbfbf; font-weight: bold\">0</span><span style=\"color: #7f7f7f; text-decoration-color: #7f7f7f\">@</span><span style=\"color: #7fbfbf; text-decoration-color: #7fbfbf; font-weight: bold\">35130</span> terminating the runtime process                                      <span style=\"color: #7f7f7f; text-decoration-color: #7f7f7f\">                   </span>\n",
              "</pre>\n"
            ],
            "text/plain": [
              "\u001b[32mDEBUG \u001b[0m \u001b[2mgateway/rep-\u001b[0m\u001b[1;2;36m0\u001b[0m\u001b[2m@\u001b[0m\u001b[1;2;36m35130\u001b[0m terminating the runtime process                                      \u001b[2m                   \u001b[0m\n"
            ]
          },
          "metadata": {},
          "output_type": "display_data"
        },
        {
          "data": {
            "text/html": [
              "<pre style=\"white-space:pre;overflow-x:auto;line-height:normal;font-family:Menlo,'DejaVu Sans Mono',consolas,'Courier New',monospace\"><span style=\"color: #008000; text-decoration-color: #008000\">DEBUG </span> <span style=\"color: #7f7f7f; text-decoration-color: #7f7f7f\">gateway/rep-</span><span style=\"color: #7fbfbf; text-decoration-color: #7fbfbf; font-weight: bold\">0</span><span style=\"color: #7f7f7f; text-decoration-color: #7f7f7f\">@</span><span style=\"color: #7fbfbf; text-decoration-color: #7fbfbf; font-weight: bold\">35130</span> runtime process properly terminated                                  <span style=\"color: #7f7f7f; text-decoration-color: #7f7f7f\">                   </span>\n",
              "</pre>\n"
            ],
            "text/plain": [
              "\u001b[32mDEBUG \u001b[0m \u001b[2mgateway/rep-\u001b[0m\u001b[1;2;36m0\u001b[0m\u001b[2m@\u001b[0m\u001b[1;2;36m35130\u001b[0m runtime process properly terminated                                  \u001b[2m                   \u001b[0m\n"
            ]
          },
          "metadata": {},
          "output_type": "display_data"
        },
        {
          "data": {
            "text/html": [
              "<pre style=\"white-space:pre;overflow-x:auto;line-height:normal;font-family:Menlo,'DejaVu Sans Mono',consolas,'Courier New',monospace\"><span style=\"color: #008000; text-decoration-color: #008000\">DEBUG </span> <span style=\"color: #7f7f7f; text-decoration-color: #7f7f7f\">gateway/rep-</span><span style=\"color: #7fbfbf; text-decoration-color: #7fbfbf; font-weight: bold\">0</span><span style=\"color: #7f7f7f; text-decoration-color: #7f7f7f\">@</span><span style=\"color: #7fbfbf; text-decoration-color: #7fbfbf; font-weight: bold\">35130</span> terminated                                                           <span style=\"color: #7f7f7f; text-decoration-color: #7f7f7f\">                   </span>\n",
              "</pre>\n"
            ],
            "text/plain": [
              "\u001b[32mDEBUG \u001b[0m \u001b[2mgateway/rep-\u001b[0m\u001b[1;2;36m0\u001b[0m\u001b[2m@\u001b[0m\u001b[1;2;36m35130\u001b[0m terminated                                                           \u001b[2m                   \u001b[0m\n"
            ]
          },
          "metadata": {},
          "output_type": "display_data"
        },
        {
          "data": {
            "text/html": [
              "<pre style=\"white-space:pre;overflow-x:auto;line-height:normal;font-family:Menlo,'DejaVu Sans Mono',consolas,'Courier New',monospace\"><span style=\"color: #008000; text-decoration-color: #008000\">DEBUG </span> <span style=\"color: #7f7f7f; text-decoration-color: #7f7f7f\">gateway/rep-</span><span style=\"color: #7fbfbf; text-decoration-color: #7fbfbf; font-weight: bold\">0</span><span style=\"color: #7f7f7f; text-decoration-color: #7f7f7f\">@</span><span style=\"color: #7fbfbf; text-decoration-color: #7fbfbf; font-weight: bold\">35130</span> joining the process                                                  <span style=\"color: #7f7f7f; text-decoration-color: #7f7f7f\">                   </span>\n",
              "</pre>\n"
            ],
            "text/plain": [
              "\u001b[32mDEBUG \u001b[0m \u001b[2mgateway/rep-\u001b[0m\u001b[1;2;36m0\u001b[0m\u001b[2m@\u001b[0m\u001b[1;2;36m35130\u001b[0m joining the process                                                  \u001b[2m                   \u001b[0m\n"
            ]
          },
          "metadata": {},
          "output_type": "display_data"
        },
        {
          "data": {
            "text/html": [
              "<pre style=\"white-space:pre;overflow-x:auto;line-height:normal;font-family:Menlo,'DejaVu Sans Mono',consolas,'Courier New',monospace\"><span style=\"color: #008000; text-decoration-color: #008000\">DEBUG </span> <span style=\"color: #7f7f7f; text-decoration-color: #7f7f7f\">gateway/rep-</span><span style=\"color: #7fbfbf; text-decoration-color: #7fbfbf; font-weight: bold\">0</span><span style=\"color: #7f7f7f; text-decoration-color: #7f7f7f\">@</span><span style=\"color: #7fbfbf; text-decoration-color: #7fbfbf; font-weight: bold\">35130</span> successfully joined the process                                      <span style=\"color: #7f7f7f; text-decoration-color: #7f7f7f\">                   </span>\n",
              "</pre>\n"
            ],
            "text/plain": [
              "\u001b[32mDEBUG \u001b[0m \u001b[2mgateway/rep-\u001b[0m\u001b[1;2;36m0\u001b[0m\u001b[2m@\u001b[0m\u001b[1;2;36m35130\u001b[0m successfully joined the process                                      \u001b[2m                   \u001b[0m\n"
            ]
          },
          "metadata": {},
          "output_type": "display_data"
        },
        {
          "data": {
            "text/html": [
              "<pre style=\"white-space:pre;overflow-x:auto;line-height:normal;font-family:Menlo,'DejaVu Sans Mono',consolas,'Courier New',monospace\"><span style=\"color: #008000; text-decoration-color: #008000\">DEBUG </span> <span style=\"color: #7f7f7f; text-decoration-color: #7f7f7f\">executor0/rep-</span><span style=\"color: #7fbfbf; text-decoration-color: #7fbfbf; font-weight: bold\">0</span><span style=\"color: #7f7f7f; text-decoration-color: #7f7f7f\">@</span><span style=\"color: #7fbfbf; text-decoration-color: #7fbfbf; font-weight: bold\">35130</span> waiting for ready or shutdown signal from runtime                  <span style=\"color: #7f7f7f; text-decoration-color: #7f7f7f\">[08/16/22 16:25:29]</span>\n",
              "</pre>\n"
            ],
            "text/plain": [
              "\u001b[32mDEBUG \u001b[0m \u001b[2mexecutor0/rep-\u001b[0m\u001b[1;2;36m0\u001b[0m\u001b[2m@\u001b[0m\u001b[1;2;36m35130\u001b[0m waiting for ready or shutdown signal from runtime                  \u001b[2m[08/16/22 16:25:29]\u001b[0m\n"
            ]
          },
          "metadata": {},
          "output_type": "display_data"
        },
        {
          "data": {
            "text/html": [
              "<pre style=\"white-space:pre;overflow-x:auto;line-height:normal;font-family:Menlo,'DejaVu Sans Mono',consolas,'Courier New',monospace\"><span style=\"color: #008000; text-decoration-color: #008000\">DEBUG </span> <span style=\"color: #7f7f7f; text-decoration-color: #7f7f7f\">executor0/rep-</span><span style=\"color: #7fbfbf; text-decoration-color: #7fbfbf; font-weight: bold\">0</span><span style=\"color: #7f7f7f; text-decoration-color: #7f7f7f\">@</span><span style=\"color: #7fbfbf; text-decoration-color: #7fbfbf; font-weight: bold\">35130</span> terminate                                                          <span style=\"color: #7f7f7f; text-decoration-color: #7f7f7f\">                   </span>\n",
              "</pre>\n"
            ],
            "text/plain": [
              "\u001b[32mDEBUG \u001b[0m \u001b[2mexecutor0/rep-\u001b[0m\u001b[1;2;36m0\u001b[0m\u001b[2m@\u001b[0m\u001b[1;2;36m35130\u001b[0m terminate                                                          \u001b[2m                   \u001b[0m\n"
            ]
          },
          "metadata": {},
          "output_type": "display_data"
        },
        {
          "data": {
            "text/html": [
              "<pre style=\"white-space:pre;overflow-x:auto;line-height:normal;font-family:Menlo,'DejaVu Sans Mono',consolas,'Courier New',monospace\"><span style=\"color: #008000; text-decoration-color: #008000\">DEBUG </span> <span style=\"color: #7f7f7f; text-decoration-color: #7f7f7f\">executor0/rep-</span><span style=\"color: #7fbfbf; text-decoration-color: #7fbfbf; font-weight: bold\">0</span><span style=\"color: #7f7f7f; text-decoration-color: #7f7f7f\">@</span><span style=\"color: #7fbfbf; text-decoration-color: #7fbfbf; font-weight: bold\">35130</span> terminating the runtime process                                    <span style=\"color: #7f7f7f; text-decoration-color: #7f7f7f\">                   </span>\n",
              "</pre>\n"
            ],
            "text/plain": [
              "\u001b[32mDEBUG \u001b[0m \u001b[2mexecutor0/rep-\u001b[0m\u001b[1;2;36m0\u001b[0m\u001b[2m@\u001b[0m\u001b[1;2;36m35130\u001b[0m terminating the runtime process                                    \u001b[2m                   \u001b[0m\n"
            ]
          },
          "metadata": {},
          "output_type": "display_data"
        },
        {
          "data": {
            "text/html": [
              "<pre style=\"white-space:pre;overflow-x:auto;line-height:normal;font-family:Menlo,'DejaVu Sans Mono',consolas,'Courier New',monospace\"><span style=\"color: #008000; text-decoration-color: #008000\">DEBUG </span> <span style=\"color: #7f7f7f; text-decoration-color: #7f7f7f\">executor0/rep-</span><span style=\"color: #7fbfbf; text-decoration-color: #7fbfbf; font-weight: bold\">0</span><span style=\"color: #7f7f7f; text-decoration-color: #7f7f7f\">@</span><span style=\"color: #7fbfbf; text-decoration-color: #7fbfbf; font-weight: bold\">35130</span> runtime process properly terminated                                <span style=\"color: #7f7f7f; text-decoration-color: #7f7f7f\">                   </span>\n",
              "</pre>\n"
            ],
            "text/plain": [
              "\u001b[32mDEBUG \u001b[0m \u001b[2mexecutor0/rep-\u001b[0m\u001b[1;2;36m0\u001b[0m\u001b[2m@\u001b[0m\u001b[1;2;36m35130\u001b[0m runtime process properly terminated                                \u001b[2m                   \u001b[0m\n"
            ]
          },
          "metadata": {},
          "output_type": "display_data"
        },
        {
          "data": {
            "text/html": [
              "<pre style=\"white-space:pre;overflow-x:auto;line-height:normal;font-family:Menlo,'DejaVu Sans Mono',consolas,'Courier New',monospace\"><span style=\"color: #008000; text-decoration-color: #008000\">DEBUG </span> <span style=\"color: #7f7f7f; text-decoration-color: #7f7f7f\">executor0/rep-</span><span style=\"color: #7fbfbf; text-decoration-color: #7fbfbf; font-weight: bold\">0</span><span style=\"color: #7f7f7f; text-decoration-color: #7f7f7f\">@</span><span style=\"color: #7fbfbf; text-decoration-color: #7fbfbf; font-weight: bold\">35618</span> cancel WorkerRuntime                                               <span style=\"color: #7f7f7f; text-decoration-color: #7f7f7f\">                   </span>\n",
              "</pre>\n"
            ],
            "text/plain": [
              "\u001b[32mDEBUG \u001b[0m \u001b[2mexecutor0/rep-\u001b[0m\u001b[1;2;36m0\u001b[0m\u001b[2m@\u001b[0m\u001b[1;2;36m35618\u001b[0m cancel WorkerRuntime                                               \u001b[2m                   \u001b[0m\n"
            ]
          },
          "metadata": {},
          "output_type": "display_data"
        },
        {
          "data": {
            "text/html": [
              "<pre style=\"white-space:pre;overflow-x:auto;line-height:normal;font-family:Menlo,'DejaVu Sans Mono',consolas,'Courier New',monospace\"><span style=\"color: #008000; text-decoration-color: #008000\">DEBUG </span> <span style=\"color: #7f7f7f; text-decoration-color: #7f7f7f\">executor0/rep-</span><span style=\"color: #7fbfbf; text-decoration-color: #7fbfbf; font-weight: bold\">0</span><span style=\"color: #7f7f7f; text-decoration-color: #7f7f7f\">@</span><span style=\"color: #7fbfbf; text-decoration-color: #7fbfbf; font-weight: bold\">35618</span> stopped GRPC Server                                                <span style=\"color: #7f7f7f; text-decoration-color: #7f7f7f\">                   </span>\n",
              "</pre>\n"
            ],
            "text/plain": [
              "\u001b[32mDEBUG \u001b[0m \u001b[2mexecutor0/rep-\u001b[0m\u001b[1;2;36m0\u001b[0m\u001b[2m@\u001b[0m\u001b[1;2;36m35618\u001b[0m stopped GRPC Server                                                \u001b[2m                   \u001b[0m\n"
            ]
          },
          "metadata": {},
          "output_type": "display_data"
        },
        {
          "data": {
            "text/html": [
              "<pre style=\"white-space:pre;overflow-x:auto;line-height:normal;font-family:Menlo,'DejaVu Sans Mono',consolas,'Courier New',monospace\"><span style=\"color: #008000; text-decoration-color: #008000\">DEBUG </span> <span style=\"color: #7f7f7f; text-decoration-color: #7f7f7f\">executor0/rep-</span><span style=\"color: #7fbfbf; text-decoration-color: #7fbfbf; font-weight: bold\">0</span><span style=\"color: #7f7f7f; text-decoration-color: #7f7f7f\">@</span><span style=\"color: #7fbfbf; text-decoration-color: #7fbfbf; font-weight: bold\">35618</span> cancel WorkerRuntime                                               <span style=\"color: #7f7f7f; text-decoration-color: #7f7f7f\">                   </span>\n",
              "</pre>\n"
            ],
            "text/plain": [
              "\u001b[32mDEBUG \u001b[0m \u001b[2mexecutor0/rep-\u001b[0m\u001b[1;2;36m0\u001b[0m\u001b[2m@\u001b[0m\u001b[1;2;36m35618\u001b[0m cancel WorkerRuntime                                               \u001b[2m                   \u001b[0m\n"
            ]
          },
          "metadata": {},
          "output_type": "display_data"
        },
        {
          "data": {
            "text/html": [
              "<pre style=\"white-space:pre;overflow-x:auto;line-height:normal;font-family:Menlo,'DejaVu Sans Mono',consolas,'Courier New',monospace\"><span style=\"color: #008000; text-decoration-color: #008000\">DEBUG </span> <span style=\"color: #7f7f7f; text-decoration-color: #7f7f7f\">executor0/rep-</span><span style=\"color: #7fbfbf; text-decoration-color: #7fbfbf; font-weight: bold\">0</span><span style=\"color: #7f7f7f; text-decoration-color: #7f7f7f\">@</span><span style=\"color: #7fbfbf; text-decoration-color: #7fbfbf; font-weight: bold\">35618</span> stopped GRPC Server                                                <span style=\"color: #7f7f7f; text-decoration-color: #7f7f7f\">                   </span>\n",
              "</pre>\n"
            ],
            "text/plain": [
              "\u001b[32mDEBUG \u001b[0m \u001b[2mexecutor0/rep-\u001b[0m\u001b[1;2;36m0\u001b[0m\u001b[2m@\u001b[0m\u001b[1;2;36m35618\u001b[0m stopped GRPC Server                                                \u001b[2m                   \u001b[0m\n"
            ]
          },
          "metadata": {},
          "output_type": "display_data"
        },
        {
          "data": {
            "text/html": [
              "<pre style=\"white-space:pre;overflow-x:auto;line-height:normal;font-family:Menlo,'DejaVu Sans Mono',consolas,'Courier New',monospace\"><span style=\"color: #008000; text-decoration-color: #008000\">DEBUG </span> <span style=\"color: #7f7f7f; text-decoration-color: #7f7f7f\">executor0/rep-</span><span style=\"color: #7fbfbf; text-decoration-color: #7fbfbf; font-weight: bold\">0</span><span style=\"color: #7f7f7f; text-decoration-color: #7f7f7f\">@</span><span style=\"color: #7fbfbf; text-decoration-color: #7fbfbf; font-weight: bold\">35130</span> terminated                                                         <span style=\"color: #7f7f7f; text-decoration-color: #7f7f7f\">                   </span>\n",
              "</pre>\n"
            ],
            "text/plain": [
              "\u001b[32mDEBUG \u001b[0m \u001b[2mexecutor0/rep-\u001b[0m\u001b[1;2;36m0\u001b[0m\u001b[2m@\u001b[0m\u001b[1;2;36m35130\u001b[0m terminated                                                         \u001b[2m                   \u001b[0m\n"
            ]
          },
          "metadata": {},
          "output_type": "display_data"
        },
        {
          "data": {
            "text/html": [
              "<pre style=\"white-space:pre;overflow-x:auto;line-height:normal;font-family:Menlo,'DejaVu Sans Mono',consolas,'Courier New',monospace\"><span style=\"color: #008000; text-decoration-color: #008000\">DEBUG </span> <span style=\"color: #7f7f7f; text-decoration-color: #7f7f7f\">executor0/rep-</span><span style=\"color: #7fbfbf; text-decoration-color: #7fbfbf; font-weight: bold\">0</span><span style=\"color: #7f7f7f; text-decoration-color: #7f7f7f\">@</span><span style=\"color: #7fbfbf; text-decoration-color: #7fbfbf; font-weight: bold\">35618</span> process terminated                                                 <span style=\"color: #7f7f7f; text-decoration-color: #7f7f7f\">[08/16/22 16:25:29]</span>\n",
              "</pre>\n"
            ],
            "text/plain": [
              "\u001b[32mDEBUG \u001b[0m \u001b[2mexecutor0/rep-\u001b[0m\u001b[1;2;36m0\u001b[0m\u001b[2m@\u001b[0m\u001b[1;2;36m35618\u001b[0m process terminated                                                 \u001b[2m[08/16/22 16:25:29]\u001b[0m\n"
            ]
          },
          "metadata": {},
          "output_type": "display_data"
        },
        {
          "data": {
            "text/html": [
              "<pre style=\"white-space:pre;overflow-x:auto;line-height:normal;font-family:Menlo,'DejaVu Sans Mono',consolas,'Courier New',monospace\"><span style=\"color: #008000; text-decoration-color: #008000\">DEBUG </span> <span style=\"color: #7f7f7f; text-decoration-color: #7f7f7f\">executor0/rep-</span><span style=\"color: #7fbfbf; text-decoration-color: #7fbfbf; font-weight: bold\">0</span><span style=\"color: #7f7f7f; text-decoration-color: #7f7f7f\">@</span><span style=\"color: #7fbfbf; text-decoration-color: #7fbfbf; font-weight: bold\">35130</span> joining the process                                                <span style=\"color: #7f7f7f; text-decoration-color: #7f7f7f\">                   </span>\n",
              "</pre>\n"
            ],
            "text/plain": [
              "\u001b[32mDEBUG \u001b[0m \u001b[2mexecutor0/rep-\u001b[0m\u001b[1;2;36m0\u001b[0m\u001b[2m@\u001b[0m\u001b[1;2;36m35130\u001b[0m joining the process                                                \u001b[2m                   \u001b[0m\n"
            ]
          },
          "metadata": {},
          "output_type": "display_data"
        },
        {
          "data": {
            "text/html": [
              "<pre style=\"white-space:pre;overflow-x:auto;line-height:normal;font-family:Menlo,'DejaVu Sans Mono',consolas,'Courier New',monospace\"><span style=\"color: #008000; text-decoration-color: #008000\">DEBUG </span> <span style=\"color: #7f7f7f; text-decoration-color: #7f7f7f\">executor0/rep-</span><span style=\"color: #7fbfbf; text-decoration-color: #7fbfbf; font-weight: bold\">0</span><span style=\"color: #7f7f7f; text-decoration-color: #7f7f7f\">@</span><span style=\"color: #7fbfbf; text-decoration-color: #7fbfbf; font-weight: bold\">35130</span> successfully joined the process                                    <span style=\"color: #7f7f7f; text-decoration-color: #7f7f7f\">                   </span>\n",
              "</pre>\n"
            ],
            "text/plain": [
              "\u001b[32mDEBUG \u001b[0m \u001b[2mexecutor0/rep-\u001b[0m\u001b[1;2;36m0\u001b[0m\u001b[2m@\u001b[0m\u001b[1;2;36m35130\u001b[0m successfully joined the process                                    \u001b[2m                   \u001b[0m\n"
            ]
          },
          "metadata": {},
          "output_type": "display_data"
        },
        {
          "data": {
            "text/html": [
              "<pre style=\"white-space:pre;overflow-x:auto;line-height:normal;font-family:Menlo,'DejaVu Sans Mono',consolas,'Courier New',monospace\"><span style=\"color: #008000; text-decoration-color: #008000\">DEBUG </span> <span style=\"color: #7f7f7f; text-decoration-color: #7f7f7f\">Flow@</span><span style=\"color: #7fbfbf; text-decoration-color: #7fbfbf; font-weight: bold\">35130</span> flow is closed!                                                               <span style=\"color: #7f7f7f; text-decoration-color: #7f7f7f\">[08/16/22 16:25:29]</span>\n",
              "</pre>\n"
            ],
            "text/plain": [
              "\u001b[32mDEBUG \u001b[0m \u001b[2mFlow@\u001b[0m\u001b[1;2;36m35130\u001b[0m flow is closed!                                                               \u001b[2m[08/16/22 16:25:29]\u001b[0m\n"
            ]
          },
          "metadata": {},
          "output_type": "display_data"
        }
      ],
      "source": [
        "# clear the workspace folder\n",
        "!rm -rf workspace/*\n",
        "\n",
        "with f:\n",
        "    f.index(inputs=docs, show_progress=True)"
      ]
    },
    {
      "cell_type": "code",
      "execution_count": null,
      "metadata": {},
      "outputs": [],
      "source": [
        "import os\n",
        "import glob\n",
        "\n",
        "import pandas as pd\n",
        "\n",
        "from PIL import Image\n",
        "from jina import Document, DocumentArray\n",
        "\n",
        "from matplotlib import pyplot as plt\n",
        "from matplotlib.pyplot import imshow\n",
        "\n",
        "from annlite import AnnLite\n",
        "\n",
        "os.environ['JINA_LOG_LEVEL'] = 'DEBUG'\n",
        "MAX_NUM_DOCS = 200\n",
        "\n",
        "df = pd.read_csv('/home/aswin/Data/archive/styles.csv', warn_bad_lines=True, error_bad_lines=False)\n",
        "df = df.dropna()\n",
        "df['year'] = df['year'].astype(int)\n",
        "def get_product_docs(max_num: int = MAX_NUM_DOCS):\n",
        "    da = DocumentArray()\n",
        "    for index, row in df.iterrows():\n",
        "        doc_id = row.pop('id')\n",
        "        doc_uri = f'/home/aswin/Data/archive/images/{doc_id}.jpg'\n",
        "        if not os.path.exists(doc_uri):\n",
        "            continue\n",
        "\n",
        "        doc = Document(id=str(doc_id), uri=doc_uri, tags=dict(row))\n",
        "        da.append(doc)\n",
        "        if len(da) == max_num:\n",
        "            break\n",
        "    \n",
        "    return da\n",
        "docs = get_product_docs(500)\n",
        "def preproc(d: Document):\n",
        "    return (d.load_uri_to_image_tensor()  # load\n",
        "             .set_image_tensor_normalization()  # normalize color \n",
        "             .set_image_tensor_channel_axis(-1, 0))  # switch color axis\n",
        "\n",
        "docs.apply(preproc)\n",
        "import torchvision\n",
        "model = torchvision.models.resnet50(pretrained=True)  # load ResNet50\n",
        "docs.embed(model, batch_size=8, device='cpu', to_numpy=True)\n",
        "from jina import Flow\n",
        "\n",
        "f = Flow().add(\n",
        "    uses='jinahub://PQLiteIndexer/latest',\n",
        "    uses_with={\n",
        "        'dim': 1000,\n",
        "        'metric': 'cosine',\n",
        "        'columns': [\n",
        "            ('year', 'int'), \n",
        "            ('baseColour', 'str'), \n",
        "            ('masterCategory', 'str')\n",
        "        ],\n",
        "        'include_metadata': True\n",
        "    },\n",
        "    uses_metas={'workspace': './workspace'}, \n",
        "    install_requirements=True\n",
        ")\n",
        "with f:\n",
        "    f.index(inputs=docs, show_progress=True)"
      ]
    },
    {
      "cell_type": "code",
      "execution_count": 11,
      "metadata": {
        "colab": {
          "base_uri": "https://localhost:8080/",
          "height": 1000
        },
        "id": "r16T6XolI6-W",
        "outputId": "bc972718-71e5-4d9c-a6dd-79dc5ce331de"
      },
      "outputs": [
        {
          "data": {
            "application/vnd.jupyter.widget-view+json": {
              "model_id": "b3ea62c5f6934c118767a8d4d84fed46",
              "version_major": 2,
              "version_minor": 0
            },
            "text/plain": [
              "Output()"
            ]
          },
          "metadata": {},
          "output_type": "display_data"
        },
        {
          "data": {
            "text/html": [
              "<pre style=\"white-space:pre;overflow-x:auto;line-height:normal;font-family:Menlo,'DejaVu Sans Mono',consolas,'Courier New',monospace\"><span style=\"color: #808000; text-decoration-color: #808000; font-weight: bold\">DeprecationWarning: Kernel._parent_header is deprecated in ipykernel 6. Use .get_parent()</span> <span style=\"color: #000000; text-decoration-color: #000000; font-weight: bold\">(raised from </span>\n",
              "<span style=\"color: #000000; text-decoration-color: #000000; font-weight: bold\">/home/aswin/anaconda3/envs/jina/lib/python3.9/site-packages/ipywidgets/widgets/widget_output.py:111)</span>\n",
              "</pre>\n"
            ],
            "text/plain": [
              "\u001b[1;33mDeprecationWarning: Kernel._parent_header is deprecated in ipykernel 6. Use .get_parent()\u001b[0m \u001b[1;30m(raised from \u001b[0m\n",
              "\u001b[1;30m/home/aswin/anaconda3/envs/jina/lib/python3.9/site-packages/ipywidgets/widgets/widget_output.py:111)\u001b[0m\n"
            ]
          },
          "metadata": {},
          "output_type": "display_data"
        },
        {
          "data": {
            "text/html": [
              "<pre style=\"white-space:pre;overflow-x:auto;line-height:normal;font-family:Menlo,'DejaVu Sans Mono',consolas,'Courier New',monospace\"><span style=\"color: #808000; text-decoration-color: #808000; font-weight: bold\">DeprecationWarning: Kernel._parent_header is deprecated in ipykernel 6. Use .get_parent()</span> <span style=\"color: #000000; text-decoration-color: #000000; font-weight: bold\">(raised from </span>\n",
              "<span style=\"color: #000000; text-decoration-color: #000000; font-weight: bold\">/home/aswin/anaconda3/envs/jina/lib/python3.9/site-packages/ipywidgets/widgets/widget_output.py:112)</span>\n",
              "</pre>\n"
            ],
            "text/plain": [
              "\u001b[1;33mDeprecationWarning: Kernel._parent_header is deprecated in ipykernel 6. Use .get_parent()\u001b[0m \u001b[1;30m(raised from \u001b[0m\n",
              "\u001b[1;30m/home/aswin/anaconda3/envs/jina/lib/python3.9/site-packages/ipywidgets/widgets/widget_output.py:112)\u001b[0m\n"
            ]
          },
          "metadata": {},
          "output_type": "display_data"
        },
        {
          "data": {
            "text/html": [
              "<pre style=\"white-space:pre;overflow-x:auto;line-height:normal;font-family:Menlo,'DejaVu Sans Mono',consolas,'Courier New',monospace\"><span style=\"color: #808000; text-decoration-color: #808000; font-weight: bold\">DeprecationWarning: Kernel._parent_header is deprecated in ipykernel 6. Use .get_parent()</span> <span style=\"color: #000000; text-decoration-color: #000000; font-weight: bold\">(raised from </span>\n",
              "<span style=\"color: #000000; text-decoration-color: #000000; font-weight: bold\">/home/aswin/anaconda3/envs/jina/lib/python3.9/site-packages/ipywidgets/widgets/widget_output.py:111)</span>\n",
              "</pre>\n"
            ],
            "text/plain": [
              "\u001b[1;33mDeprecationWarning: Kernel._parent_header is deprecated in ipykernel 6. Use .get_parent()\u001b[0m \u001b[1;30m(raised from \u001b[0m\n",
              "\u001b[1;30m/home/aswin/anaconda3/envs/jina/lib/python3.9/site-packages/ipywidgets/widgets/widget_output.py:111)\u001b[0m\n"
            ]
          },
          "metadata": {},
          "output_type": "display_data"
        },
        {
          "data": {
            "text/html": [
              "<pre style=\"white-space:pre;overflow-x:auto;line-height:normal;font-family:Menlo,'DejaVu Sans Mono',consolas,'Courier New',monospace\"><span style=\"color: #808000; text-decoration-color: #808000; font-weight: bold\">DeprecationWarning: Kernel._parent_header is deprecated in ipykernel 6. Use .get_parent()</span> <span style=\"color: #000000; text-decoration-color: #000000; font-weight: bold\">(raised from </span>\n",
              "<span style=\"color: #000000; text-decoration-color: #000000; font-weight: bold\">/home/aswin/anaconda3/envs/jina/lib/python3.9/site-packages/ipywidgets/widgets/widget_output.py:112)</span>\n",
              "</pre>\n"
            ],
            "text/plain": [
              "\u001b[1;33mDeprecationWarning: Kernel._parent_header is deprecated in ipykernel 6. Use .get_parent()\u001b[0m \u001b[1;30m(raised from \u001b[0m\n",
              "\u001b[1;30m/home/aswin/anaconda3/envs/jina/lib/python3.9/site-packages/ipywidgets/widgets/widget_output.py:112)\u001b[0m\n"
            ]
          },
          "metadata": {},
          "output_type": "display_data"
        },
        {
          "name": "stderr",
          "output_type": "stream",
          "text": [
            "\u001b[1;33mDeprecationWarning: Setting `workspace` via `metas.workspace` is deprecated. Instead, use `f.add(..., workspace=...)` when defining a a Flow in Python; the `workspace` parameter when defining a Flow using YAML; or `--workspace` when starting an Executor using the CLI.\u001b[0m \u001b[1;30m(raised from /home/aswin/anaconda3/envs/jina/lib/python3.9/site-packages/jina/serve/executors/__init__.py:216)\u001b[0m\n"
          ]
        },
        {
          "data": {
            "text/html": [
              "<pre style=\"white-space:pre;overflow-x:auto;line-height:normal;font-family:Menlo,'DejaVu Sans Mono',consolas,'Courier New',monospace\"><span style=\"color: #008000; text-decoration-color: #008000\">DEBUG </span> <span style=\"color: #7f7f7f; text-decoration-color: #7f7f7f\">gateway/rep-</span><span style=\"color: #7fbfbf; text-decoration-color: #7fbfbf; font-weight: bold\">0</span><span style=\"color: #7f7f7f; text-decoration-color: #7f7f7f\">@</span><span style=\"color: #7fbfbf; text-decoration-color: #7fbfbf; font-weight: bold\">10739</span> ready and listening                                                  <span style=\"color: #7f7f7f; text-decoration-color: #7f7f7f\">[08/16/22 12:37:04]</span>\n",
              "</pre>\n"
            ],
            "text/plain": [
              "\u001b[32mDEBUG \u001b[0m \u001b[2mgateway/rep-\u001b[0m\u001b[1;2;36m0\u001b[0m\u001b[2m@\u001b[0m\u001b[1;2;36m10739\u001b[0m ready and listening                                                  \u001b[2m[08/16/22 12:37:04]\u001b[0m\n"
            ]
          },
          "metadata": {},
          "output_type": "display_data"
        },
        {
          "data": {
            "text/html": [
              "<pre style=\"white-space:pre;overflow-x:auto;line-height:normal;font-family:Menlo,'DejaVu Sans Mono',consolas,'Courier New',monospace\"><span style=\"color: #808000; text-decoration-color: #808000; font-weight: bold\">DeprecationWarning: Kernel._parent_header is deprecated in ipykernel 6. Use .get_parent()</span> <span style=\"color: #000000; text-decoration-color: #000000; font-weight: bold\">(raised from </span>\n",
              "<span style=\"color: #000000; text-decoration-color: #000000; font-weight: bold\">/home/aswin/anaconda3/envs/jina/lib/python3.9/site-packages/ipywidgets/widgets/widget_output.py:111)</span>\n",
              "</pre>\n"
            ],
            "text/plain": [
              "\u001b[1;33mDeprecationWarning: Kernel._parent_header is deprecated in ipykernel 6. Use .get_parent()\u001b[0m \u001b[1;30m(raised from \u001b[0m\n",
              "\u001b[1;30m/home/aswin/anaconda3/envs/jina/lib/python3.9/site-packages/ipywidgets/widgets/widget_output.py:111)\u001b[0m\n"
            ]
          },
          "metadata": {},
          "output_type": "display_data"
        },
        {
          "data": {
            "text/html": [
              "<pre style=\"white-space:pre;overflow-x:auto;line-height:normal;font-family:Menlo,'DejaVu Sans Mono',consolas,'Courier New',monospace\"><span style=\"color: #808000; text-decoration-color: #808000; font-weight: bold\">DeprecationWarning: Kernel._parent_header is deprecated in ipykernel 6. Use .get_parent()</span> <span style=\"color: #000000; text-decoration-color: #000000; font-weight: bold\">(raised from </span>\n",
              "<span style=\"color: #000000; text-decoration-color: #000000; font-weight: bold\">/home/aswin/anaconda3/envs/jina/lib/python3.9/site-packages/ipywidgets/widgets/widget_output.py:112)</span>\n",
              "</pre>\n"
            ],
            "text/plain": [
              "\u001b[1;33mDeprecationWarning: Kernel._parent_header is deprecated in ipykernel 6. Use .get_parent()\u001b[0m \u001b[1;30m(raised from \u001b[0m\n",
              "\u001b[1;30m/home/aswin/anaconda3/envs/jina/lib/python3.9/site-packages/ipywidgets/widgets/widget_output.py:112)\u001b[0m\n"
            ]
          },
          "metadata": {},
          "output_type": "display_data"
        },
        {
          "data": {
            "text/html": [
              "<pre style=\"white-space:pre;overflow-x:auto;line-height:normal;font-family:Menlo,'DejaVu Sans Mono',consolas,'Courier New',monospace\"><span style=\"color: #808000; text-decoration-color: #808000; font-weight: bold\">DeprecationWarning: Kernel._parent_header is deprecated in ipykernel 6. Use .get_parent()</span> <span style=\"color: #000000; text-decoration-color: #000000; font-weight: bold\">(raised from </span>\n",
              "<span style=\"color: #000000; text-decoration-color: #000000; font-weight: bold\">/home/aswin/anaconda3/envs/jina/lib/python3.9/site-packages/ipywidgets/widgets/widget_output.py:111)</span>\n",
              "</pre>\n"
            ],
            "text/plain": [
              "\u001b[1;33mDeprecationWarning: Kernel._parent_header is deprecated in ipykernel 6. Use .get_parent()\u001b[0m \u001b[1;30m(raised from \u001b[0m\n",
              "\u001b[1;30m/home/aswin/anaconda3/envs/jina/lib/python3.9/site-packages/ipywidgets/widgets/widget_output.py:111)\u001b[0m\n"
            ]
          },
          "metadata": {},
          "output_type": "display_data"
        },
        {
          "data": {
            "text/html": [
              "<pre style=\"white-space:pre;overflow-x:auto;line-height:normal;font-family:Menlo,'DejaVu Sans Mono',consolas,'Courier New',monospace\"><span style=\"color: #808000; text-decoration-color: #808000; font-weight: bold\">DeprecationWarning: Kernel._parent_header is deprecated in ipykernel 6. Use .get_parent()</span> <span style=\"color: #000000; text-decoration-color: #000000; font-weight: bold\">(raised from </span>\n",
              "<span style=\"color: #000000; text-decoration-color: #000000; font-weight: bold\">/home/aswin/anaconda3/envs/jina/lib/python3.9/site-packages/ipywidgets/widgets/widget_output.py:112)</span>\n",
              "</pre>\n"
            ],
            "text/plain": [
              "\u001b[1;33mDeprecationWarning: Kernel._parent_header is deprecated in ipykernel 6. Use .get_parent()\u001b[0m \u001b[1;30m(raised from \u001b[0m\n",
              "\u001b[1;30m/home/aswin/anaconda3/envs/jina/lib/python3.9/site-packages/ipywidgets/widgets/widget_output.py:112)\u001b[0m\n"
            ]
          },
          "metadata": {},
          "output_type": "display_data"
        },
        {
          "data": {
            "text/html": [
              "<pre style=\"white-space:pre;overflow-x:auto;line-height:normal;font-family:Menlo,'DejaVu Sans Mono',consolas,'Courier New',monospace\"><span style=\"color: #808000; text-decoration-color: #808000; font-weight: bold\">DeprecationWarning: Kernel._parent_header is deprecated in ipykernel 6. Use .get_parent()</span> <span style=\"color: #000000; text-decoration-color: #000000; font-weight: bold\">(raised from </span>\n",
              "<span style=\"color: #000000; text-decoration-color: #000000; font-weight: bold\">/home/aswin/anaconda3/envs/jina/lib/python3.9/site-packages/ipywidgets/widgets/widget_output.py:111)</span>\n",
              "</pre>\n"
            ],
            "text/plain": [
              "\u001b[1;33mDeprecationWarning: Kernel._parent_header is deprecated in ipykernel 6. Use .get_parent()\u001b[0m \u001b[1;30m(raised from \u001b[0m\n",
              "\u001b[1;30m/home/aswin/anaconda3/envs/jina/lib/python3.9/site-packages/ipywidgets/widgets/widget_output.py:111)\u001b[0m\n"
            ]
          },
          "metadata": {},
          "output_type": "display_data"
        },
        {
          "data": {
            "text/html": [
              "<pre style=\"white-space:pre;overflow-x:auto;line-height:normal;font-family:Menlo,'DejaVu Sans Mono',consolas,'Courier New',monospace\"><span style=\"color: #808000; text-decoration-color: #808000; font-weight: bold\">DeprecationWarning: Kernel._parent_header is deprecated in ipykernel 6. Use .get_parent()</span> <span style=\"color: #000000; text-decoration-color: #000000; font-weight: bold\">(raised from </span>\n",
              "<span style=\"color: #000000; text-decoration-color: #000000; font-weight: bold\">/home/aswin/anaconda3/envs/jina/lib/python3.9/site-packages/ipywidgets/widgets/widget_output.py:112)</span>\n",
              "</pre>\n"
            ],
            "text/plain": [
              "\u001b[1;33mDeprecationWarning: Kernel._parent_header is deprecated in ipykernel 6. Use .get_parent()\u001b[0m \u001b[1;30m(raised from \u001b[0m\n",
              "\u001b[1;30m/home/aswin/anaconda3/envs/jina/lib/python3.9/site-packages/ipywidgets/widgets/widget_output.py:112)\u001b[0m\n"
            ]
          },
          "metadata": {},
          "output_type": "display_data"
        },
        {
          "data": {
            "text/html": [
              "<pre style=\"white-space:pre;overflow-x:auto;line-height:normal;font-family:Menlo,'DejaVu Sans Mono',consolas,'Courier New',monospace\"><span style=\"color: #008000; text-decoration-color: #008000\">DEBUG </span> <span style=\"color: #7f7f7f; text-decoration-color: #7f7f7f\">executor0/rep-</span><span style=\"color: #7fbfbf; text-decoration-color: #7fbfbf; font-weight: bold\">0</span><span style=\"color: #7f7f7f; text-decoration-color: #7f7f7f\">@</span><span style=\"color: #7fbfbf; text-decoration-color: #7fbfbf; font-weight: bold\">12439</span> <span style=\"font-weight: bold\">&lt;</span><span style=\"color: #ff00ff; text-decoration-color: #ff00ff; font-weight: bold\">executor.AnnLiteIndexer</span><span style=\"color: #000000; text-decoration-color: #000000\"> object at </span><span style=\"color: #008080; text-decoration-color: #008080; font-weight: bold\">0x7f8518e346d0</span><span style=\"font-weight: bold\">&gt;</span> is successfully <span style=\"color: #7f7f7f; text-decoration-color: #7f7f7f\">[08/16/22 12:37:04]</span>\n",
              "       loaded!                                                                                  <span style=\"color: #7f7f7f; text-decoration-color: #7f7f7f\">                   </span>\n",
              "</pre>\n"
            ],
            "text/plain": [
              "\u001b[32mDEBUG \u001b[0m \u001b[2mexecutor0/rep-\u001b[0m\u001b[1;2;36m0\u001b[0m\u001b[2m@\u001b[0m\u001b[1;2;36m12439\u001b[0m \u001b[1m<\u001b[0m\u001b[1;95mexecutor.AnnLiteIndexer\u001b[0m\u001b[39m object at \u001b[0m\u001b[1;36m0x7f8518e346d0\u001b[0m\u001b[1m>\u001b[0m is successfully \u001b[2m[08/16/22 12:37:04]\u001b[0m\n",
              "       loaded!                                                                                  \u001b[2m                   \u001b[0m\n"
            ]
          },
          "metadata": {},
          "output_type": "display_data"
        },
        {
          "data": {
            "text/html": [
              "<pre style=\"white-space:pre;overflow-x:auto;line-height:normal;font-family:Menlo,'DejaVu Sans Mono',consolas,'Courier New',monospace\"><span style=\"color: #008000; text-decoration-color: #008000\">DEBUG </span> <span style=\"color: #7f7f7f; text-decoration-color: #7f7f7f\">executor0/rep-</span><span style=\"color: #7fbfbf; text-decoration-color: #7fbfbf; font-weight: bold\">0</span><span style=\"color: #7f7f7f; text-decoration-color: #7f7f7f\">@</span><span style=\"color: #7fbfbf; text-decoration-color: #7fbfbf; font-weight: bold\">12439</span> start listening on <span style=\"color: #00ff00; text-decoration-color: #00ff00; font-weight: bold\">0.0.0.0</span>:<span style=\"color: #008080; text-decoration-color: #008080; font-weight: bold\">51227</span>                                   <span style=\"color: #7f7f7f; text-decoration-color: #7f7f7f\">                   </span>\n",
              "</pre>\n"
            ],
            "text/plain": [
              "\u001b[32mDEBUG \u001b[0m \u001b[2mexecutor0/rep-\u001b[0m\u001b[1;2;36m0\u001b[0m\u001b[2m@\u001b[0m\u001b[1;2;36m12439\u001b[0m start listening on \u001b[1;92m0.0.0.0\u001b[0m:\u001b[1;36m51227\u001b[0m                                   \u001b[2m                   \u001b[0m\n"
            ]
          },
          "metadata": {},
          "output_type": "display_data"
        },
        {
          "data": {
            "text/html": [
              "<pre style=\"white-space:pre;overflow-x:auto;line-height:normal;font-family:Menlo,'DejaVu Sans Mono',consolas,'Courier New',monospace\"><span style=\"color: #808000; text-decoration-color: #808000; font-weight: bold\">DeprecationWarning: Kernel._parent_header is deprecated in ipykernel 6. Use .get_parent()</span> <span style=\"color: #000000; text-decoration-color: #000000; font-weight: bold\">(raised from </span>\n",
              "<span style=\"color: #000000; text-decoration-color: #000000; font-weight: bold\">/home/aswin/anaconda3/envs/jina/lib/python3.9/site-packages/ipywidgets/widgets/widget_output.py:111)</span>\n",
              "</pre>\n"
            ],
            "text/plain": [
              "\u001b[1;33mDeprecationWarning: Kernel._parent_header is deprecated in ipykernel 6. Use .get_parent()\u001b[0m \u001b[1;30m(raised from \u001b[0m\n",
              "\u001b[1;30m/home/aswin/anaconda3/envs/jina/lib/python3.9/site-packages/ipywidgets/widgets/widget_output.py:111)\u001b[0m\n"
            ]
          },
          "metadata": {},
          "output_type": "display_data"
        },
        {
          "data": {
            "text/html": [
              "<pre style=\"white-space:pre;overflow-x:auto;line-height:normal;font-family:Menlo,'DejaVu Sans Mono',consolas,'Courier New',monospace\"><span style=\"color: #808000; text-decoration-color: #808000; font-weight: bold\">DeprecationWarning: Kernel._parent_header is deprecated in ipykernel 6. Use .get_parent()</span> <span style=\"color: #000000; text-decoration-color: #000000; font-weight: bold\">(raised from </span>\n",
              "<span style=\"color: #000000; text-decoration-color: #000000; font-weight: bold\">/home/aswin/anaconda3/envs/jina/lib/python3.9/site-packages/ipywidgets/widgets/widget_output.py:112)</span>\n",
              "</pre>\n"
            ],
            "text/plain": [
              "\u001b[1;33mDeprecationWarning: Kernel._parent_header is deprecated in ipykernel 6. Use .get_parent()\u001b[0m \u001b[1;30m(raised from \u001b[0m\n",
              "\u001b[1;30m/home/aswin/anaconda3/envs/jina/lib/python3.9/site-packages/ipywidgets/widgets/widget_output.py:112)\u001b[0m\n"
            ]
          },
          "metadata": {},
          "output_type": "display_data"
        },
        {
          "data": {
            "text/html": [
              "<pre style=\"white-space:pre;overflow-x:auto;line-height:normal;font-family:Menlo,'DejaVu Sans Mono',consolas,'Courier New',monospace\"><span style=\"color: #008000; text-decoration-color: #008000\">DEBUG </span> <span style=\"color: #7f7f7f; text-decoration-color: #7f7f7f\">executor0/rep-</span><span style=\"color: #7fbfbf; text-decoration-color: #7fbfbf; font-weight: bold\">0</span><span style=\"color: #7f7f7f; text-decoration-color: #7f7f7f\">@</span><span style=\"color: #7fbfbf; text-decoration-color: #7fbfbf; font-weight: bold\">10739</span> ready and listening                                                <span style=\"color: #7f7f7f; text-decoration-color: #7f7f7f\">[08/16/22 12:37:04]</span>\n",
              "</pre>\n"
            ],
            "text/plain": [
              "\u001b[32mDEBUG \u001b[0m \u001b[2mexecutor0/rep-\u001b[0m\u001b[1;2;36m0\u001b[0m\u001b[2m@\u001b[0m\u001b[1;2;36m10739\u001b[0m ready and listening                                                \u001b[2m[08/16/22 12:37:04]\u001b[0m\n"
            ]
          },
          "metadata": {},
          "output_type": "display_data"
        },
        {
          "data": {
            "text/html": [
              "<pre style=\"white-space:pre;overflow-x:auto;line-height:normal;font-family:Menlo,'DejaVu Sans Mono',consolas,'Courier New',monospace\"><span style=\"color: #808000; text-decoration-color: #808000; font-weight: bold\">DeprecationWarning: Kernel._parent_header is deprecated in ipykernel 6. Use .get_parent()</span> <span style=\"color: #000000; text-decoration-color: #000000; font-weight: bold\">(raised from </span>\n",
              "<span style=\"color: #000000; text-decoration-color: #000000; font-weight: bold\">/home/aswin/anaconda3/envs/jina/lib/python3.9/site-packages/ipywidgets/widgets/widget_output.py:111)</span>\n",
              "</pre>\n"
            ],
            "text/plain": [
              "\u001b[1;33mDeprecationWarning: Kernel._parent_header is deprecated in ipykernel 6. Use .get_parent()\u001b[0m \u001b[1;30m(raised from \u001b[0m\n",
              "\u001b[1;30m/home/aswin/anaconda3/envs/jina/lib/python3.9/site-packages/ipywidgets/widgets/widget_output.py:111)\u001b[0m\n"
            ]
          },
          "metadata": {},
          "output_type": "display_data"
        },
        {
          "data": {
            "text/html": [
              "<pre style=\"white-space:pre;overflow-x:auto;line-height:normal;font-family:Menlo,'DejaVu Sans Mono',consolas,'Courier New',monospace\"><span style=\"color: #808000; text-decoration-color: #808000; font-weight: bold\">DeprecationWarning: Kernel._parent_header is deprecated in ipykernel 6. Use .get_parent()</span> <span style=\"color: #000000; text-decoration-color: #000000; font-weight: bold\">(raised from </span>\n",
              "<span style=\"color: #000000; text-decoration-color: #000000; font-weight: bold\">/home/aswin/anaconda3/envs/jina/lib/python3.9/site-packages/ipywidgets/widgets/widget_output.py:112)</span>\n",
              "</pre>\n"
            ],
            "text/plain": [
              "\u001b[1;33mDeprecationWarning: Kernel._parent_header is deprecated in ipykernel 6. Use .get_parent()\u001b[0m \u001b[1;30m(raised from \u001b[0m\n",
              "\u001b[1;30m/home/aswin/anaconda3/envs/jina/lib/python3.9/site-packages/ipywidgets/widgets/widget_output.py:112)\u001b[0m\n"
            ]
          },
          "metadata": {},
          "output_type": "display_data"
        },
        {
          "data": {
            "text/html": [
              "<pre style=\"white-space:pre;overflow-x:auto;line-height:normal;font-family:Menlo,'DejaVu Sans Mono',consolas,'Courier New',monospace\"><span style=\"color: #808000; text-decoration-color: #808000; font-weight: bold\">DeprecationWarning: Kernel._parent_header is deprecated in ipykernel 6. Use .get_parent()</span> <span style=\"color: #000000; text-decoration-color: #000000; font-weight: bold\">(raised from </span>\n",
              "<span style=\"color: #000000; text-decoration-color: #000000; font-weight: bold\">/home/aswin/anaconda3/envs/jina/lib/python3.9/site-packages/ipywidgets/widgets/widget_output.py:111)</span>\n",
              "</pre>\n"
            ],
            "text/plain": [
              "\u001b[1;33mDeprecationWarning: Kernel._parent_header is deprecated in ipykernel 6. Use .get_parent()\u001b[0m \u001b[1;30m(raised from \u001b[0m\n",
              "\u001b[1;30m/home/aswin/anaconda3/envs/jina/lib/python3.9/site-packages/ipywidgets/widgets/widget_output.py:111)\u001b[0m\n"
            ]
          },
          "metadata": {},
          "output_type": "display_data"
        },
        {
          "data": {
            "text/html": [
              "<pre style=\"white-space:pre;overflow-x:auto;line-height:normal;font-family:Menlo,'DejaVu Sans Mono',consolas,'Courier New',monospace\"><span style=\"color: #808000; text-decoration-color: #808000; font-weight: bold\">DeprecationWarning: Kernel._parent_header is deprecated in ipykernel 6. Use .get_parent()</span> <span style=\"color: #000000; text-decoration-color: #000000; font-weight: bold\">(raised from </span>\n",
              "<span style=\"color: #000000; text-decoration-color: #000000; font-weight: bold\">/home/aswin/anaconda3/envs/jina/lib/python3.9/site-packages/ipywidgets/widgets/widget_output.py:112)</span>\n",
              "</pre>\n"
            ],
            "text/plain": [
              "\u001b[1;33mDeprecationWarning: Kernel._parent_header is deprecated in ipykernel 6. Use .get_parent()\u001b[0m \u001b[1;30m(raised from \u001b[0m\n",
              "\u001b[1;30m/home/aswin/anaconda3/envs/jina/lib/python3.9/site-packages/ipywidgets/widgets/widget_output.py:112)\u001b[0m\n"
            ]
          },
          "metadata": {},
          "output_type": "display_data"
        },
        {
          "data": {
            "text/html": [
              "<pre style=\"white-space:pre;overflow-x:auto;line-height:normal;font-family:Menlo,'DejaVu Sans Mono',consolas,'Courier New',monospace\"><span style=\"color: #808000; text-decoration-color: #808000; font-weight: bold\">DeprecationWarning: Kernel._parent_header is deprecated in ipykernel 6. Use .get_parent()</span> <span style=\"color: #000000; text-decoration-color: #000000; font-weight: bold\">(raised from </span>\n",
              "<span style=\"color: #000000; text-decoration-color: #000000; font-weight: bold\">/home/aswin/anaconda3/envs/jina/lib/python3.9/site-packages/ipywidgets/widgets/widget_output.py:111)</span>\n",
              "</pre>\n"
            ],
            "text/plain": [
              "\u001b[1;33mDeprecationWarning: Kernel._parent_header is deprecated in ipykernel 6. Use .get_parent()\u001b[0m \u001b[1;30m(raised from \u001b[0m\n",
              "\u001b[1;30m/home/aswin/anaconda3/envs/jina/lib/python3.9/site-packages/ipywidgets/widgets/widget_output.py:111)\u001b[0m\n"
            ]
          },
          "metadata": {},
          "output_type": "display_data"
        },
        {
          "data": {
            "text/html": [
              "<pre style=\"white-space:pre;overflow-x:auto;line-height:normal;font-family:Menlo,'DejaVu Sans Mono',consolas,'Courier New',monospace\"><span style=\"color: #808000; text-decoration-color: #808000; font-weight: bold\">DeprecationWarning: Kernel._parent_header is deprecated in ipykernel 6. Use .get_parent()</span> <span style=\"color: #000000; text-decoration-color: #000000; font-weight: bold\">(raised from </span>\n",
              "<span style=\"color: #000000; text-decoration-color: #000000; font-weight: bold\">/home/aswin/anaconda3/envs/jina/lib/python3.9/site-packages/ipywidgets/widgets/widget_output.py:112)</span>\n",
              "</pre>\n"
            ],
            "text/plain": [
              "\u001b[1;33mDeprecationWarning: Kernel._parent_header is deprecated in ipykernel 6. Use .get_parent()\u001b[0m \u001b[1;30m(raised from \u001b[0m\n",
              "\u001b[1;30m/home/aswin/anaconda3/envs/jina/lib/python3.9/site-packages/ipywidgets/widgets/widget_output.py:112)\u001b[0m\n"
            ]
          },
          "metadata": {},
          "output_type": "display_data"
        },
        {
          "data": {
            "text/html": [
              "<pre style=\"white-space:pre;overflow-x:auto;line-height:normal;font-family:Menlo,'DejaVu Sans Mono',consolas,'Courier New',monospace\"><span style=\"color: #808000; text-decoration-color: #808000; font-weight: bold\">DeprecationWarning: Kernel._parent_header is deprecated in ipykernel 6. Use .get_parent()</span> <span style=\"color: #000000; text-decoration-color: #000000; font-weight: bold\">(raised from </span>\n",
              "<span style=\"color: #000000; text-decoration-color: #000000; font-weight: bold\">/home/aswin/anaconda3/envs/jina/lib/python3.9/site-packages/ipywidgets/widgets/widget_output.py:111)</span>\n",
              "</pre>\n"
            ],
            "text/plain": [
              "\u001b[1;33mDeprecationWarning: Kernel._parent_header is deprecated in ipykernel 6. Use .get_parent()\u001b[0m \u001b[1;30m(raised from \u001b[0m\n",
              "\u001b[1;30m/home/aswin/anaconda3/envs/jina/lib/python3.9/site-packages/ipywidgets/widgets/widget_output.py:111)\u001b[0m\n"
            ]
          },
          "metadata": {},
          "output_type": "display_data"
        },
        {
          "data": {
            "text/html": [
              "<pre style=\"white-space:pre;overflow-x:auto;line-height:normal;font-family:Menlo,'DejaVu Sans Mono',consolas,'Courier New',monospace\"><span style=\"color: #808000; text-decoration-color: #808000; font-weight: bold\">DeprecationWarning: Kernel._parent_header is deprecated in ipykernel 6. Use .get_parent()</span> <span style=\"color: #000000; text-decoration-color: #000000; font-weight: bold\">(raised from </span>\n",
              "<span style=\"color: #000000; text-decoration-color: #000000; font-weight: bold\">/home/aswin/anaconda3/envs/jina/lib/python3.9/site-packages/ipywidgets/widgets/widget_output.py:112)</span>\n",
              "</pre>\n"
            ],
            "text/plain": [
              "\u001b[1;33mDeprecationWarning: Kernel._parent_header is deprecated in ipykernel 6. Use .get_parent()\u001b[0m \u001b[1;30m(raised from \u001b[0m\n",
              "\u001b[1;30m/home/aswin/anaconda3/envs/jina/lib/python3.9/site-packages/ipywidgets/widgets/widget_output.py:112)\u001b[0m\n"
            ]
          },
          "metadata": {},
          "output_type": "display_data"
        },
        {
          "data": {
            "text/html": [
              "<pre style=\"white-space:pre;overflow-x:auto;line-height:normal;font-family:Menlo,'DejaVu Sans Mono',consolas,'Courier New',monospace\"><span style=\"color: #808000; text-decoration-color: #808000; font-weight: bold\">DeprecationWarning: Kernel._parent_header is deprecated in ipykernel 6. Use .get_parent()</span> <span style=\"color: #000000; text-decoration-color: #000000; font-weight: bold\">(raised from </span>\n",
              "<span style=\"color: #000000; text-decoration-color: #000000; font-weight: bold\">/home/aswin/anaconda3/envs/jina/lib/python3.9/site-packages/ipywidgets/widgets/widget_output.py:111)</span>\n",
              "</pre>\n"
            ],
            "text/plain": [
              "\u001b[1;33mDeprecationWarning: Kernel._parent_header is deprecated in ipykernel 6. Use .get_parent()\u001b[0m \u001b[1;30m(raised from \u001b[0m\n",
              "\u001b[1;30m/home/aswin/anaconda3/envs/jina/lib/python3.9/site-packages/ipywidgets/widgets/widget_output.py:111)\u001b[0m\n"
            ]
          },
          "metadata": {},
          "output_type": "display_data"
        },
        {
          "data": {
            "text/html": [
              "<pre style=\"white-space:pre;overflow-x:auto;line-height:normal;font-family:Menlo,'DejaVu Sans Mono',consolas,'Courier New',monospace\"><span style=\"color: #808000; text-decoration-color: #808000; font-weight: bold\">DeprecationWarning: Kernel._parent_header is deprecated in ipykernel 6. Use .get_parent()</span> <span style=\"color: #000000; text-decoration-color: #000000; font-weight: bold\">(raised from </span>\n",
              "<span style=\"color: #000000; text-decoration-color: #000000; font-weight: bold\">/home/aswin/anaconda3/envs/jina/lib/python3.9/site-packages/ipywidgets/widgets/widget_output.py:112)</span>\n",
              "</pre>\n"
            ],
            "text/plain": [
              "\u001b[1;33mDeprecationWarning: Kernel._parent_header is deprecated in ipykernel 6. Use .get_parent()\u001b[0m \u001b[1;30m(raised from \u001b[0m\n",
              "\u001b[1;30m/home/aswin/anaconda3/envs/jina/lib/python3.9/site-packages/ipywidgets/widgets/widget_output.py:112)\u001b[0m\n"
            ]
          },
          "metadata": {},
          "output_type": "display_data"
        },
        {
          "data": {
            "text/html": [
              "<pre style=\"white-space:pre;overflow-x:auto;line-height:normal;font-family:Menlo,'DejaVu Sans Mono',consolas,'Courier New',monospace\"><span style=\"color: #00ff00; text-decoration-color: #00ff00\">─────────────────────────────────────────── </span>🎉 Flow is ready to serve!<span style=\"color: #00ff00; text-decoration-color: #00ff00\"> ────────────────────────────────────────────</span>\n",
              "╭────────────── 🔗 <span style=\"font-weight: bold\">Endpoint</span> ───────────────╮\n",
              "│  ⛓      Protocol                   GRPC  │\n",
              "│  🏠        Local          <a href=\"grpc://0.0.0.0:58857\" target=\"_blank\"><span style=\"color: #00ff00; text-decoration-color: #00ff00; font-weight: bold\">0.0.0.0</span></a><a href=\"grpc://0.0.0.0:58857\" target=\"_blank\">:</a><a href=\"grpc://0.0.0.0:58857\" target=\"_blank\"><span style=\"color: #008080; text-decoration-color: #008080; font-weight: bold\">58857</span></a>  │\n",
              "│  🔒      Private    <a href=\"grpc://192.168.0.102:58857\" target=\"_blank\"><span style=\"color: #00ff00; text-decoration-color: #00ff00; font-weight: bold\">192.168.0.102</span></a><a href=\"grpc://192.168.0.102:58857\" target=\"_blank\">:</a><a href=\"grpc://192.168.0.102:58857\" target=\"_blank\"><span style=\"color: #008080; text-decoration-color: #008080; font-weight: bold\">58857</span></a>  │\n",
              "│  🌍       Public      <a href=\"grpc://93.241.46.4:58857\" target=\"_blank\"><span style=\"color: #00ff00; text-decoration-color: #00ff00; font-weight: bold\">93.241.46.4</span></a><a href=\"grpc://93.241.46.4:58857\" target=\"_blank\">:</a><a href=\"grpc://93.241.46.4:58857\" target=\"_blank\"><span style=\"color: #008080; text-decoration-color: #008080; font-weight: bold\">58857</span></a>  │\n",
              "╰──────────────────────────────────────────╯\n",
              "</pre>\n"
            ],
            "text/plain": [
              "\u001b[92m─────────────────────────────────────────── \u001b[0m🎉 Flow is ready to serve!\u001b[92m ────────────────────────────────────────────\u001b[0m\n",
              "╭────────────── 🔗 \u001b[1mEndpoint\u001b[0m ───────────────╮\n",
              "│  ⛓      Protocol                   GRPC  │\n",
              "│  🏠        Local          \u001b]8;id=486160;grpc://0.0.0.0:58857\u001b\\\u001b[1;92m0.0.0.0\u001b[0m\u001b]8;;\u001b\\\u001b]8;id=784308;grpc://0.0.0.0:58857\u001b\\:\u001b]8;;\u001b\\\u001b]8;id=979237;grpc://0.0.0.0:58857\u001b\\\u001b[1;36m58857\u001b[0m\u001b]8;;\u001b\\  │\n",
              "│  🔒      Private    \u001b]8;id=285893;grpc://192.168.0.102:58857\u001b\\\u001b[1;92m192.168.0.102\u001b[0m\u001b]8;;\u001b\\\u001b]8;id=817650;grpc://192.168.0.102:58857\u001b\\:\u001b]8;;\u001b\\\u001b]8;id=469240;grpc://192.168.0.102:58857\u001b\\\u001b[1;36m58857\u001b[0m\u001b]8;;\u001b\\  │\n",
              "│  🌍       Public      \u001b]8;id=791946;grpc://93.241.46.4:58857\u001b\\\u001b[1;92m93.241.46.4\u001b[0m\u001b]8;;\u001b\\\u001b]8;id=526532;grpc://93.241.46.4:58857\u001b\\:\u001b]8;;\u001b\\\u001b]8;id=690709;grpc://93.241.46.4:58857\u001b\\\u001b[1;36m58857\u001b[0m\u001b]8;;\u001b\\  │\n",
              "╰──────────────────────────────────────────╯\n"
            ]
          },
          "metadata": {},
          "output_type": "display_data"
        },
        {
          "data": {
            "text/html": [
              "<pre style=\"white-space:pre;overflow-x:auto;line-height:normal;font-family:Menlo,'DejaVu Sans Mono',consolas,'Courier New',monospace\"></pre>\n"
            ],
            "text/plain": []
          },
          "metadata": {},
          "output_type": "display_data"
        },
        {
          "data": {
            "text/html": [
              "<pre style=\"white-space:pre;overflow-x:auto;line-height:normal;font-family:Menlo,'DejaVu Sans Mono',consolas,'Courier New',monospace\">\n",
              "</pre>\n"
            ],
            "text/plain": [
              "\n"
            ]
          },
          "metadata": {},
          "output_type": "display_data"
        },
        {
          "data": {
            "text/html": [
              "<pre style=\"white-space:pre;overflow-x:auto;line-height:normal;font-family:Menlo,'DejaVu Sans Mono',consolas,'Courier New',monospace\"><span style=\"color: #008000; text-decoration-color: #008000\">DEBUG </span> <span style=\"color: #7f7f7f; text-decoration-color: #7f7f7f\">Flow@</span><span style=\"color: #7fbfbf; text-decoration-color: #7fbfbf; font-weight: bold\">10739</span> <span style=\"color: #008080; text-decoration-color: #008080; font-weight: bold\">2</span> Deployments <span style=\"font-weight: bold\">(</span>i.e. <span style=\"color: #008080; text-decoration-color: #008080; font-weight: bold\">2</span> Pods<span style=\"font-weight: bold\">)</span> are running in this Flow                          <span style=\"color: #7f7f7f; text-decoration-color: #7f7f7f\">[08/16/22 12:37:05]</span>\n",
              "</pre>\n"
            ],
            "text/plain": [
              "\u001b[32mDEBUG \u001b[0m \u001b[2mFlow@\u001b[0m\u001b[1;2;36m10739\u001b[0m \u001b[1;36m2\u001b[0m Deployments \u001b[1m(\u001b[0mi.e. \u001b[1;36m2\u001b[0m Pods\u001b[1m)\u001b[0m are running in this Flow                          \u001b[2m[08/16/22 12:37:05]\u001b[0m\n"
            ]
          },
          "metadata": {},
          "output_type": "display_data"
        },
        {
          "data": {
            "text/html": [
              "<pre style=\"white-space:pre;overflow-x:auto;line-height:normal;font-family:Menlo,'DejaVu Sans Mono',consolas,'Courier New',monospace\"><span style=\"color: #008000; text-decoration-color: #008000\">DEBUG </span> <span style=\"color: #7f7f7f; text-decoration-color: #7f7f7f\">GRPCClient@</span><span style=\"color: #7fbfbf; text-decoration-color: #7fbfbf; font-weight: bold\">10739</span> connected to <span style=\"color: #00ff00; text-decoration-color: #00ff00; font-weight: bold\">0.0.0.0</span>:<span style=\"color: #008080; text-decoration-color: #008080; font-weight: bold\">58857</span>                                              <span style=\"color: #7f7f7f; text-decoration-color: #7f7f7f\">[08/16/22 12:37:05]</span>\n",
              "</pre>\n"
            ],
            "text/plain": [
              "\u001b[32mDEBUG \u001b[0m \u001b[2mGRPCClient@\u001b[0m\u001b[1;2;36m10739\u001b[0m connected to \u001b[1;92m0.0.0.0\u001b[0m:\u001b[1;36m58857\u001b[0m                                              \u001b[2m[08/16/22 12:37:05]\u001b[0m\n"
            ]
          },
          "metadata": {},
          "output_type": "display_data"
        },
        {
          "data": {
            "text/html": [
              "<pre style=\"white-space:pre;overflow-x:auto;line-height:normal;font-family:Menlo,'DejaVu Sans Mono',consolas,'Courier New',monospace\"><span style=\"color: #008000; text-decoration-color: #008000\">DEBUG </span> <span style=\"color: #7f7f7f; text-decoration-color: #7f7f7f\">executor0/rep-</span><span style=\"color: #7fbfbf; text-decoration-color: #7fbfbf; font-weight: bold\">0</span><span style=\"color: #7f7f7f; text-decoration-color: #7f7f7f\">@</span><span style=\"color: #7fbfbf; text-decoration-color: #7fbfbf; font-weight: bold\">12439</span> recv DataRequest at <span style=\"color: #800080; text-decoration-color: #800080\">/</span><span style=\"color: #ff00ff; text-decoration-color: #ff00ff\">search</span> with id:                               <span style=\"color: #7f7f7f; text-decoration-color: #7f7f7f\">[08/16/22 12:37:05]</span>\n",
              "       1bb5f657d6ab41a7a204ac5c20fd2dea                                                         <span style=\"color: #7f7f7f; text-decoration-color: #7f7f7f\">                   </span>\n",
              "</pre>\n"
            ],
            "text/plain": [
              "\u001b[32mDEBUG \u001b[0m \u001b[2mexecutor0/rep-\u001b[0m\u001b[1;2;36m0\u001b[0m\u001b[2m@\u001b[0m\u001b[1;2;36m12439\u001b[0m recv DataRequest at \u001b[35m/\u001b[0m\u001b[95msearch\u001b[0m with id:                               \u001b[2m[08/16/22 12:37:05]\u001b[0m\n",
              "       1bb5f657d6ab41a7a204ac5c20fd2dea                                                         \u001b[2m                   \u001b[0m\n"
            ]
          },
          "metadata": {},
          "output_type": "display_data"
        },
        {
          "data": {
            "text/html": [
              "<pre style=\"white-space:pre;overflow-x:auto;line-height:normal;font-family:Menlo,'DejaVu Sans Mono',consolas,'Courier New',monospace\"><span style=\"color: #008000; text-decoration-color: #008000\">DEBUG </span> <span style=\"color: #7f7f7f; text-decoration-color: #7f7f7f\">executor0/rep-</span><span style=\"color: #7fbfbf; text-decoration-color: #7fbfbf; font-weight: bold\">0</span><span style=\"color: #7f7f7f; text-decoration-color: #7f7f7f\">@</span><span style=\"color: #7fbfbf; text-decoration-color: #7fbfbf; font-weight: bold\">12439</span> got an endpoint discovery request                                  <span style=\"color: #7f7f7f; text-decoration-color: #7f7f7f\">                   </span>\n",
              "</pre>\n"
            ],
            "text/plain": [
              "\u001b[32mDEBUG \u001b[0m \u001b[2mexecutor0/rep-\u001b[0m\u001b[1;2;36m0\u001b[0m\u001b[2m@\u001b[0m\u001b[1;2;36m12439\u001b[0m got an endpoint discovery request                                  \u001b[2m                   \u001b[0m\n"
            ]
          },
          "metadata": {},
          "output_type": "display_data"
        },
        {
          "data": {
            "text/html": [
              "<pre style=\"white-space:pre;overflow-x:auto;line-height:normal;font-family:Menlo,'DejaVu Sans Mono',consolas,'Courier New',monospace\">\n",
              "</pre>\n"
            ],
            "text/plain": [
              "\n"
            ]
          },
          "metadata": {},
          "output_type": "display_data"
        },
        {
          "data": {
            "text/html": [
              "<pre style=\"white-space:pre;overflow-x:auto;line-height:normal;font-family:Menlo,'DejaVu Sans Mono',consolas,'Courier New',monospace\"><span style=\"color: #008000; text-decoration-color: #008000\">DEBUG </span> <span style=\"color: #7f7f7f; text-decoration-color: #7f7f7f\">gateway/rep-</span><span style=\"color: #7fbfbf; text-decoration-color: #7fbfbf; font-weight: bold\">0</span><span style=\"color: #7f7f7f; text-decoration-color: #7f7f7f\">@</span><span style=\"color: #7fbfbf; text-decoration-color: #7fbfbf; font-weight: bold\">10739</span> waiting for ready or shutdown signal from runtime                    <span style=\"color: #7f7f7f; text-decoration-color: #7f7f7f\">[08/16/22 12:37:05]</span>\n",
              "</pre>\n"
            ],
            "text/plain": [
              "\u001b[32mDEBUG \u001b[0m \u001b[2mgateway/rep-\u001b[0m\u001b[1;2;36m0\u001b[0m\u001b[2m@\u001b[0m\u001b[1;2;36m10739\u001b[0m waiting for ready or shutdown signal from runtime                    \u001b[2m[08/16/22 12:37:05]\u001b[0m\n"
            ]
          },
          "metadata": {},
          "output_type": "display_data"
        },
        {
          "data": {
            "text/html": [
              "<pre style=\"white-space:pre;overflow-x:auto;line-height:normal;font-family:Menlo,'DejaVu Sans Mono',consolas,'Courier New',monospace\"><span style=\"color: #008000; text-decoration-color: #008000\">DEBUG </span> <span style=\"color: #7f7f7f; text-decoration-color: #7f7f7f\">gateway/rep-</span><span style=\"color: #7fbfbf; text-decoration-color: #7fbfbf; font-weight: bold\">0</span><span style=\"color: #7f7f7f; text-decoration-color: #7f7f7f\">@</span><span style=\"color: #7fbfbf; text-decoration-color: #7fbfbf; font-weight: bold\">10739</span> terminate                                                            <span style=\"color: #7f7f7f; text-decoration-color: #7f7f7f\">                   </span>\n",
              "</pre>\n"
            ],
            "text/plain": [
              "\u001b[32mDEBUG \u001b[0m \u001b[2mgateway/rep-\u001b[0m\u001b[1;2;36m0\u001b[0m\u001b[2m@\u001b[0m\u001b[1;2;36m10739\u001b[0m terminate                                                            \u001b[2m                   \u001b[0m\n"
            ]
          },
          "metadata": {},
          "output_type": "display_data"
        },
        {
          "data": {
            "text/html": [
              "<pre style=\"white-space:pre;overflow-x:auto;line-height:normal;font-family:Menlo,'DejaVu Sans Mono',consolas,'Courier New',monospace\"><span style=\"color: #008000; text-decoration-color: #008000\">DEBUG </span> <span style=\"color: #7f7f7f; text-decoration-color: #7f7f7f\">gateway/rep-</span><span style=\"color: #7fbfbf; text-decoration-color: #7fbfbf; font-weight: bold\">0</span><span style=\"color: #7f7f7f; text-decoration-color: #7f7f7f\">@</span><span style=\"color: #7fbfbf; text-decoration-color: #7fbfbf; font-weight: bold\">10739</span> terminating the runtime process                                      <span style=\"color: #7f7f7f; text-decoration-color: #7f7f7f\">                   </span>\n",
              "</pre>\n"
            ],
            "text/plain": [
              "\u001b[32mDEBUG \u001b[0m \u001b[2mgateway/rep-\u001b[0m\u001b[1;2;36m0\u001b[0m\u001b[2m@\u001b[0m\u001b[1;2;36m10739\u001b[0m terminating the runtime process                                      \u001b[2m                   \u001b[0m\n"
            ]
          },
          "metadata": {},
          "output_type": "display_data"
        },
        {
          "data": {
            "text/html": [
              "<pre style=\"white-space:pre;overflow-x:auto;line-height:normal;font-family:Menlo,'DejaVu Sans Mono',consolas,'Courier New',monospace\"><span style=\"color: #008000; text-decoration-color: #008000\">DEBUG </span> <span style=\"color: #7f7f7f; text-decoration-color: #7f7f7f\">gateway/rep-</span><span style=\"color: #7fbfbf; text-decoration-color: #7fbfbf; font-weight: bold\">0</span><span style=\"color: #7f7f7f; text-decoration-color: #7f7f7f\">@</span><span style=\"color: #7fbfbf; text-decoration-color: #7fbfbf; font-weight: bold\">10739</span> runtime process properly terminated                                  <span style=\"color: #7f7f7f; text-decoration-color: #7f7f7f\">                   </span>\n",
              "</pre>\n"
            ],
            "text/plain": [
              "\u001b[32mDEBUG \u001b[0m \u001b[2mgateway/rep-\u001b[0m\u001b[1;2;36m0\u001b[0m\u001b[2m@\u001b[0m\u001b[1;2;36m10739\u001b[0m runtime process properly terminated                                  \u001b[2m                   \u001b[0m\n"
            ]
          },
          "metadata": {},
          "output_type": "display_data"
        },
        {
          "data": {
            "text/html": [
              "<pre style=\"white-space:pre;overflow-x:auto;line-height:normal;font-family:Menlo,'DejaVu Sans Mono',consolas,'Courier New',monospace\"><span style=\"color: #008000; text-decoration-color: #008000\">DEBUG </span> <span style=\"color: #7f7f7f; text-decoration-color: #7f7f7f\">gateway/rep-</span><span style=\"color: #7fbfbf; text-decoration-color: #7fbfbf; font-weight: bold\">0</span><span style=\"color: #7f7f7f; text-decoration-color: #7f7f7f\">@</span><span style=\"color: #7fbfbf; text-decoration-color: #7fbfbf; font-weight: bold\">10739</span> terminated                                                           <span style=\"color: #7f7f7f; text-decoration-color: #7f7f7f\">                   </span>\n",
              "</pre>\n"
            ],
            "text/plain": [
              "\u001b[32mDEBUG \u001b[0m \u001b[2mgateway/rep-\u001b[0m\u001b[1;2;36m0\u001b[0m\u001b[2m@\u001b[0m\u001b[1;2;36m10739\u001b[0m terminated                                                           \u001b[2m                   \u001b[0m\n"
            ]
          },
          "metadata": {},
          "output_type": "display_data"
        },
        {
          "data": {
            "text/html": [
              "<pre style=\"white-space:pre;overflow-x:auto;line-height:normal;font-family:Menlo,'DejaVu Sans Mono',consolas,'Courier New',monospace\"><span style=\"color: #008000; text-decoration-color: #008000\">DEBUG </span> <span style=\"color: #7f7f7f; text-decoration-color: #7f7f7f\">gateway/rep-</span><span style=\"color: #7fbfbf; text-decoration-color: #7fbfbf; font-weight: bold\">0</span><span style=\"color: #7f7f7f; text-decoration-color: #7f7f7f\">@</span><span style=\"color: #7fbfbf; text-decoration-color: #7fbfbf; font-weight: bold\">10739</span> joining the process                                                  <span style=\"color: #7f7f7f; text-decoration-color: #7f7f7f\">                   </span>\n",
              "</pre>\n"
            ],
            "text/plain": [
              "\u001b[32mDEBUG \u001b[0m \u001b[2mgateway/rep-\u001b[0m\u001b[1;2;36m0\u001b[0m\u001b[2m@\u001b[0m\u001b[1;2;36m10739\u001b[0m joining the process                                                  \u001b[2m                   \u001b[0m\n"
            ]
          },
          "metadata": {},
          "output_type": "display_data"
        },
        {
          "data": {
            "text/html": [
              "<pre style=\"white-space:pre;overflow-x:auto;line-height:normal;font-family:Menlo,'DejaVu Sans Mono',consolas,'Courier New',monospace\"><span style=\"color: #008000; text-decoration-color: #008000\">DEBUG </span> <span style=\"color: #7f7f7f; text-decoration-color: #7f7f7f\">gateway/rep-</span><span style=\"color: #7fbfbf; text-decoration-color: #7fbfbf; font-weight: bold\">0</span><span style=\"color: #7f7f7f; text-decoration-color: #7f7f7f\">@</span><span style=\"color: #7fbfbf; text-decoration-color: #7fbfbf; font-weight: bold\">10739</span> successfully joined the process                                      <span style=\"color: #7f7f7f; text-decoration-color: #7f7f7f\">                   </span>\n",
              "</pre>\n"
            ],
            "text/plain": [
              "\u001b[32mDEBUG \u001b[0m \u001b[2mgateway/rep-\u001b[0m\u001b[1;2;36m0\u001b[0m\u001b[2m@\u001b[0m\u001b[1;2;36m10739\u001b[0m successfully joined the process                                      \u001b[2m                   \u001b[0m\n"
            ]
          },
          "metadata": {},
          "output_type": "display_data"
        },
        {
          "data": {
            "text/html": [
              "<pre style=\"white-space:pre;overflow-x:auto;line-height:normal;font-family:Menlo,'DejaVu Sans Mono',consolas,'Courier New',monospace\"><span style=\"color: #008000; text-decoration-color: #008000\">DEBUG </span> <span style=\"color: #7f7f7f; text-decoration-color: #7f7f7f\">executor0/rep-</span><span style=\"color: #7fbfbf; text-decoration-color: #7fbfbf; font-weight: bold\">0</span><span style=\"color: #7f7f7f; text-decoration-color: #7f7f7f\">@</span><span style=\"color: #7fbfbf; text-decoration-color: #7fbfbf; font-weight: bold\">10739</span> waiting for ready or shutdown signal from runtime                  <span style=\"color: #7f7f7f; text-decoration-color: #7f7f7f\">[08/16/22 12:37:05]</span>\n",
              "</pre>\n"
            ],
            "text/plain": [
              "\u001b[32mDEBUG \u001b[0m \u001b[2mexecutor0/rep-\u001b[0m\u001b[1;2;36m0\u001b[0m\u001b[2m@\u001b[0m\u001b[1;2;36m10739\u001b[0m waiting for ready or shutdown signal from runtime                  \u001b[2m[08/16/22 12:37:05]\u001b[0m\n"
            ]
          },
          "metadata": {},
          "output_type": "display_data"
        },
        {
          "data": {
            "text/html": [
              "<pre style=\"white-space:pre;overflow-x:auto;line-height:normal;font-family:Menlo,'DejaVu Sans Mono',consolas,'Courier New',monospace\"><span style=\"color: #008000; text-decoration-color: #008000\">DEBUG </span> <span style=\"color: #7f7f7f; text-decoration-color: #7f7f7f\">executor0/rep-</span><span style=\"color: #7fbfbf; text-decoration-color: #7fbfbf; font-weight: bold\">0</span><span style=\"color: #7f7f7f; text-decoration-color: #7f7f7f\">@</span><span style=\"color: #7fbfbf; text-decoration-color: #7fbfbf; font-weight: bold\">10739</span> terminate                                                          <span style=\"color: #7f7f7f; text-decoration-color: #7f7f7f\">                   </span>\n",
              "</pre>\n"
            ],
            "text/plain": [
              "\u001b[32mDEBUG \u001b[0m \u001b[2mexecutor0/rep-\u001b[0m\u001b[1;2;36m0\u001b[0m\u001b[2m@\u001b[0m\u001b[1;2;36m10739\u001b[0m terminate                                                          \u001b[2m                   \u001b[0m\n"
            ]
          },
          "metadata": {},
          "output_type": "display_data"
        },
        {
          "data": {
            "text/html": [
              "<pre style=\"white-space:pre;overflow-x:auto;line-height:normal;font-family:Menlo,'DejaVu Sans Mono',consolas,'Courier New',monospace\"><span style=\"color: #008000; text-decoration-color: #008000\">DEBUG </span> <span style=\"color: #7f7f7f; text-decoration-color: #7f7f7f\">executor0/rep-</span><span style=\"color: #7fbfbf; text-decoration-color: #7fbfbf; font-weight: bold\">0</span><span style=\"color: #7f7f7f; text-decoration-color: #7f7f7f\">@</span><span style=\"color: #7fbfbf; text-decoration-color: #7fbfbf; font-weight: bold\">10739</span> terminating the runtime process                                    <span style=\"color: #7f7f7f; text-decoration-color: #7f7f7f\">                   </span>\n",
              "</pre>\n"
            ],
            "text/plain": [
              "\u001b[32mDEBUG \u001b[0m \u001b[2mexecutor0/rep-\u001b[0m\u001b[1;2;36m0\u001b[0m\u001b[2m@\u001b[0m\u001b[1;2;36m10739\u001b[0m terminating the runtime process                                    \u001b[2m                   \u001b[0m\n"
            ]
          },
          "metadata": {},
          "output_type": "display_data"
        },
        {
          "data": {
            "text/html": [
              "<pre style=\"white-space:pre;overflow-x:auto;line-height:normal;font-family:Menlo,'DejaVu Sans Mono',consolas,'Courier New',monospace\"><span style=\"color: #008000; text-decoration-color: #008000\">DEBUG </span> <span style=\"color: #7f7f7f; text-decoration-color: #7f7f7f\">executor0/rep-</span><span style=\"color: #7fbfbf; text-decoration-color: #7fbfbf; font-weight: bold\">0</span><span style=\"color: #7f7f7f; text-decoration-color: #7f7f7f\">@</span><span style=\"color: #7fbfbf; text-decoration-color: #7fbfbf; font-weight: bold\">10739</span> runtime process properly terminated                                <span style=\"color: #7f7f7f; text-decoration-color: #7f7f7f\">                   </span>\n",
              "</pre>\n"
            ],
            "text/plain": [
              "\u001b[32mDEBUG \u001b[0m \u001b[2mexecutor0/rep-\u001b[0m\u001b[1;2;36m0\u001b[0m\u001b[2m@\u001b[0m\u001b[1;2;36m10739\u001b[0m runtime process properly terminated                                \u001b[2m                   \u001b[0m\n"
            ]
          },
          "metadata": {},
          "output_type": "display_data"
        },
        {
          "data": {
            "text/html": [
              "<pre style=\"white-space:pre;overflow-x:auto;line-height:normal;font-family:Menlo,'DejaVu Sans Mono',consolas,'Courier New',monospace\"><span style=\"color: #008000; text-decoration-color: #008000\">DEBUG </span> <span style=\"color: #7f7f7f; text-decoration-color: #7f7f7f\">executor0/rep-</span><span style=\"color: #7fbfbf; text-decoration-color: #7fbfbf; font-weight: bold\">0</span><span style=\"color: #7f7f7f; text-decoration-color: #7f7f7f\">@</span><span style=\"color: #7fbfbf; text-decoration-color: #7fbfbf; font-weight: bold\">12439</span> cancel WorkerRuntime                                               <span style=\"color: #7f7f7f; text-decoration-color: #7f7f7f\">                   </span>\n",
              "</pre>\n"
            ],
            "text/plain": [
              "\u001b[32mDEBUG \u001b[0m \u001b[2mexecutor0/rep-\u001b[0m\u001b[1;2;36m0\u001b[0m\u001b[2m@\u001b[0m\u001b[1;2;36m12439\u001b[0m cancel WorkerRuntime                                               \u001b[2m                   \u001b[0m\n"
            ]
          },
          "metadata": {},
          "output_type": "display_data"
        },
        {
          "data": {
            "text/html": [
              "<pre style=\"white-space:pre;overflow-x:auto;line-height:normal;font-family:Menlo,'DejaVu Sans Mono',consolas,'Courier New',monospace\"><span style=\"color: #008000; text-decoration-color: #008000\">DEBUG </span> <span style=\"color: #7f7f7f; text-decoration-color: #7f7f7f\">executor0/rep-</span><span style=\"color: #7fbfbf; text-decoration-color: #7fbfbf; font-weight: bold\">0</span><span style=\"color: #7f7f7f; text-decoration-color: #7f7f7f\">@</span><span style=\"color: #7fbfbf; text-decoration-color: #7fbfbf; font-weight: bold\">12439</span> stopped GRPC Server                                                <span style=\"color: #7f7f7f; text-decoration-color: #7f7f7f\">                   </span>\n",
              "</pre>\n"
            ],
            "text/plain": [
              "\u001b[32mDEBUG \u001b[0m \u001b[2mexecutor0/rep-\u001b[0m\u001b[1;2;36m0\u001b[0m\u001b[2m@\u001b[0m\u001b[1;2;36m12439\u001b[0m stopped GRPC Server                                                \u001b[2m                   \u001b[0m\n"
            ]
          },
          "metadata": {},
          "output_type": "display_data"
        },
        {
          "data": {
            "text/html": [
              "<pre style=\"white-space:pre;overflow-x:auto;line-height:normal;font-family:Menlo,'DejaVu Sans Mono',consolas,'Courier New',monospace\"><span style=\"color: #008000; text-decoration-color: #008000\">DEBUG </span> <span style=\"color: #7f7f7f; text-decoration-color: #7f7f7f\">executor0/rep-</span><span style=\"color: #7fbfbf; text-decoration-color: #7fbfbf; font-weight: bold\">0</span><span style=\"color: #7f7f7f; text-decoration-color: #7f7f7f\">@</span><span style=\"color: #7fbfbf; text-decoration-color: #7fbfbf; font-weight: bold\">12439</span> cancel WorkerRuntime                                               <span style=\"color: #7f7f7f; text-decoration-color: #7f7f7f\">                   </span>\n",
              "</pre>\n"
            ],
            "text/plain": [
              "\u001b[32mDEBUG \u001b[0m \u001b[2mexecutor0/rep-\u001b[0m\u001b[1;2;36m0\u001b[0m\u001b[2m@\u001b[0m\u001b[1;2;36m12439\u001b[0m cancel WorkerRuntime                                               \u001b[2m                   \u001b[0m\n"
            ]
          },
          "metadata": {},
          "output_type": "display_data"
        },
        {
          "data": {
            "text/html": [
              "<pre style=\"white-space:pre;overflow-x:auto;line-height:normal;font-family:Menlo,'DejaVu Sans Mono',consolas,'Courier New',monospace\"><span style=\"color: #008000; text-decoration-color: #008000\">DEBUG </span> <span style=\"color: #7f7f7f; text-decoration-color: #7f7f7f\">executor0/rep-</span><span style=\"color: #7fbfbf; text-decoration-color: #7fbfbf; font-weight: bold\">0</span><span style=\"color: #7f7f7f; text-decoration-color: #7f7f7f\">@</span><span style=\"color: #7fbfbf; text-decoration-color: #7fbfbf; font-weight: bold\">12439</span> stopped GRPC Server                                                <span style=\"color: #7f7f7f; text-decoration-color: #7f7f7f\">                   </span>\n",
              "</pre>\n"
            ],
            "text/plain": [
              "\u001b[32mDEBUG \u001b[0m \u001b[2mexecutor0/rep-\u001b[0m\u001b[1;2;36m0\u001b[0m\u001b[2m@\u001b[0m\u001b[1;2;36m12439\u001b[0m stopped GRPC Server                                                \u001b[2m                   \u001b[0m\n"
            ]
          },
          "metadata": {},
          "output_type": "display_data"
        },
        {
          "data": {
            "text/html": [
              "<pre style=\"white-space:pre;overflow-x:auto;line-height:normal;font-family:Menlo,'DejaVu Sans Mono',consolas,'Courier New',monospace\"><span style=\"color: #008000; text-decoration-color: #008000\">DEBUG </span> <span style=\"color: #7f7f7f; text-decoration-color: #7f7f7f\">executor0/rep-</span><span style=\"color: #7fbfbf; text-decoration-color: #7fbfbf; font-weight: bold\">0</span><span style=\"color: #7f7f7f; text-decoration-color: #7f7f7f\">@</span><span style=\"color: #7fbfbf; text-decoration-color: #7fbfbf; font-weight: bold\">10739</span> terminated                                                         <span style=\"color: #7f7f7f; text-decoration-color: #7f7f7f\">                   </span>\n",
              "</pre>\n"
            ],
            "text/plain": [
              "\u001b[32mDEBUG \u001b[0m \u001b[2mexecutor0/rep-\u001b[0m\u001b[1;2;36m0\u001b[0m\u001b[2m@\u001b[0m\u001b[1;2;36m10739\u001b[0m terminated                                                         \u001b[2m                   \u001b[0m\n"
            ]
          },
          "metadata": {},
          "output_type": "display_data"
        },
        {
          "data": {
            "text/html": [
              "<pre style=\"white-space:pre;overflow-x:auto;line-height:normal;font-family:Menlo,'DejaVu Sans Mono',consolas,'Courier New',monospace\"><span style=\"color: #008000; text-decoration-color: #008000\">DEBUG </span> <span style=\"color: #7f7f7f; text-decoration-color: #7f7f7f\">executor0/rep-</span><span style=\"color: #7fbfbf; text-decoration-color: #7fbfbf; font-weight: bold\">0</span><span style=\"color: #7f7f7f; text-decoration-color: #7f7f7f\">@</span><span style=\"color: #7fbfbf; text-decoration-color: #7fbfbf; font-weight: bold\">12439</span> process terminated                                                 <span style=\"color: #7f7f7f; text-decoration-color: #7f7f7f\">[08/16/22 12:37:05]</span>\n",
              "</pre>\n"
            ],
            "text/plain": [
              "\u001b[32mDEBUG \u001b[0m \u001b[2mexecutor0/rep-\u001b[0m\u001b[1;2;36m0\u001b[0m\u001b[2m@\u001b[0m\u001b[1;2;36m12439\u001b[0m process terminated                                                 \u001b[2m[08/16/22 12:37:05]\u001b[0m\n"
            ]
          },
          "metadata": {},
          "output_type": "display_data"
        },
        {
          "data": {
            "text/html": [
              "<pre style=\"white-space:pre;overflow-x:auto;line-height:normal;font-family:Menlo,'DejaVu Sans Mono',consolas,'Courier New',monospace\"><span style=\"color: #008000; text-decoration-color: #008000\">DEBUG </span> <span style=\"color: #7f7f7f; text-decoration-color: #7f7f7f\">executor0/rep-</span><span style=\"color: #7fbfbf; text-decoration-color: #7fbfbf; font-weight: bold\">0</span><span style=\"color: #7f7f7f; text-decoration-color: #7f7f7f\">@</span><span style=\"color: #7fbfbf; text-decoration-color: #7fbfbf; font-weight: bold\">10739</span> joining the process                                                <span style=\"color: #7f7f7f; text-decoration-color: #7f7f7f\">                   </span>\n",
              "</pre>\n"
            ],
            "text/plain": [
              "\u001b[32mDEBUG \u001b[0m \u001b[2mexecutor0/rep-\u001b[0m\u001b[1;2;36m0\u001b[0m\u001b[2m@\u001b[0m\u001b[1;2;36m10739\u001b[0m joining the process                                                \u001b[2m                   \u001b[0m\n"
            ]
          },
          "metadata": {},
          "output_type": "display_data"
        },
        {
          "data": {
            "text/html": [
              "<pre style=\"white-space:pre;overflow-x:auto;line-height:normal;font-family:Menlo,'DejaVu Sans Mono',consolas,'Courier New',monospace\"><span style=\"color: #008000; text-decoration-color: #008000\">DEBUG </span> <span style=\"color: #7f7f7f; text-decoration-color: #7f7f7f\">executor0/rep-</span><span style=\"color: #7fbfbf; text-decoration-color: #7fbfbf; font-weight: bold\">0</span><span style=\"color: #7f7f7f; text-decoration-color: #7f7f7f\">@</span><span style=\"color: #7fbfbf; text-decoration-color: #7fbfbf; font-weight: bold\">10739</span> successfully joined the process                                    <span style=\"color: #7f7f7f; text-decoration-color: #7f7f7f\">                   </span>\n",
              "</pre>\n"
            ],
            "text/plain": [
              "\u001b[32mDEBUG \u001b[0m \u001b[2mexecutor0/rep-\u001b[0m\u001b[1;2;36m0\u001b[0m\u001b[2m@\u001b[0m\u001b[1;2;36m10739\u001b[0m successfully joined the process                                    \u001b[2m                   \u001b[0m\n"
            ]
          },
          "metadata": {},
          "output_type": "display_data"
        },
        {
          "data": {
            "text/html": [
              "<pre style=\"white-space:pre;overflow-x:auto;line-height:normal;font-family:Menlo,'DejaVu Sans Mono',consolas,'Courier New',monospace\"><span style=\"color: #008000; text-decoration-color: #008000\">DEBUG </span> <span style=\"color: #7f7f7f; text-decoration-color: #7f7f7f\">Flow@</span><span style=\"color: #7fbfbf; text-decoration-color: #7fbfbf; font-weight: bold\">10739</span> flow is closed!                                                               <span style=\"color: #7f7f7f; text-decoration-color: #7f7f7f\">                   </span>\n",
              "</pre>\n"
            ],
            "text/plain": [
              "\u001b[32mDEBUG \u001b[0m \u001b[2mFlow@\u001b[0m\u001b[1;2;36m10739\u001b[0m flow is closed!                                                               \u001b[2m                   \u001b[0m\n"
            ]
          },
          "metadata": {},
          "output_type": "display_data"
        }
      ],
      "source": [
        "query = docs[0:1]\n",
        "with f:\n",
        "    resp = f.search(inputs=query, \n",
        "                    return_results=True, \n",
        "                    parameters={\n",
        "                        'filter': {\n",
        "                            'year': {'$lte': before_year},\n",
        "                            'masterCategory': {'$eq': category},\n",
        "                            'baseColour': {'$eq': color}\n",
        "                        },\n",
        "                        'limit': 5\n",
        "                    })"
      ]
    },
    {
      "cell_type": "code",
      "execution_count": 15,
      "metadata": {},
      "outputs": [
        {
          "data": {
            "text/html": [
              "<pre style=\"white-space:pre;overflow-x:auto;line-height:normal;font-family:Menlo,'DejaVu Sans Mono',consolas,'Courier New',monospace\">📄 <span style=\"font-weight: bold\">Document</span>: <span style=\"color: #008080; text-decoration-color: #008080\">10439</span>\n",
              "╭───────────┬──────────────────────────────────────────────────────────────────╮\n",
              "│<span style=\"font-weight: bold\"> Attribute </span>│<span style=\"font-weight: bold\"> Value                                                            </span>│\n",
              "├───────────┼──────────────────────────────────────────────────────────────────┤\n",
              "│ adjacency │ <span style=\"color: #008080; text-decoration-color: #008080; font-weight: bold\">1</span>                                                                │\n",
              "│ tensor    │ <span style=\"font-weight: bold\">&lt;</span><span style=\"color: #ff00ff; text-decoration-color: #ff00ff; font-weight: bold\">class</span><span style=\"color: #000000; text-decoration-color: #000000\"> </span><span style=\"color: #008000; text-decoration-color: #008000\">'numpy.ndarray'</span><span style=\"font-weight: bold\">&gt;</span> in shape <span style=\"font-weight: bold\">(</span><span style=\"color: #008080; text-decoration-color: #008080; font-weight: bold\">3</span>, <span style=\"color: #008080; text-decoration-color: #008080; font-weight: bold\">80</span>, <span style=\"color: #008080; text-decoration-color: #008080; font-weight: bold\">60</span><span style=\"font-weight: bold\">)</span>, dtype: float32     │\n",
              "│ mime_type │ image/jpeg                                                       │\n",
              "│ uri       │ <span style=\"color: #800080; text-decoration-color: #800080\">/home/aswin/Data/archive/images/</span><span style=\"color: #ff00ff; text-decoration-color: #ff00ff\">10439.jpg</span>                        │\n",
              "│ tags      │ <span style=\"font-weight: bold\">{</span><span style=\"color: #008000; text-decoration-color: #008000\">'season'</span>: <span style=\"color: #008000; text-decoration-color: #008000\">'Fall'</span>, <span style=\"color: #008000; text-decoration-color: #008000\">'subCategory'</span>: <span style=\"color: #008000; text-decoration-color: #008000\">'Topwear'</span>, <span style=\"color: #008000; text-decoration-color: #008000\">'masterCategory'</span>:   │\n",
              "│           │ <span style=\"color: #008000; text-decoration-color: #008000\">'Apparel'</span>, <span style=\"color: #008000; text-decoration-color: #008000\">'gender'</span>: <span style=\"color: #008000; text-decoration-color: #008000\">'Men'</span>, <span style=\"color: #008000; text-decoration-color: #008000\">'productDisplayName'</span>: <span style=\"color: #008000; text-decoration-color: #008000\">'Flying </span>       │\n",
              "│           │ <span style=\"color: #008000; text-decoration-color: #008000\">Machine Men Walnut Brown Tshirts'</span>, <span style=\"color: #008000; text-decoration-color: #008000\">'articleType'</span>: <span style=\"color: #008000; text-decoration-color: #008000\">'Tshirts'</span>,     │\n",
              "│           │ <span style=\"color: #008000; text-decoration-color: #008000\">'usage'</span>: <span style=\"color: #008000; text-decoration-color: #008000\">'Casual'</span>, <span style=\"color: #008000; text-decoration-color: #008000\">'baseColour'</span>: <span style=\"color: #008000; text-decoration-color: #008000\">'Brown'</span>, <span style=\"color: #008000; text-decoration-color: #008000\">'year'</span>: <span style=\"color: #008080; text-decoration-color: #008080; font-weight: bold\">2011.0</span><span style=\"font-weight: bold\">}</span>        │\n",
              "│ embedding │ <span style=\"font-weight: bold\">&lt;</span><span style=\"color: #ff00ff; text-decoration-color: #ff00ff; font-weight: bold\">class</span><span style=\"color: #000000; text-decoration-color: #000000\"> </span><span style=\"color: #008000; text-decoration-color: #008000\">'numpy.ndarray'</span><span style=\"font-weight: bold\">&gt;</span> in shape <span style=\"font-weight: bold\">(</span><span style=\"color: #008080; text-decoration-color: #008080; font-weight: bold\">1000</span>,<span style=\"font-weight: bold\">)</span>, dtype: float32         │\n",
              "│ scores    │ <span style=\"color: #800080; text-decoration-color: #800080; font-weight: bold\">defaultdict</span><span style=\"font-weight: bold\">(&lt;</span><span style=\"color: #ff00ff; text-decoration-color: #ff00ff; font-weight: bold\">class</span><span style=\"color: #000000; text-decoration-color: #000000\"> </span><span style=\"color: #008000; text-decoration-color: #008000\">'docarray.score.NamedScore'</span><span style=\"font-weight: bold\">&gt;</span>, <span style=\"font-weight: bold\">{</span><span style=\"color: #008000; text-decoration-color: #008000\">'cosine'</span>:      │\n",
              "│           │ <span style=\"font-weight: bold\">{</span><span style=\"color: #008000; text-decoration-color: #008000\">'value'</span>: <span style=\"color: #008080; text-decoration-color: #008080; font-weight: bold\">0.23150372505187988</span><span style=\"font-weight: bold\">}})</span>                                 │\n",
              "╰───────────┴──────────────────────────────────────────────────────────────────╯\n",
              "</pre>\n"
            ],
            "text/plain": [
              "📄 \u001b[1mDocument\u001b[0m: \u001b[36m10439\u001b[0m\n",
              "╭───────────┬──────────────────────────────────────────────────────────────────╮\n",
              "│\u001b[1m \u001b[0m\u001b[1mAttribute\u001b[0m\u001b[1m \u001b[0m│\u001b[1m \u001b[0m\u001b[1mValue                                                           \u001b[0m\u001b[1m \u001b[0m│\n",
              "├───────────┼──────────────────────────────────────────────────────────────────┤\n",
              "│ adjacency │ \u001b[1;36m1\u001b[0m                                                                │\n",
              "│ tensor    │ \u001b[1m<\u001b[0m\u001b[1;95mclass\u001b[0m\u001b[39m \u001b[0m\u001b[32m'numpy.ndarray'\u001b[0m\u001b[1m>\u001b[0m in shape \u001b[1m(\u001b[0m\u001b[1;36m3\u001b[0m, \u001b[1;36m80\u001b[0m, \u001b[1;36m60\u001b[0m\u001b[1m)\u001b[0m, dtype: float32     │\n",
              "│ mime_type │ image/jpeg                                                       │\n",
              "│ uri       │ \u001b[35m/home/aswin/Data/archive/images/\u001b[0m\u001b[95m10439.jpg\u001b[0m                        │\n",
              "│ tags      │ \u001b[1m{\u001b[0m\u001b[32m'season'\u001b[0m: \u001b[32m'Fall'\u001b[0m, \u001b[32m'subCategory'\u001b[0m: \u001b[32m'Topwear'\u001b[0m, \u001b[32m'masterCategory'\u001b[0m:   │\n",
              "│           │ \u001b[32m'Apparel'\u001b[0m, \u001b[32m'gender'\u001b[0m: \u001b[32m'Men'\u001b[0m, \u001b[32m'productDisplayName'\u001b[0m: \u001b[32m'Flying \u001b[0m       │\n",
              "│           │ \u001b[32mMachine Men Walnut Brown Tshirts'\u001b[0m, \u001b[32m'articleType'\u001b[0m: \u001b[32m'Tshirts'\u001b[0m,     │\n",
              "│           │ \u001b[32m'usage'\u001b[0m: \u001b[32m'Casual'\u001b[0m, \u001b[32m'baseColour'\u001b[0m: \u001b[32m'Brown'\u001b[0m, \u001b[32m'year'\u001b[0m: \u001b[1;36m2011.0\u001b[0m\u001b[1m}\u001b[0m        │\n",
              "│ embedding │ \u001b[1m<\u001b[0m\u001b[1;95mclass\u001b[0m\u001b[39m \u001b[0m\u001b[32m'numpy.ndarray'\u001b[0m\u001b[1m>\u001b[0m in shape \u001b[1m(\u001b[0m\u001b[1;36m1000\u001b[0m,\u001b[1m)\u001b[0m, dtype: float32         │\n",
              "│ scores    │ \u001b[1;35mdefaultdict\u001b[0m\u001b[1m(\u001b[0m\u001b[1m<\u001b[0m\u001b[1;95mclass\u001b[0m\u001b[39m \u001b[0m\u001b[32m'docarray.score.NamedScore'\u001b[0m\u001b[1m>\u001b[0m, \u001b[1m{\u001b[0m\u001b[32m'cosine'\u001b[0m:      │\n",
              "│           │ \u001b[1m{\u001b[0m\u001b[32m'value'\u001b[0m: \u001b[1;36m0.23150372505187988\u001b[0m\u001b[1m}\u001b[0m\u001b[1m}\u001b[0m\u001b[1m)\u001b[0m                                 │\n",
              "╰───────────┴──────────────────────────────────────────────────────────────────╯\n"
            ]
          },
          "metadata": {},
          "output_type": "display_data"
        }
      ],
      "source": [
        "for m in resp[0].matches:\n",
        "    m.set_image_blob_channel_axis(0, -1).set_image_blob_inv_normalization()\n",
        "\n",
        "resp[0].matches[0]"
      ]
    },
    {
      "cell_type": "code",
      "execution_count": 18,
      "metadata": {},
      "outputs": [
        {
          "name": "stdout",
          "output_type": "stream",
          "text": [
            "(0.23150372505187988) id: 10439 tags: {'season': 'Fall', 'subCategory': 'Topwear', 'masterCategory': 'Apparel', 'gender': 'Men', 'productDisplayName': 'Flying Machine Men Walnut Brown Tshirts', 'articleType': 'Tshirts', 'usage': 'Casual', 'baseColour': 'Brown', 'year': 2011.0}\n"
          ]
        },
        {
          "data": {
            "image/png": "[encoded data removed]",
            "text/plain": [
              "<Figure size 432x288 with 1 Axes>"
            ]
          },
          "metadata": {
            "needs_background": "light"
          },
          "output_type": "display_data"
        },
        {
          "name": "stdout",
          "output_type": "stream",
          "text": [
            "(0.33637523651123047) id: 20258 tags: {'season': 'Fall', 'masterCategory': 'Apparel', 'productDisplayName': 'Wrangler Men Polo Charcoal T-shirt', 'usage': 'Casual', 'subCategory': 'Topwear', 'gender': 'Men', 'articleType': 'Tshirts', 'baseColour': 'Brown', 'year': 2011.0}\n"
          ]
        },
        {
          "data": {
            "image/png": "[encoded data removed]",
            "text/plain": [
              "<Figure size 432x288 with 1 Axes>"
            ]
          },
          "metadata": {
            "needs_background": "light"
          },
          "output_type": "display_data"
        },
        {
          "name": "stdout",
          "output_type": "stream",
          "text": [
            "(0.43648356199264526) id: 56825 tags: {'productDisplayName': 'John Players Men Brown Shirt', 'subCategory': 'Topwear', 'articleType': 'Shirts', 'season': 'Summer', 'usage': 'Casual', 'year': 2012.0, 'masterCategory': 'Apparel', 'baseColour': 'Brown', 'gender': 'Men'}\n"
          ]
        },
        {
          "data": {
            "image/png": "[encoded data removed]",
            "text/plain": [
              "<Figure size 432x288 with 1 Axes>"
            ]
          },
          "metadata": {
            "needs_background": "light"
          },
          "output_type": "display_data"
        },
        {
          "name": "stdout",
          "output_type": "stream",
          "text": [
            "(0.4557498097419739) id: 45856 tags: {'baseColour': 'Brown', 'articleType': 'Kurtas', 'masterCategory': 'Apparel', 'gender': 'Women', 'subCategory': 'Topwear', 'year': 2012.0, 'productDisplayName': 'Vishudh Women Brown Kurta', 'season': 'Summer', 'usage': 'Ethnic'}\n"
          ]
        },
        {
          "data": {
            "image/png": "[encoded data removed]",
            "text/plain": [
              "<Figure size 432x288 with 1 Axes>"
            ]
          },
          "metadata": {
            "needs_background": "light"
          },
          "output_type": "display_data"
        },
        {
          "name": "stdout",
          "output_type": "stream",
          "text": [
            "(0.46666663885116577) id: 27089 tags: {'year': 2012.0, 'articleType': 'Kurtas', 'season': 'Summer', 'usage': 'Ethnic', 'gender': 'Women', 'subCategory': 'Topwear', 'baseColour': 'Brown', 'productDisplayName': 'Aneri Women Jazz Brown Kurta', 'masterCategory': 'Apparel'}\n"
          ]
        },
        {
          "data": {
            "image/png": "[encoded data removed]",
            "text/plain": [
              "<Figure size 432x288 with 1 Axes>"
            ]
          },
          "metadata": {
            "needs_background": "light"
          },
          "output_type": "display_data"
        }
      ],
      "source": [
        "# for k, match in enumerate(doc.matches):\n",
        "for match in resp[0].matches:\n",
        "    print(f'({match.scores[\"cosine\"].value}) id: {match.id} tags: {dict(match.tags)}')\n",
        "    img = Image.open(match.uri)\n",
        "    imshow(img)\n",
        "    plt.title(f'{match.tags[\"productDisplayName\"]}')\n",
        "    plt.show()"
      ]
    },
    {
      "cell_type": "code",
      "execution_count": 16,
      "metadata": {},
      "outputs": [
        {
          "data": {
            "text/html": [
              "<pre style=\"white-space:pre;overflow-x:auto;line-height:normal;font-family:Menlo,'DejaVu Sans Mono',consolas,'Courier New',monospace\"><span style=\"color: #008000; text-decoration-color: #008000\">DEBUG </span> <span style=\"color: #7f7f7f; text-decoration-color: #7f7f7f\">GRPCClient@</span><span style=\"color: #7fbfbf; text-decoration-color: #7fbfbf; font-weight: bold\">35130</span> connected to <span style=\"color: #00ff00; text-decoration-color: #00ff00; font-weight: bold\">0.0.0.0</span>:<span style=\"color: #008080; text-decoration-color: #008080; font-weight: bold\">52850</span>                                              <span style=\"color: #7f7f7f; text-decoration-color: #7f7f7f\">[08/16/22 16:29:02]</span>\n",
              "</pre>\n"
            ],
            "text/plain": [
              "\u001b[32mDEBUG \u001b[0m \u001b[2mGRPCClient@\u001b[0m\u001b[1;2;36m35130\u001b[0m connected to \u001b[1;92m0.0.0.0\u001b[0m:\u001b[1;36m52850\u001b[0m                                              \u001b[2m[08/16/22 16:29:02]\u001b[0m\n"
            ]
          },
          "metadata": {},
          "output_type": "display_data"
        },
        {
          "data": {
            "application/vnd.jupyter.widget-view+json": {
              "model_id": "a19d63f26b8144b0bcf91bfa6c548991",
              "version_major": 2,
              "version_minor": 0
            },
            "text/plain": [
              "Output()"
            ]
          },
          "metadata": {},
          "output_type": "display_data"
        },
        {
          "data": {
            "text/html": [
              "<pre style=\"white-space:pre;overflow-x:auto;line-height:normal;font-family:Menlo,'DejaVu Sans Mono',consolas,'Courier New',monospace\"><span style=\"color: #808000; text-decoration-color: #808000; font-weight: bold\">DeprecationWarning: Kernel._parent_header is deprecated in ipykernel 6. Use .get_parent()</span> <span style=\"color: #000000; text-decoration-color: #000000; font-weight: bold\">(raised from </span>\n",
              "<span style=\"color: #000000; text-decoration-color: #000000; font-weight: bold\">/home/aswin/anaconda3/envs/jina/lib/python3.9/site-packages/ipywidgets/widgets/widget_output.py:111)</span>\n",
              "</pre>\n"
            ],
            "text/plain": [
              "\u001b[1;33mDeprecationWarning: Kernel._parent_header is deprecated in ipykernel 6. Use .get_parent()\u001b[0m \u001b[1;30m(raised from \u001b[0m\n",
              "\u001b[1;30m/home/aswin/anaconda3/envs/jina/lib/python3.9/site-packages/ipywidgets/widgets/widget_output.py:111)\u001b[0m\n"
            ]
          },
          "metadata": {},
          "output_type": "display_data"
        },
        {
          "data": {
            "text/html": [
              "<pre style=\"white-space:pre;overflow-x:auto;line-height:normal;font-family:Menlo,'DejaVu Sans Mono',consolas,'Courier New',monospace\"><span style=\"color: #808000; text-decoration-color: #808000; font-weight: bold\">DeprecationWarning: Kernel._parent_header is deprecated in ipykernel 6. Use .get_parent()</span> <span style=\"color: #000000; text-decoration-color: #000000; font-weight: bold\">(raised from </span>\n",
              "<span style=\"color: #000000; text-decoration-color: #000000; font-weight: bold\">/home/aswin/anaconda3/envs/jina/lib/python3.9/site-packages/ipywidgets/widgets/widget_output.py:112)</span>\n",
              "</pre>\n"
            ],
            "text/plain": [
              "\u001b[1;33mDeprecationWarning: Kernel._parent_header is deprecated in ipykernel 6. Use .get_parent()\u001b[0m \u001b[1;30m(raised from \u001b[0m\n",
              "\u001b[1;30m/home/aswin/anaconda3/envs/jina/lib/python3.9/site-packages/ipywidgets/widgets/widget_output.py:112)\u001b[0m\n"
            ]
          },
          "metadata": {},
          "output_type": "display_data"
        },
        {
          "data": {
            "text/html": [
              "<pre style=\"white-space:pre;overflow-x:auto;line-height:normal;font-family:Menlo,'DejaVu Sans Mono',consolas,'Courier New',monospace\"><span style=\"color: #808000; text-decoration-color: #808000; font-weight: bold\">DeprecationWarning: Kernel._parent_header is deprecated in ipykernel 6. Use .get_parent()</span> <span style=\"color: #000000; text-decoration-color: #000000; font-weight: bold\">(raised from </span>\n",
              "<span style=\"color: #000000; text-decoration-color: #000000; font-weight: bold\">/home/aswin/anaconda3/envs/jina/lib/python3.9/site-packages/ipywidgets/widgets/widget_output.py:111)</span>\n",
              "</pre>\n"
            ],
            "text/plain": [
              "\u001b[1;33mDeprecationWarning: Kernel._parent_header is deprecated in ipykernel 6. Use .get_parent()\u001b[0m \u001b[1;30m(raised from \u001b[0m\n",
              "\u001b[1;30m/home/aswin/anaconda3/envs/jina/lib/python3.9/site-packages/ipywidgets/widgets/widget_output.py:111)\u001b[0m\n"
            ]
          },
          "metadata": {},
          "output_type": "display_data"
        },
        {
          "data": {
            "text/html": [
              "<pre style=\"white-space:pre;overflow-x:auto;line-height:normal;font-family:Menlo,'DejaVu Sans Mono',consolas,'Courier New',monospace\"><span style=\"color: #808000; text-decoration-color: #808000; font-weight: bold\">DeprecationWarning: Kernel._parent_header is deprecated in ipykernel 6. Use .get_parent()</span> <span style=\"color: #000000; text-decoration-color: #000000; font-weight: bold\">(raised from </span>\n",
              "<span style=\"color: #000000; text-decoration-color: #000000; font-weight: bold\">/home/aswin/anaconda3/envs/jina/lib/python3.9/site-packages/ipywidgets/widgets/widget_output.py:112)</span>\n",
              "</pre>\n"
            ],
            "text/plain": [
              "\u001b[1;33mDeprecationWarning: Kernel._parent_header is deprecated in ipykernel 6. Use .get_parent()\u001b[0m \u001b[1;30m(raised from \u001b[0m\n",
              "\u001b[1;30m/home/aswin/anaconda3/envs/jina/lib/python3.9/site-packages/ipywidgets/widgets/widget_output.py:112)\u001b[0m\n"
            ]
          },
          "metadata": {},
          "output_type": "display_data"
        },
        {
          "data": {
            "text/html": [
              "<pre style=\"white-space:pre;overflow-x:auto;line-height:normal;font-family:Menlo,'DejaVu Sans Mono',consolas,'Courier New',monospace\"><span style=\"color: #808000; text-decoration-color: #808000; font-weight: bold\">DeprecationWarning: Kernel._parent_header is deprecated in ipykernel 6. Use .get_parent()</span> <span style=\"color: #000000; text-decoration-color: #000000; font-weight: bold\">(raised from </span>\n",
              "<span style=\"color: #000000; text-decoration-color: #000000; font-weight: bold\">/home/aswin/anaconda3/envs/jina/lib/python3.9/site-packages/ipywidgets/widgets/widget_output.py:111)</span>\n",
              "</pre>\n"
            ],
            "text/plain": [
              "\u001b[1;33mDeprecationWarning: Kernel._parent_header is deprecated in ipykernel 6. Use .get_parent()\u001b[0m \u001b[1;30m(raised from \u001b[0m\n",
              "\u001b[1;30m/home/aswin/anaconda3/envs/jina/lib/python3.9/site-packages/ipywidgets/widgets/widget_output.py:111)\u001b[0m\n"
            ]
          },
          "metadata": {},
          "output_type": "display_data"
        },
        {
          "data": {
            "text/html": [
              "<pre style=\"white-space:pre;overflow-x:auto;line-height:normal;font-family:Menlo,'DejaVu Sans Mono',consolas,'Courier New',monospace\"><span style=\"color: #808000; text-decoration-color: #808000; font-weight: bold\">DeprecationWarning: Kernel._parent_header is deprecated in ipykernel 6. Use .get_parent()</span> <span style=\"color: #000000; text-decoration-color: #000000; font-weight: bold\">(raised from </span>\n",
              "<span style=\"color: #000000; text-decoration-color: #000000; font-weight: bold\">/home/aswin/anaconda3/envs/jina/lib/python3.9/site-packages/ipywidgets/widgets/widget_output.py:112)</span>\n",
              "</pre>\n"
            ],
            "text/plain": [
              "\u001b[1;33mDeprecationWarning: Kernel._parent_header is deprecated in ipykernel 6. Use .get_parent()\u001b[0m \u001b[1;30m(raised from \u001b[0m\n",
              "\u001b[1;30m/home/aswin/anaconda3/envs/jina/lib/python3.9/site-packages/ipywidgets/widgets/widget_output.py:112)\u001b[0m\n"
            ]
          },
          "metadata": {},
          "output_type": "display_data"
        },
        {
          "data": {
            "text/html": [
              "<pre style=\"white-space:pre;overflow-x:auto;line-height:normal;font-family:Menlo,'DejaVu Sans Mono',consolas,'Courier New',monospace\"><span style=\"color: #808000; text-decoration-color: #808000; font-weight: bold\">DeprecationWarning: Kernel._parent_header is deprecated in ipykernel 6. Use .get_parent()</span> <span style=\"color: #000000; text-decoration-color: #000000; font-weight: bold\">(raised from </span>\n",
              "<span style=\"color: #000000; text-decoration-color: #000000; font-weight: bold\">/home/aswin/anaconda3/envs/jina/lib/python3.9/site-packages/ipywidgets/widgets/widget_output.py:111)</span>\n",
              "</pre>\n"
            ],
            "text/plain": [
              "\u001b[1;33mDeprecationWarning: Kernel._parent_header is deprecated in ipykernel 6. Use .get_parent()\u001b[0m \u001b[1;30m(raised from \u001b[0m\n",
              "\u001b[1;30m/home/aswin/anaconda3/envs/jina/lib/python3.9/site-packages/ipywidgets/widgets/widget_output.py:111)\u001b[0m\n"
            ]
          },
          "metadata": {},
          "output_type": "display_data"
        },
        {
          "data": {
            "text/html": [
              "<pre style=\"white-space:pre;overflow-x:auto;line-height:normal;font-family:Menlo,'DejaVu Sans Mono',consolas,'Courier New',monospace\"><span style=\"color: #808000; text-decoration-color: #808000; font-weight: bold\">DeprecationWarning: Kernel._parent_header is deprecated in ipykernel 6. Use .get_parent()</span> <span style=\"color: #000000; text-decoration-color: #000000; font-weight: bold\">(raised from </span>\n",
              "<span style=\"color: #000000; text-decoration-color: #000000; font-weight: bold\">/home/aswin/anaconda3/envs/jina/lib/python3.9/site-packages/ipywidgets/widgets/widget_output.py:112)</span>\n",
              "</pre>\n"
            ],
            "text/plain": [
              "\u001b[1;33mDeprecationWarning: Kernel._parent_header is deprecated in ipykernel 6. Use .get_parent()\u001b[0m \u001b[1;30m(raised from \u001b[0m\n",
              "\u001b[1;30m/home/aswin/anaconda3/envs/jina/lib/python3.9/site-packages/ipywidgets/widgets/widget_output.py:112)\u001b[0m\n"
            ]
          },
          "metadata": {},
          "output_type": "display_data"
        },
        {
          "data": {
            "text/html": [
              "<pre style=\"white-space:pre;overflow-x:auto;line-height:normal;font-family:Menlo,'DejaVu Sans Mono',consolas,'Courier New',monospace\"><span style=\"color: #808000; text-decoration-color: #808000; font-weight: bold\">DeprecationWarning: Kernel._parent_header is deprecated in ipykernel 6. Use .get_parent()</span> <span style=\"color: #000000; text-decoration-color: #000000; font-weight: bold\">(raised from </span>\n",
              "<span style=\"color: #000000; text-decoration-color: #000000; font-weight: bold\">/home/aswin/anaconda3/envs/jina/lib/python3.9/site-packages/ipywidgets/widgets/widget_output.py:111)</span>\n",
              "</pre>\n"
            ],
            "text/plain": [
              "\u001b[1;33mDeprecationWarning: Kernel._parent_header is deprecated in ipykernel 6. Use .get_parent()\u001b[0m \u001b[1;30m(raised from \u001b[0m\n",
              "\u001b[1;30m/home/aswin/anaconda3/envs/jina/lib/python3.9/site-packages/ipywidgets/widgets/widget_output.py:111)\u001b[0m\n"
            ]
          },
          "metadata": {},
          "output_type": "display_data"
        },
        {
          "data": {
            "text/html": [
              "<pre style=\"white-space:pre;overflow-x:auto;line-height:normal;font-family:Menlo,'DejaVu Sans Mono',consolas,'Courier New',monospace\"><span style=\"color: #808000; text-decoration-color: #808000; font-weight: bold\">DeprecationWarning: Kernel._parent_header is deprecated in ipykernel 6. Use .get_parent()</span> <span style=\"color: #000000; text-decoration-color: #000000; font-weight: bold\">(raised from </span>\n",
              "<span style=\"color: #000000; text-decoration-color: #000000; font-weight: bold\">/home/aswin/anaconda3/envs/jina/lib/python3.9/site-packages/ipywidgets/widgets/widget_output.py:112)</span>\n",
              "</pre>\n"
            ],
            "text/plain": [
              "\u001b[1;33mDeprecationWarning: Kernel._parent_header is deprecated in ipykernel 6. Use .get_parent()\u001b[0m \u001b[1;30m(raised from \u001b[0m\n",
              "\u001b[1;30m/home/aswin/anaconda3/envs/jina/lib/python3.9/site-packages/ipywidgets/widgets/widget_output.py:112)\u001b[0m\n"
            ]
          },
          "metadata": {},
          "output_type": "display_data"
        },
        {
          "data": {
            "text/html": [
              "<pre style=\"white-space:pre;overflow-x:auto;line-height:normal;font-family:Menlo,'DejaVu Sans Mono',consolas,'Courier New',monospace\"></pre>\n"
            ],
            "text/plain": []
          },
          "metadata": {},
          "output_type": "display_data"
        },
        {
          "data": {
            "text/html": [
              "<pre style=\"white-space:pre;overflow-x:auto;line-height:normal;font-family:Menlo,'DejaVu Sans Mono',consolas,'Courier New',monospace\">\n",
              "</pre>\n"
            ],
            "text/plain": [
              "\n"
            ]
          },
          "metadata": {},
          "output_type": "display_data"
        },
        {
          "name": "stderr",
          "output_type": "stream",
          "text": [
            "Exception in thread Thread-48:\n",
            "Traceback (most recent call last):\n",
            "  File \"/home/aswin/anaconda3/envs/jina/lib/python3.9/threading.py\", line 973, in _bootstrap_inner\n",
            "    self.run()\n",
            "  File \"/home/aswin/anaconda3/envs/jina/lib/python3.9/site-packages/jina/helper.py\", line 1292, in run\n",
            "    self.result = asyncio.run(func(*args, **kwargs))\n",
            "  File \"/home/aswin/anaconda3/envs/jina/lib/python3.9/asyncio/runners.py\", line 44, in run\n",
            "    return loop.run_until_complete(main)\n",
            "  File \"/home/aswin/anaconda3/envs/jina/lib/python3.9/asyncio/base_events.py\", line 647, in run_until_complete\n",
            "    return future.result()\n",
            "  File \"/home/aswin/anaconda3/envs/jina/lib/python3.9/site-packages/jina/clients/mixin.py\", line 176, in _get_results\n",
            "    async for resp in c._get_results(*args, **kwargs):\n",
            "  File \"/home/aswin/anaconda3/envs/jina/lib/python3.9/site-packages/jina/clients/base/grpc.py\", line 90, in _get_results\n",
            "    callback_exec(\n",
            "  File \"/home/aswin/anaconda3/envs/jina/lib/python3.9/site-packages/jina/clients/helper.py\", line 81, in callback_exec\n",
            "    raise BadServer(response.header)\n",
            "jina.excepts.BadServer: request_id: \"91d79ea4a4994ad0933ce9b0954fa48c\"\n",
            "status {\n",
            "  code: ERROR\n",
            "  description: \"ValueError(\\'Empty ndarray. Did you forget to set .embedding/.tensor value and now you are operating on it?\\')\"\n",
            "  exception {\n",
            "    name: \"ValueError\"\n",
            "    args: \"Empty ndarray. Did you forget to set .embedding/.tensor value and now you are operating on it?\"\n",
            "    stacks: \"Traceback (most recent call last):\\n\"\n",
            "    stacks: \"  File \\\"/home/aswin/anaconda3/envs/jina/lib/python3.9/site-packages/jina/serve/runtimes/worker/__init__.py\\\", line 166, in process_data\\n    return await self._data_request_handler.handle(requests=requests)\\n\"\n",
            "    stacks: \"  File \\\"/home/aswin/anaconda3/envs/jina/lib/python3.9/site-packages/jina/serve/runtimes/request_handlers/data_request_handler.py\\\", line 155, in handle\\n    return_data = await self._executor.__acall__(\\n\"\n",
            "    stacks: \"  File \\\"/home/aswin/anaconda3/envs/jina/lib/python3.9/site-packages/jina/serve/executors/__init__.py\\\", line 289, in __acall__\\n    return await self.__acall_endpoint__(req_endpoint, **kwargs)\\n\"\n",
            "    stacks: \"  File \\\"/home/aswin/anaconda3/envs/jina/lib/python3.9/site-packages/jina/serve/executors/__init__.py\\\", line 312, in __acall_endpoint__\\n    return func(self, **kwargs)\\n\"\n",
            "    stacks: \"  File \\\"/home/aswin/anaconda3/envs/jina/lib/python3.9/site-packages/jina/serve/executors/decorators.py\\\", line 216, in arg_wrapper\\n    return fn(executor_instance, *args, **kwargs)\\n\"\n",
            "    stacks: \"  File \\\"/home/aswin/.jina/hub-package/pn1qofsj/executor.py\\\", line 183, in search\\n    self._index.search(\\n\"\n",
            "    stacks: \"  File \\\"/home/aswin/anaconda3/envs/jina/lib/python3.9/site-packages/annlite/index.py\\\", line 260, in search\\n    query_np = to_numpy_array(docs.embeddings)\\n\"\n",
            "    stacks: \"  File \\\"/home/aswin/anaconda3/envs/jina/lib/python3.9/site-packages/docarray/math/ndarray.py\\\", line 151, in to_numpy_array\\n    framework, is_sparse = get_array_type(value)\\n\"\n",
            "    stacks: \"  File \\\"/home/aswin/anaconda3/envs/jina/lib/python3.9/site-packages/docarray/math/ndarray.py\\\", line 138, in get_array_type\\n    raise ValueError(\\n\"\n",
            "    stacks: \"ValueError: Empty ndarray. Did you forget to set .embedding/.tensor value and now you are operating on it?\\n\"\n",
            "    executor: \"AnnLiteIndexer\"\n",
            "  }\n",
            "}\n",
            "exec_endpoint: \"/search\"\n",
            "\n"
          ]
        },
        {
          "ename": "BadClient",
          "evalue": "something wrong when running the eventloop, result can not be retrieved",
          "output_type": "error",
          "traceback": [
            "\u001b[0;31m---------------------------------------------------------------------------\u001b[0m",
            "\u001b[0;31mAttributeError\u001b[0m                            Traceback (most recent call last)",
            "File \u001b[0;32m~/anaconda3/envs/jina/lib/python3.9/site-packages/jina/helper.py:1307\u001b[0m, in \u001b[0;36mrun_async\u001b[0;34m(func, *args, **kwargs)\u001b[0m\n\u001b[1;32m   1306\u001b[0m \u001b[39mtry\u001b[39;00m:\n\u001b[0;32m-> 1307\u001b[0m     \u001b[39mreturn\u001b[39;00m thread\u001b[39m.\u001b[39;49mresult\n\u001b[1;32m   1308\u001b[0m \u001b[39mexcept\u001b[39;00m \u001b[39mAttributeError\u001b[39;00m:\n",
            "\u001b[0;31mAttributeError\u001b[0m: '_RunThread' object has no attribute 'result'",
            "\nDuring handling of the above exception, another exception occurred:\n",
            "\u001b[0;31mBadClient\u001b[0m                                 Traceback (most recent call last)",
            "\u001b[1;32m/home/aswin/Documents/fashina/fashion_product_search.ipynb Cell 17\u001b[0m in \u001b[0;36m<cell line: 23>\u001b[0;34m()\u001b[0m\n\u001b[1;32m     <a href='vscode-notebook-cell:/home/aswin/Documents/fashina/fashion_product_search.ipynb#X22sZmlsZQ%3D%3D?line=20'>21</a>\u001b[0m         plt\u001b[39m.\u001b[39mtitle(\u001b[39mf\u001b[39m\u001b[39m'\u001b[39m\u001b[39m{\u001b[39;00mmatch\u001b[39m.\u001b[39mtags[\u001b[39m\"\u001b[39m\u001b[39mproductDisplayName\u001b[39m\u001b[39m\"\u001b[39m]\u001b[39m}\u001b[39;00m\u001b[39m'\u001b[39m)\n\u001b[1;32m     <a href='vscode-notebook-cell:/home/aswin/Documents/fashina/fashion_product_search.ipynb#X22sZmlsZQ%3D%3D?line=21'>22</a>\u001b[0m         plt\u001b[39m.\u001b[39mshow()\n\u001b[0;32m---> <a href='vscode-notebook-cell:/home/aswin/Documents/fashina/fashion_product_search.ipynb#X22sZmlsZQ%3D%3D?line=22'>23</a>\u001b[0m get_matches_from_image(query)\n",
            "\u001b[1;32m/home/aswin/Documents/fashina/fashion_product_search.ipynb Cell 17\u001b[0m in \u001b[0;36mget_matches_from_image\u001b[0;34m(input, limit, filters)\u001b[0m\n\u001b[1;32m      <a href='vscode-notebook-cell:/home/aswin/Documents/fashina/fashion_product_search.ipynb#X22sZmlsZQ%3D%3D?line=5'>6</a>\u001b[0m \u001b[39mdef\u001b[39;00m \u001b[39mget_matches_from_image\u001b[39m(\u001b[39minput\u001b[39m, limit\u001b[39m=\u001b[39m\u001b[39m3\u001b[39m, filters\u001b[39m=\u001b[39m\u001b[39mNone\u001b[39;00m):\n\u001b[1;32m      <a href='vscode-notebook-cell:/home/aswin/Documents/fashina/fashion_product_search.ipynb#X22sZmlsZQ%3D%3D?line=6'>7</a>\u001b[0m     \u001b[39m# data = input.read()\u001b[39;00m\n\u001b[1;32m      <a href='vscode-notebook-cell:/home/aswin/Documents/fashina/fashion_product_search.ipynb#X22sZmlsZQ%3D%3D?line=7'>8</a>\u001b[0m     \u001b[39m# query_doc = Document(blob=data)\u001b[39;00m\n\u001b[1;32m     <a href='vscode-notebook-cell:/home/aswin/Documents/fashina/fashion_product_search.ipynb#X22sZmlsZQ%3D%3D?line=9'>10</a>\u001b[0m     client \u001b[39m=\u001b[39m Client(host\u001b[39m=\u001b[39m\u001b[39m\"\u001b[39m\u001b[39m0.0.0.0:52850\u001b[39m\u001b[39m\"\u001b[39m)\n\u001b[0;32m---> <a href='vscode-notebook-cell:/home/aswin/Documents/fashina/fashion_product_search.ipynb#X22sZmlsZQ%3D%3D?line=10'>11</a>\u001b[0m     response \u001b[39m=\u001b[39m client\u001b[39m.\u001b[39;49msearch(\n\u001b[1;32m     <a href='vscode-notebook-cell:/home/aswin/Documents/fashina/fashion_product_search.ipynb#X22sZmlsZQ%3D%3D?line=11'>12</a>\u001b[0m         \u001b[39minput\u001b[39;49m,\n\u001b[1;32m     <a href='vscode-notebook-cell:/home/aswin/Documents/fashina/fashion_product_search.ipynb#X22sZmlsZQ%3D%3D?line=12'>13</a>\u001b[0m         return_results\u001b[39m=\u001b[39;49m\u001b[39mTrue\u001b[39;49;00m,\n\u001b[1;32m     <a href='vscode-notebook-cell:/home/aswin/Documents/fashina/fashion_product_search.ipynb#X22sZmlsZQ%3D%3D?line=13'>14</a>\u001b[0m         parameters\u001b[39m=\u001b[39;49m{\u001b[39m\"\u001b[39;49m\u001b[39mlimit\u001b[39;49m\u001b[39m\"\u001b[39;49m: limit, \u001b[39m\"\u001b[39;49m\u001b[39mfilter\u001b[39;49m\u001b[39m\"\u001b[39;49m: filters},\n\u001b[1;32m     <a href='vscode-notebook-cell:/home/aswin/Documents/fashina/fashion_product_search.ipynb#X22sZmlsZQ%3D%3D?line=14'>15</a>\u001b[0m         show_progress\u001b[39m=\u001b[39;49m\u001b[39mTrue\u001b[39;49;00m,\n\u001b[1;32m     <a href='vscode-notebook-cell:/home/aswin/Documents/fashina/fashion_product_search.ipynb#X22sZmlsZQ%3D%3D?line=15'>16</a>\u001b[0m     )\n\u001b[1;32m     <a href='vscode-notebook-cell:/home/aswin/Documents/fashina/fashion_product_search.ipynb#X22sZmlsZQ%3D%3D?line=16'>17</a>\u001b[0m     \u001b[39mfor\u001b[39;00m match \u001b[39min\u001b[39;00m response[\u001b[39m0\u001b[39m]\u001b[39m.\u001b[39mmatches:\n\u001b[1;32m     <a href='vscode-notebook-cell:/home/aswin/Documents/fashina/fashion_product_search.ipynb#X22sZmlsZQ%3D%3D?line=17'>18</a>\u001b[0m         \u001b[39mprint\u001b[39m(\u001b[39mf\u001b[39m\u001b[39m'\u001b[39m\u001b[39m(\u001b[39m\u001b[39m{\u001b[39;00mmatch\u001b[39m.\u001b[39mscores[\u001b[39m\"\u001b[39m\u001b[39mcosine\u001b[39m\u001b[39m\"\u001b[39m]\u001b[39m.\u001b[39mvalue\u001b[39m}\u001b[39;00m\u001b[39m) id: \u001b[39m\u001b[39m{\u001b[39;00mmatch\u001b[39m.\u001b[39mid\u001b[39m}\u001b[39;00m\u001b[39m tags: \u001b[39m\u001b[39m{\u001b[39;00m\u001b[39mdict\u001b[39m(match\u001b[39m.\u001b[39mtags)\u001b[39m}\u001b[39;00m\u001b[39m'\u001b[39m)\n",
            "File \u001b[0;32m~/anaconda3/envs/jina/lib/python3.9/site-packages/jina/clients/mixin.py:185\u001b[0m, in \u001b[0;36mPostMixin.post\u001b[0;34m(self, on, inputs, on_done, on_error, on_always, parameters, target_executor, request_size, show_progress, continue_on_error, return_responses, **kwargs)\u001b[0m\n\u001b[1;32m    182\u001b[0m     \u001b[39mif\u001b[39;00m return_results:\n\u001b[1;32m    183\u001b[0m         \u001b[39mreturn\u001b[39;00m result\n\u001b[0;32m--> 185\u001b[0m \u001b[39mreturn\u001b[39;00m run_async(\n\u001b[1;32m    186\u001b[0m     _get_results,\n\u001b[1;32m    187\u001b[0m     inputs\u001b[39m=\u001b[39;49minputs,\n\u001b[1;32m    188\u001b[0m     on_done\u001b[39m=\u001b[39;49mon_done,\n\u001b[1;32m    189\u001b[0m     on_error\u001b[39m=\u001b[39;49mon_error,\n\u001b[1;32m    190\u001b[0m     on_always\u001b[39m=\u001b[39;49mon_always,\n\u001b[1;32m    191\u001b[0m     exec_endpoint\u001b[39m=\u001b[39;49mon,\n\u001b[1;32m    192\u001b[0m     target_executor\u001b[39m=\u001b[39;49mtarget_executor,\n\u001b[1;32m    193\u001b[0m     parameters\u001b[39m=\u001b[39;49mparameters,\n\u001b[1;32m    194\u001b[0m     request_size\u001b[39m=\u001b[39;49mrequest_size,\n\u001b[1;32m    195\u001b[0m     \u001b[39m*\u001b[39;49m\u001b[39m*\u001b[39;49mkwargs,\n\u001b[1;32m    196\u001b[0m )\n",
            "File \u001b[0;32m~/anaconda3/envs/jina/lib/python3.9/site-packages/jina/helper.py:1311\u001b[0m, in \u001b[0;36mrun_async\u001b[0;34m(func, *args, **kwargs)\u001b[0m\n\u001b[1;32m   1308\u001b[0m     \u001b[39mexcept\u001b[39;00m \u001b[39mAttributeError\u001b[39;00m:\n\u001b[1;32m   1309\u001b[0m         \u001b[39mfrom\u001b[39;00m \u001b[39mjina\u001b[39;00m\u001b[39m.\u001b[39;00m\u001b[39mexcepts\u001b[39;00m \u001b[39mimport\u001b[39;00m BadClient\n\u001b[0;32m-> 1311\u001b[0m         \u001b[39mraise\u001b[39;00m BadClient(\n\u001b[1;32m   1312\u001b[0m             \u001b[39m'\u001b[39m\u001b[39msomething wrong when running the eventloop, result can not be retrieved\u001b[39m\u001b[39m'\u001b[39m\n\u001b[1;32m   1313\u001b[0m         )\n\u001b[1;32m   1314\u001b[0m \u001b[39melse\u001b[39;00m:\n\u001b[1;32m   1316\u001b[0m     \u001b[39mraise\u001b[39;00m \u001b[39mRuntimeError\u001b[39;00m(\n\u001b[1;32m   1317\u001b[0m         \u001b[39m'\u001b[39m\u001b[39myou have an eventloop running but not using Jupyter/ipython, \u001b[39m\u001b[39m'\u001b[39m\n\u001b[1;32m   1318\u001b[0m         \u001b[39m'\u001b[39m\u001b[39mthis may mean you are using Jina with other integration? if so, then you \u001b[39m\u001b[39m'\u001b[39m\n\u001b[1;32m   1319\u001b[0m         \u001b[39m'\u001b[39m\u001b[39mmay want to use Client/Flow(asyncio=True). If not, then \u001b[39m\u001b[39m'\u001b[39m\n\u001b[1;32m   1320\u001b[0m         \u001b[39m'\u001b[39m\u001b[39mplease report this issue here: https://github.com/jina-ai/jina\u001b[39m\u001b[39m'\u001b[39m\n\u001b[1;32m   1321\u001b[0m     )\n",
            "\u001b[0;31mBadClient\u001b[0m: something wrong when running the eventloop, result can not be retrieved"
          ]
        }
      ],
      "source": [
        "# input = DocumentArray.from_files(['/home/aswin/Data/archive/images/11110.jpg'])\n",
        "# model = torchvision.models.resnet50(pretrained=True)  # load ResNet50\n",
        "# input =img.embed(, batch_size=8, device='cpu', to_numpy=True)\n",
        "query = \"black dress\"\n",
        "from jina import Client\n",
        "def get_matches_from_image(input, limit=3, filters=None):\n",
        "    # data = input.read()\n",
        "    # query_doc = Document(blob=data)\n",
        "\n",
        "    client = Client(host=\"0.0.0.0:52850\")\n",
        "    response = client.search(\n",
        "        input,\n",
        "        return_results=True,\n",
        "        parameters={\"limit\": limit, \"filter\": filters},\n",
        "        show_progress=True,\n",
        "    )\n",
        "    for match in response[0].matches:\n",
        "        print(f'({match.scores[\"cosine\"].value}) id: {match.id} tags: {dict(match.tags)}')\n",
        "        img = Image.open(match.uri)\n",
        "        imshow(img)\n",
        "        plt.title(f'{match.tags[\"productDisplayName\"]}')\n",
        "        plt.show()\n",
        "get_matches_from_image(query)"
      ]
    },
    {
      "cell_type": "code",
      "execution_count": null,
      "metadata": {},
      "outputs": [],
      "source": []
    }
  ],
  "metadata": {
    "colab": {
      "collapsed_sections": [],
      "name": "fashion_product_search.ipynb",
      "provenance": []
    },
    "kernelspec": {
      "display_name": "Python 3.9.12 ('jina')",
      "language": "python",
      "name": "python3"
    },
    "language_info": {
      "codemirror_mode": {
        "name": "ipython",
        "version": 3
      },
      "file_extension": ".py",
      "mimetype": "text/x-python",
      "name": "python",
      "nbconvert_exporter": "python",
      "pygments_lexer": "ipython3",
      "version": "3.9.12"
    },
    "vscode": {
      "interpreter": {
        "hash": "062bb9b1ec01e9916229ee1a912381cbb5ea025b7159b710942000cb49f72727"
      }
    }
  },
  "nbformat": 4,
  "nbformat_minor": 0
}
